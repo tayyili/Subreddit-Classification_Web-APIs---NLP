{
 "cells": [
  {
   "cell_type": "markdown",
   "metadata": {},
   "source": [
    "<img src=\"http://imgur.com/1ZcRyrc.png\" style=\"float: left; margin: 20px; height: 55px\">\n",
    "\n",
    "# Project 3C: EDA_Visual_Model_Eval_Conclusion"
   ]
  },
  {
   "cell_type": "markdown",
   "metadata": {},
   "source": [
    "### Contents:\n",
    "- [Import Libraries](#Import-Libraries)\n",
    "- [Import Cleaned Data](#Import-Cleaned-Data)\n",
    "- [Data Dictionary](#Data-Dictionary)\n",
    "- [EDA & Pre-Modelling Data Visualisation](#EDA-&-Pre-Modelling-Data-Visualisation)\n",
    "    - [Summary Statistics](#Summary-Statistics)\n",
    "    - [Heatmap](#Heatmap)\n",
    "    - [N_grams](#N_grams)\n",
    "- [Modelling With Data Visualisations](#Modelling-With-Data-Visualisations)\n",
    "    - [Train Test Split](#Train-Test-Split)\n",
    "    - [Baseline](#Baseline)\n",
    "    - [Logistic Regression](#Logistic-Regression)\n",
    "    - [Multinomial Naive Bayes](#Multinomial-Naive-Bayes)\n",
    "    - [Decision Tree](#Decision-Tree)\n",
    "- [Evaluation](#Evaluation)\n",
    "    - [CountVec LogReg vs TfidfVec LogReg](#CountVec-LogReg-vs-TfidfVec-LogReg)\n",
    "    - [TfidfVec LogReg vs CountVec MultiNB](#TfidfVec-LogReg-vs-CountVec-MultiNB)\n",
    "    - [TfidfVec LogReg vs TfidfVec MultiNB](#TfidfVec-LogReg-vs-TfidfVec-MultiNB)\n",
    "    - [TfidfVec MultinomialNB vs CountVec Decision Tree](#TfidfVec-MultinomialNB-vs-CountVec-Decision-Tree)\n",
    "    - [TfidfVec MultinomialNB vs TfidfVec Decision Tree](#TfidfVec-MultinomialNB-vs-TfidfVec-Decision-Tree)\n",
    "    - [Chosen Model Hyperparameters](#Chosen-Model-Hyperparameters)\n",
    "- [Conclusions and Recommendations](#Conclusions-and-Recommendations)"
   ]
  },
  {
   "cell_type": "markdown",
   "metadata": {},
   "source": [
    "## Import Libraries"
   ]
  },
  {
   "cell_type": "code",
   "execution_count": 1,
   "metadata": {},
   "outputs": [],
   "source": [
    "import pandas as pd\n",
    "import numpy as np\n",
    "import matplotlib.pyplot as plt\n",
    "import seaborn as sns\n",
    "import nltk\n",
    "import regex as re\n",
    "\n",
    "#used to check the time elapsed since running\n",
    "from time import time\n",
    "\n",
    "from bs4 import BeautifulSoup\n",
    "\n",
    "#used to find most frequent words in the texts\n",
    "from collections import Counter\n",
    "\n",
    "from nltk.stem import WordNetLemmatizer\n",
    "\n",
    "from sklearn.model_selection import train_test_split, GridSearchCV\n",
    "from sklearn.linear_model import LogisticRegression\n",
    "from sklearn.naive_bayes import MultinomialNB\n",
    "from sklearn.feature_extraction.text import CountVectorizer, TfidfVectorizer\n",
    "from sklearn.pipeline import Pipeline\n",
    "from sklearn import metrics\n",
    "from sklearn.tree import DecisionTreeClassifier\n",
    "\n",
    "#hide warnings\n",
    "import warnings\n",
    "warnings.filterwarnings('ignore')"
   ]
  },
  {
   "cell_type": "markdown",
   "metadata": {},
   "source": [
    "## Import Cleaned Data"
   ]
  },
  {
   "cell_type": "code",
   "execution_count": 2,
   "metadata": {
    "scrolled": true
   },
   "outputs": [],
   "source": [
    "amd_cleaned = pd.read_csv('../data/amd_cleaned.csv')"
   ]
  },
  {
   "cell_type": "code",
   "execution_count": 3,
   "metadata": {},
   "outputs": [],
   "source": [
    "nvidia_cleaned = pd.read_csv('../data/nvidia_cleaned.csv')"
   ]
  },
  {
   "cell_type": "code",
   "execution_count": 4,
   "metadata": {},
   "outputs": [
    {
     "data": {
      "text/html": [
       "<div>\n",
       "<style scoped>\n",
       "    .dataframe tbody tr th:only-of-type {\n",
       "        vertical-align: middle;\n",
       "    }\n",
       "\n",
       "    .dataframe tbody tr th {\n",
       "        vertical-align: top;\n",
       "    }\n",
       "\n",
       "    .dataframe thead th {\n",
       "        text-align: right;\n",
       "    }\n",
       "</style>\n",
       "<table border=\"1\" class=\"dataframe\">\n",
       "  <thead>\n",
       "    <tr style=\"text-align: right;\">\n",
       "      <th></th>\n",
       "      <th>subreddit</th>\n",
       "      <th>num_comments</th>\n",
       "      <th>num_crossposts</th>\n",
       "      <th>score</th>\n",
       "      <th>total_awards_received</th>\n",
       "      <th>title_selftext</th>\n",
       "      <th>cleaned_texts</th>\n",
       "    </tr>\n",
       "  </thead>\n",
       "  <tbody>\n",
       "    <tr>\n",
       "      <th>0</th>\n",
       "      <td>1</td>\n",
       "      <td>0</td>\n",
       "      <td>0</td>\n",
       "      <td>1</td>\n",
       "      <td>0</td>\n",
       "      <td>3700x vs 5600x</td>\n",
       "      <td>x v x</td>\n",
       "    </tr>\n",
       "    <tr>\n",
       "      <th>1</th>\n",
       "      <td>1</td>\n",
       "      <td>0</td>\n",
       "      <td>0</td>\n",
       "      <td>1</td>\n",
       "      <td>0</td>\n",
       "      <td>How much is the difference between Amd 7 5800 ...</td>\n",
       "      <td>much difference amd v x worth pay x</td>\n",
       "    </tr>\n",
       "    <tr>\n",
       "      <th>2</th>\n",
       "      <td>1</td>\n",
       "      <td>0</td>\n",
       "      <td>0</td>\n",
       "      <td>1</td>\n",
       "      <td>0</td>\n",
       "      <td>RX 6800 vs RX 6700 XT</td>\n",
       "      <td>rx v rx xt</td>\n",
       "    </tr>\n",
       "    <tr>\n",
       "      <th>3</th>\n",
       "      <td>1</td>\n",
       "      <td>1</td>\n",
       "      <td>0</td>\n",
       "      <td>1</td>\n",
       "      <td>0</td>\n",
       "      <td>Will an AMD Wraith Stealth cooler fit on an AM...</td>\n",
       "      <td>amd wraith stealth cooler fit amd</td>\n",
       "    </tr>\n",
       "    <tr>\n",
       "      <th>4</th>\n",
       "      <td>1</td>\n",
       "      <td>0</td>\n",
       "      <td>0</td>\n",
       "      <td>1</td>\n",
       "      <td>0</td>\n",
       "      <td>What does 1.4v do to a 3600xt? Let's find out.</td>\n",
       "      <td>v xt let find</td>\n",
       "    </tr>\n",
       "  </tbody>\n",
       "</table>\n",
       "</div>"
      ],
      "text/plain": [
       "   subreddit  num_comments  num_crossposts  score  total_awards_received  \\\n",
       "0          1             0               0      1                      0   \n",
       "1          1             0               0      1                      0   \n",
       "2          1             0               0      1                      0   \n",
       "3          1             1               0      1                      0   \n",
       "4          1             0               0      1                      0   \n",
       "\n",
       "                                      title_selftext  \\\n",
       "0                                     3700x vs 5600x   \n",
       "1  How much is the difference between Amd 7 5800 ...   \n",
       "2                              RX 6800 vs RX 6700 XT   \n",
       "3  Will an AMD Wraith Stealth cooler fit on an AM...   \n",
       "4     What does 1.4v do to a 3600xt? Let's find out.   \n",
       "\n",
       "                         cleaned_texts  \n",
       "0                                x v x  \n",
       "1  much difference amd v x worth pay x  \n",
       "2                           rx v rx xt  \n",
       "3    amd wraith stealth cooler fit amd  \n",
       "4                        v xt let find  "
      ]
     },
     "execution_count": 4,
     "metadata": {},
     "output_type": "execute_result"
    }
   ],
   "source": [
    "amd_cleaned.head()"
   ]
  },
  {
   "cell_type": "code",
   "execution_count": 5,
   "metadata": {},
   "outputs": [
    {
     "data": {
      "text/html": [
       "<div>\n",
       "<style scoped>\n",
       "    .dataframe tbody tr th:only-of-type {\n",
       "        vertical-align: middle;\n",
       "    }\n",
       "\n",
       "    .dataframe tbody tr th {\n",
       "        vertical-align: top;\n",
       "    }\n",
       "\n",
       "    .dataframe thead th {\n",
       "        text-align: right;\n",
       "    }\n",
       "</style>\n",
       "<table border=\"1\" class=\"dataframe\">\n",
       "  <thead>\n",
       "    <tr style=\"text-align: right;\">\n",
       "      <th></th>\n",
       "      <th>subreddit</th>\n",
       "      <th>num_comments</th>\n",
       "      <th>num_crossposts</th>\n",
       "      <th>score</th>\n",
       "      <th>total_awards_received</th>\n",
       "      <th>title_selftext</th>\n",
       "      <th>cleaned_texts</th>\n",
       "    </tr>\n",
       "  </thead>\n",
       "  <tbody>\n",
       "    <tr>\n",
       "      <th>0</th>\n",
       "      <td>0</td>\n",
       "      <td>0</td>\n",
       "      <td>0</td>\n",
       "      <td>1</td>\n",
       "      <td>0</td>\n",
       "      <td>GFN Thursday: 14 New Games Join GeForce NOW</td>\n",
       "      <td>gfn thursday game join geforce</td>\n",
       "    </tr>\n",
       "    <tr>\n",
       "      <th>1</th>\n",
       "      <td>0</td>\n",
       "      <td>0</td>\n",
       "      <td>0</td>\n",
       "      <td>1</td>\n",
       "      <td>0</td>\n",
       "      <td>Where to buy GPU in ItalyHello everyone i'm fr...</td>\n",
       "      <td>buy gpu italyhello everyone brazil planning tr...</td>\n",
       "    </tr>\n",
       "    <tr>\n",
       "      <th>2</th>\n",
       "      <td>0</td>\n",
       "      <td>0</td>\n",
       "      <td>0</td>\n",
       "      <td>1</td>\n",
       "      <td>0</td>\n",
       "      <td>Really bad performance in gta 5 onlyI hadn’t p...</td>\n",
       "      <td>really bad performance gta onlyi played gta ye...</td>\n",
       "    </tr>\n",
       "    <tr>\n",
       "      <th>3</th>\n",
       "      <td>0</td>\n",
       "      <td>0</td>\n",
       "      <td>0</td>\n",
       "      <td>1</td>\n",
       "      <td>0</td>\n",
       "      <td>Unlocking gtx 1660ti I need  help me with unlo...</td>\n",
       "      <td>unlocking gtx ti need help unlocking power tem...</td>\n",
       "    </tr>\n",
       "    <tr>\n",
       "      <th>4</th>\n",
       "      <td>0</td>\n",
       "      <td>0</td>\n",
       "      <td>0</td>\n",
       "      <td>1</td>\n",
       "      <td>0</td>\n",
       "      <td>Why is my Geforce Experience doing this?</td>\n",
       "      <td>geforce experience</td>\n",
       "    </tr>\n",
       "  </tbody>\n",
       "</table>\n",
       "</div>"
      ],
      "text/plain": [
       "   subreddit  num_comments  num_crossposts  score  total_awards_received  \\\n",
       "0          0             0               0      1                      0   \n",
       "1          0             0               0      1                      0   \n",
       "2          0             0               0      1                      0   \n",
       "3          0             0               0      1                      0   \n",
       "4          0             0               0      1                      0   \n",
       "\n",
       "                                      title_selftext  \\\n",
       "0        GFN Thursday: 14 New Games Join GeForce NOW   \n",
       "1  Where to buy GPU in ItalyHello everyone i'm fr...   \n",
       "2  Really bad performance in gta 5 onlyI hadn’t p...   \n",
       "3  Unlocking gtx 1660ti I need  help me with unlo...   \n",
       "4           Why is my Geforce Experience doing this?   \n",
       "\n",
       "                                       cleaned_texts  \n",
       "0                     gfn thursday game join geforce  \n",
       "1  buy gpu italyhello everyone brazil planning tr...  \n",
       "2  really bad performance gta onlyi played gta ye...  \n",
       "3  unlocking gtx ti need help unlocking power tem...  \n",
       "4                                 geforce experience  "
      ]
     },
     "execution_count": 5,
     "metadata": {},
     "output_type": "execute_result"
    }
   ],
   "source": [
    "nvidia_cleaned.head()"
   ]
  },
  {
   "cell_type": "markdown",
   "metadata": {},
   "source": [
    "### Concatenate into 1 Dataframe\n",
    "\n",
    "We will concatenate the 2 subreddit dataframes into a single dataframe to aid in data visualisation and use the combined dataframe for modelling."
   ]
  },
  {
   "cell_type": "code",
   "execution_count": 6,
   "metadata": {},
   "outputs": [],
   "source": [
    "#concatenate both dataframes into 1\n",
    "df_both = pd.concat([amd_cleaned, nvidia_cleaned], axis=0)"
   ]
  },
  {
   "cell_type": "code",
   "execution_count": 7,
   "metadata": {
    "scrolled": true
   },
   "outputs": [
    {
     "data": {
      "text/html": [
       "<div>\n",
       "<style scoped>\n",
       "    .dataframe tbody tr th:only-of-type {\n",
       "        vertical-align: middle;\n",
       "    }\n",
       "\n",
       "    .dataframe tbody tr th {\n",
       "        vertical-align: top;\n",
       "    }\n",
       "\n",
       "    .dataframe thead th {\n",
       "        text-align: right;\n",
       "    }\n",
       "</style>\n",
       "<table border=\"1\" class=\"dataframe\">\n",
       "  <thead>\n",
       "    <tr style=\"text-align: right;\">\n",
       "      <th></th>\n",
       "      <th>subreddit</th>\n",
       "      <th>num_comments</th>\n",
       "      <th>num_crossposts</th>\n",
       "      <th>score</th>\n",
       "      <th>total_awards_received</th>\n",
       "      <th>title_selftext</th>\n",
       "      <th>cleaned_texts</th>\n",
       "    </tr>\n",
       "  </thead>\n",
       "  <tbody>\n",
       "    <tr>\n",
       "      <th>0</th>\n",
       "      <td>1</td>\n",
       "      <td>0</td>\n",
       "      <td>0</td>\n",
       "      <td>1</td>\n",
       "      <td>0</td>\n",
       "      <td>3700x vs 5600x</td>\n",
       "      <td>x v x</td>\n",
       "    </tr>\n",
       "    <tr>\n",
       "      <th>1</th>\n",
       "      <td>1</td>\n",
       "      <td>0</td>\n",
       "      <td>0</td>\n",
       "      <td>1</td>\n",
       "      <td>0</td>\n",
       "      <td>How much is the difference between Amd 7 5800 ...</td>\n",
       "      <td>much difference amd v x worth pay x</td>\n",
       "    </tr>\n",
       "    <tr>\n",
       "      <th>2</th>\n",
       "      <td>1</td>\n",
       "      <td>0</td>\n",
       "      <td>0</td>\n",
       "      <td>1</td>\n",
       "      <td>0</td>\n",
       "      <td>RX 6800 vs RX 6700 XT</td>\n",
       "      <td>rx v rx xt</td>\n",
       "    </tr>\n",
       "    <tr>\n",
       "      <th>3</th>\n",
       "      <td>1</td>\n",
       "      <td>1</td>\n",
       "      <td>0</td>\n",
       "      <td>1</td>\n",
       "      <td>0</td>\n",
       "      <td>Will an AMD Wraith Stealth cooler fit on an AM...</td>\n",
       "      <td>amd wraith stealth cooler fit amd</td>\n",
       "    </tr>\n",
       "    <tr>\n",
       "      <th>4</th>\n",
       "      <td>1</td>\n",
       "      <td>0</td>\n",
       "      <td>0</td>\n",
       "      <td>1</td>\n",
       "      <td>0</td>\n",
       "      <td>What does 1.4v do to a 3600xt? Let's find out.</td>\n",
       "      <td>v xt let find</td>\n",
       "    </tr>\n",
       "  </tbody>\n",
       "</table>\n",
       "</div>"
      ],
      "text/plain": [
       "   subreddit  num_comments  num_crossposts  score  total_awards_received  \\\n",
       "0          1             0               0      1                      0   \n",
       "1          1             0               0      1                      0   \n",
       "2          1             0               0      1                      0   \n",
       "3          1             1               0      1                      0   \n",
       "4          1             0               0      1                      0   \n",
       "\n",
       "                                      title_selftext  \\\n",
       "0                                     3700x vs 5600x   \n",
       "1  How much is the difference between Amd 7 5800 ...   \n",
       "2                              RX 6800 vs RX 6700 XT   \n",
       "3  Will an AMD Wraith Stealth cooler fit on an AM...   \n",
       "4     What does 1.4v do to a 3600xt? Let's find out.   \n",
       "\n",
       "                         cleaned_texts  \n",
       "0                                x v x  \n",
       "1  much difference amd v x worth pay x  \n",
       "2                           rx v rx xt  \n",
       "3    amd wraith stealth cooler fit amd  \n",
       "4                        v xt let find  "
      ]
     },
     "execution_count": 7,
     "metadata": {},
     "output_type": "execute_result"
    }
   ],
   "source": [
    "#amd = 1, nvidia = 0 under subreddit column\n",
    "df_both.head()"
   ]
  },
  {
   "cell_type": "code",
   "execution_count": 8,
   "metadata": {},
   "outputs": [
    {
     "data": {
      "text/html": [
       "<div>\n",
       "<style scoped>\n",
       "    .dataframe tbody tr th:only-of-type {\n",
       "        vertical-align: middle;\n",
       "    }\n",
       "\n",
       "    .dataframe tbody tr th {\n",
       "        vertical-align: top;\n",
       "    }\n",
       "\n",
       "    .dataframe thead th {\n",
       "        text-align: right;\n",
       "    }\n",
       "</style>\n",
       "<table border=\"1\" class=\"dataframe\">\n",
       "  <thead>\n",
       "    <tr style=\"text-align: right;\">\n",
       "      <th></th>\n",
       "      <th>subreddit</th>\n",
       "      <th>num_comments</th>\n",
       "      <th>num_crossposts</th>\n",
       "      <th>score</th>\n",
       "      <th>total_awards_received</th>\n",
       "      <th>title_selftext</th>\n",
       "      <th>cleaned_texts</th>\n",
       "    </tr>\n",
       "  </thead>\n",
       "  <tbody>\n",
       "    <tr>\n",
       "      <th>9995</th>\n",
       "      <td>0</td>\n",
       "      <td>5</td>\n",
       "      <td>0</td>\n",
       "      <td>1</td>\n",
       "      <td>0</td>\n",
       "      <td>Can I have 144hz on Ultra HD?I really like the...</td>\n",
       "      <td>hz ultra hd really like ultra hd feature feel ...</td>\n",
       "    </tr>\n",
       "    <tr>\n",
       "      <th>9996</th>\n",
       "      <td>0</td>\n",
       "      <td>4</td>\n",
       "      <td>0</td>\n",
       "      <td>1</td>\n",
       "      <td>0</td>\n",
       "      <td>Nvidia DemandPeople are sleeping out every nig...</td>\n",
       "      <td>nvidia demandpeople sleeping every night micro...</td>\n",
       "    </tr>\n",
       "    <tr>\n",
       "      <th>9997</th>\n",
       "      <td>0</td>\n",
       "      <td>3</td>\n",
       "      <td>0</td>\n",
       "      <td>1</td>\n",
       "      <td>0</td>\n",
       "      <td>So, that’s why nvidia doesn’t have any gpu ava...</td>\n",
       "      <td>nvidia gpu available gamers</td>\n",
       "    </tr>\n",
       "    <tr>\n",
       "      <th>9998</th>\n",
       "      <td>0</td>\n",
       "      <td>1</td>\n",
       "      <td>0</td>\n",
       "      <td>1</td>\n",
       "      <td>0</td>\n",
       "      <td>geforce 750M low usageHello, find my old lapto...</td>\n",
       "      <td>geforce low usagehello find old laptop asus n ...</td>\n",
       "    </tr>\n",
       "    <tr>\n",
       "      <th>9999</th>\n",
       "      <td>0</td>\n",
       "      <td>3</td>\n",
       "      <td>0</td>\n",
       "      <td>1</td>\n",
       "      <td>0</td>\n",
       "      <td>NEW GTX 1080 tiIs Nvidia resurrecting the 1080...</td>\n",
       "      <td>gtx tiis nvidia resurrecting ti handle gpu sho...</td>\n",
       "    </tr>\n",
       "  </tbody>\n",
       "</table>\n",
       "</div>"
      ],
      "text/plain": [
       "      subreddit  num_comments  num_crossposts  score  total_awards_received  \\\n",
       "9995          0             5               0      1                      0   \n",
       "9996          0             4               0      1                      0   \n",
       "9997          0             3               0      1                      0   \n",
       "9998          0             1               0      1                      0   \n",
       "9999          0             3               0      1                      0   \n",
       "\n",
       "                                         title_selftext  \\\n",
       "9995  Can I have 144hz on Ultra HD?I really like the...   \n",
       "9996  Nvidia DemandPeople are sleeping out every nig...   \n",
       "9997  So, that’s why nvidia doesn’t have any gpu ava...   \n",
       "9998  geforce 750M low usageHello, find my old lapto...   \n",
       "9999  NEW GTX 1080 tiIs Nvidia resurrecting the 1080...   \n",
       "\n",
       "                                          cleaned_texts  \n",
       "9995  hz ultra hd really like ultra hd feature feel ...  \n",
       "9996  nvidia demandpeople sleeping every night micro...  \n",
       "9997                        nvidia gpu available gamers  \n",
       "9998  geforce low usagehello find old laptop asus n ...  \n",
       "9999  gtx tiis nvidia resurrecting ti handle gpu sho...  "
      ]
     },
     "execution_count": 8,
     "metadata": {},
     "output_type": "execute_result"
    }
   ],
   "source": [
    "#amd = 1, nvidia = 0 under subreddit column\n",
    "df_both.tail()"
   ]
  },
  {
   "cell_type": "markdown",
   "metadata": {},
   "source": [
    "## Data Dictionary"
   ]
  },
  {
   "cell_type": "markdown",
   "metadata": {},
   "source": [
    "|Feature|Type|Dataset|Description|\n",
    "|---|---|---|---|\n",
    "|**subreddit**|*integer*|all datasets|The subreddit that each post originated from (AMD = 1, NVIDIA = 0)| \n",
    "|**num_comments**|*integer*|all datasets|The number of comments per post| \n",
    "|**num_crossposts**|*integer*|all datasets|The number of times the post was cross-posted to other subreddits| \n",
    "|**score**|*integer*|all datasets|The number of upvotes the posts received| \n",
    "|**total_awards_received**|*integer*|all datasets|The number of awards the post has received in total| \n",
    "|**title_selftext**|*string*|all datasets|The interaction term created, containing the post title concatenated with post description| \n",
    "|**cleaned_texts**|*string*|all datasets|The cleaned version of 'title_selftext' where links, punctuations and stopwords were removed and the text data was lemmatized to prepare for modelling| "
   ]
  },
  {
   "cell_type": "markdown",
   "metadata": {},
   "source": [
    "## EDA & Pre-Modelling Data Visualisation"
   ]
  },
  {
   "cell_type": "markdown",
   "metadata": {},
   "source": [
    "### Summary Statistics"
   ]
  },
  {
   "cell_type": "code",
   "execution_count": 9,
   "metadata": {},
   "outputs": [
    {
     "data": {
      "text/html": [
       "<div>\n",
       "<style scoped>\n",
       "    .dataframe tbody tr th:only-of-type {\n",
       "        vertical-align: middle;\n",
       "    }\n",
       "\n",
       "    .dataframe tbody tr th {\n",
       "        vertical-align: top;\n",
       "    }\n",
       "\n",
       "    .dataframe thead th {\n",
       "        text-align: right;\n",
       "    }\n",
       "</style>\n",
       "<table border=\"1\" class=\"dataframe\">\n",
       "  <thead>\n",
       "    <tr style=\"text-align: right;\">\n",
       "      <th></th>\n",
       "      <th>subreddit</th>\n",
       "      <th>num_comments</th>\n",
       "      <th>num_crossposts</th>\n",
       "      <th>score</th>\n",
       "      <th>total_awards_received</th>\n",
       "    </tr>\n",
       "  </thead>\n",
       "  <tbody>\n",
       "    <tr>\n",
       "      <th>count</th>\n",
       "      <td>10000.0</td>\n",
       "      <td>10000.000000</td>\n",
       "      <td>10000.0000</td>\n",
       "      <td>10000.000000</td>\n",
       "      <td>10000.000000</td>\n",
       "    </tr>\n",
       "    <tr>\n",
       "      <th>mean</th>\n",
       "      <td>1.0</td>\n",
       "      <td>16.700300</td>\n",
       "      <td>0.0001</td>\n",
       "      <td>1.995200</td>\n",
       "      <td>0.002100</td>\n",
       "    </tr>\n",
       "    <tr>\n",
       "      <th>std</th>\n",
       "      <td>0.0</td>\n",
       "      <td>52.286073</td>\n",
       "      <td>0.0100</td>\n",
       "      <td>25.085504</td>\n",
       "      <td>0.071387</td>\n",
       "    </tr>\n",
       "    <tr>\n",
       "      <th>min</th>\n",
       "      <td>1.0</td>\n",
       "      <td>0.000000</td>\n",
       "      <td>0.0000</td>\n",
       "      <td>0.000000</td>\n",
       "      <td>0.000000</td>\n",
       "    </tr>\n",
       "    <tr>\n",
       "      <th>25%</th>\n",
       "      <td>1.0</td>\n",
       "      <td>1.000000</td>\n",
       "      <td>0.0000</td>\n",
       "      <td>1.000000</td>\n",
       "      <td>0.000000</td>\n",
       "    </tr>\n",
       "    <tr>\n",
       "      <th>50%</th>\n",
       "      <td>1.0</td>\n",
       "      <td>2.000000</td>\n",
       "      <td>0.0000</td>\n",
       "      <td>1.000000</td>\n",
       "      <td>0.000000</td>\n",
       "    </tr>\n",
       "    <tr>\n",
       "      <th>75%</th>\n",
       "      <td>1.0</td>\n",
       "      <td>13.000000</td>\n",
       "      <td>0.0000</td>\n",
       "      <td>1.000000</td>\n",
       "      <td>0.000000</td>\n",
       "    </tr>\n",
       "    <tr>\n",
       "      <th>max</th>\n",
       "      <td>1.0</td>\n",
       "      <td>2041.000000</td>\n",
       "      <td>1.0000</td>\n",
       "      <td>1403.000000</td>\n",
       "      <td>5.000000</td>\n",
       "    </tr>\n",
       "  </tbody>\n",
       "</table>\n",
       "</div>"
      ],
      "text/plain": [
       "       subreddit  num_comments  num_crossposts         score  \\\n",
       "count    10000.0  10000.000000      10000.0000  10000.000000   \n",
       "mean         1.0     16.700300          0.0001      1.995200   \n",
       "std          0.0     52.286073          0.0100     25.085504   \n",
       "min          1.0      0.000000          0.0000      0.000000   \n",
       "25%          1.0      1.000000          0.0000      1.000000   \n",
       "50%          1.0      2.000000          0.0000      1.000000   \n",
       "75%          1.0     13.000000          0.0000      1.000000   \n",
       "max          1.0   2041.000000          1.0000   1403.000000   \n",
       "\n",
       "       total_awards_received  \n",
       "count           10000.000000  \n",
       "mean                0.002100  \n",
       "std                 0.071387  \n",
       "min                 0.000000  \n",
       "25%                 0.000000  \n",
       "50%                 0.000000  \n",
       "75%                 0.000000  \n",
       "max                 5.000000  "
      ]
     },
     "execution_count": 9,
     "metadata": {},
     "output_type": "execute_result"
    }
   ],
   "source": [
    "amd_cleaned.describe()"
   ]
  },
  {
   "cell_type": "code",
   "execution_count": 10,
   "metadata": {
    "scrolled": true
   },
   "outputs": [
    {
     "data": {
      "text/html": [
       "<div>\n",
       "<style scoped>\n",
       "    .dataframe tbody tr th:only-of-type {\n",
       "        vertical-align: middle;\n",
       "    }\n",
       "\n",
       "    .dataframe tbody tr th {\n",
       "        vertical-align: top;\n",
       "    }\n",
       "\n",
       "    .dataframe thead th {\n",
       "        text-align: right;\n",
       "    }\n",
       "</style>\n",
       "<table border=\"1\" class=\"dataframe\">\n",
       "  <thead>\n",
       "    <tr style=\"text-align: right;\">\n",
       "      <th></th>\n",
       "      <th>subreddit</th>\n",
       "      <th>num_comments</th>\n",
       "      <th>num_crossposts</th>\n",
       "      <th>score</th>\n",
       "      <th>total_awards_received</th>\n",
       "    </tr>\n",
       "  </thead>\n",
       "  <tbody>\n",
       "    <tr>\n",
       "      <th>count</th>\n",
       "      <td>10000.0</td>\n",
       "      <td>10000.000000</td>\n",
       "      <td>10000.000000</td>\n",
       "      <td>10000.000000</td>\n",
       "      <td>10000.000000</td>\n",
       "    </tr>\n",
       "    <tr>\n",
       "      <th>mean</th>\n",
       "      <td>0.0</td>\n",
       "      <td>13.762400</td>\n",
       "      <td>0.000600</td>\n",
       "      <td>1.719100</td>\n",
       "      <td>0.001400</td>\n",
       "    </tr>\n",
       "    <tr>\n",
       "      <th>std</th>\n",
       "      <td>0.0</td>\n",
       "      <td>67.343266</td>\n",
       "      <td>0.028279</td>\n",
       "      <td>24.653466</td>\n",
       "      <td>0.046886</td>\n",
       "    </tr>\n",
       "    <tr>\n",
       "      <th>min</th>\n",
       "      <td>0.0</td>\n",
       "      <td>0.000000</td>\n",
       "      <td>0.000000</td>\n",
       "      <td>0.000000</td>\n",
       "      <td>0.000000</td>\n",
       "    </tr>\n",
       "    <tr>\n",
       "      <th>25%</th>\n",
       "      <td>0.0</td>\n",
       "      <td>0.000000</td>\n",
       "      <td>0.000000</td>\n",
       "      <td>1.000000</td>\n",
       "      <td>0.000000</td>\n",
       "    </tr>\n",
       "    <tr>\n",
       "      <th>50%</th>\n",
       "      <td>0.0</td>\n",
       "      <td>2.000000</td>\n",
       "      <td>0.000000</td>\n",
       "      <td>1.000000</td>\n",
       "      <td>0.000000</td>\n",
       "    </tr>\n",
       "    <tr>\n",
       "      <th>75%</th>\n",
       "      <td>0.0</td>\n",
       "      <td>8.000000</td>\n",
       "      <td>0.000000</td>\n",
       "      <td>1.000000</td>\n",
       "      <td>0.000000</td>\n",
       "    </tr>\n",
       "    <tr>\n",
       "      <th>max</th>\n",
       "      <td>0.0</td>\n",
       "      <td>3635.000000</td>\n",
       "      <td>2.000000</td>\n",
       "      <td>1573.000000</td>\n",
       "      <td>3.000000</td>\n",
       "    </tr>\n",
       "  </tbody>\n",
       "</table>\n",
       "</div>"
      ],
      "text/plain": [
       "       subreddit  num_comments  num_crossposts         score  \\\n",
       "count    10000.0  10000.000000    10000.000000  10000.000000   \n",
       "mean         0.0     13.762400        0.000600      1.719100   \n",
       "std          0.0     67.343266        0.028279     24.653466   \n",
       "min          0.0      0.000000        0.000000      0.000000   \n",
       "25%          0.0      0.000000        0.000000      1.000000   \n",
       "50%          0.0      2.000000        0.000000      1.000000   \n",
       "75%          0.0      8.000000        0.000000      1.000000   \n",
       "max          0.0   3635.000000        2.000000   1573.000000   \n",
       "\n",
       "       total_awards_received  \n",
       "count           10000.000000  \n",
       "mean                0.001400  \n",
       "std                 0.046886  \n",
       "min                 0.000000  \n",
       "25%                 0.000000  \n",
       "50%                 0.000000  \n",
       "75%                 0.000000  \n",
       "max                 3.000000  "
      ]
     },
     "execution_count": 10,
     "metadata": {},
     "output_type": "execute_result"
    }
   ],
   "source": [
    "nvidia_cleaned.describe()"
   ]
  },
  {
   "cell_type": "markdown",
   "metadata": {},
   "source": [
    "#### num_comments\n",
    "\n",
    "The average number of comments per post (num_comments column) between the AMD and NVIDIA subreddits are similar. \n",
    "\n",
    "With such a small difference in the average number of comments, we do not expect this column to have significant impact on our models.\n",
    "\n",
    "Avg number of comments in AMD: 16.70\n",
    "\n",
    "Avg number of comments in NVIDIA: 13.79"
   ]
  },
  {
   "cell_type": "markdown",
   "metadata": {},
   "source": [
    "#### num_crossposts\n",
    "\n",
    "While NVIDIA seems to see more crossposts (num_crossposts column) than AMD by comparing the average values, the number of crossposts in both subreddits are very few in general.\n",
    "\n",
    "Seeing how small the average number of crossposts is, this column is unlikely to have significant impact on our models.\n",
    "\n",
    "Avg number of crossposts in AMD: 0.0001\n",
    "\n",
    "Avg number of crossposts in NVIDIA: 0.0006"
   ]
  },
  {
   "cell_type": "markdown",
   "metadata": {},
   "source": [
    "#### score\n",
    "\n",
    "For score (score column), there is only a very slight difference in the average score between AMD and NVIDIA.\n",
    "\n",
    "This small difference in value is likely not going to affect our models.\n",
    "\n",
    "Avg number of score in AMD: 1.995\n",
    "\n",
    "Avg number of score in NVIDIA: 1.719"
   ]
  },
  {
   "cell_type": "markdown",
   "metadata": {},
   "source": [
    "#### total_awards_received\n",
    "\n",
    "Comparing the average awards recieved per post (total_awards_received column), we see that AMD posts seem to get more awards compared NVIDIA posts.\n",
    "However, similar to the number of crossposts, the number of awards per post in both subreddits are very few in general and the average awards in both subreddit is small as a result.\n",
    "\n",
    "The awards column is likely to have minimal impact on our model.\n",
    "\n",
    "\n",
    "Avg number of score in AMD: 0.0021\n",
    "\n",
    "Avg number of score in NVIDIA: 0.0014"
   ]
  },
  {
   "cell_type": "markdown",
   "metadata": {},
   "source": [
    "<b>To determine if our analysis and conclusions on the different numerical columns in the dataframe is true, we will plot the heatmap in the next section and take a look at the correlation of the columns with our target (subreddit column).</b>"
   ]
  },
  {
   "cell_type": "markdown",
   "metadata": {},
   "source": [
    "### Heatmap\n",
    "\n",
    "Plotting the heatmap to confirm the correlations between the columns (excluding cleaned_text column) with the subreddits and decide if they should be used in our models."
   ]
  },
  {
   "cell_type": "code",
   "execution_count": 11,
   "metadata": {},
   "outputs": [
    {
     "data": {
      "image/png": "[encoded data removed]",
      "text/plain": [
       "<Figure size 720x288 with 2 Axes>"
      ]
     },
     "metadata": {
      "needs_background": "light"
     },
     "output_type": "display_data"
    }
   ],
   "source": [
    "#heatmap cell size\n",
    "plt.figure(figsize = (10, 4))\n",
    "\n",
    "#correlation matrix\n",
    "corr = df_both.iloc[:, 0:6].corr()\n",
    "\n",
    "#mask for upper triangle of heatmap\n",
    "mask = np.triu(np.ones_like(corr, dtype=bool))\n",
    "\n",
    "heatmap = sns.heatmap(corr, annot=True, cmap='rocket_r', mask=mask);\n",
    "\n",
    "heatmap.set_title('Heatmap Correlation', pad=10.0, fontsize=14);\n",
    "\n",
    "plt.savefig('../plots/heatmap.png', bbox_inches=\"tight\", dpi=300);\n",
    "\n",
    "plt.show;\n"
   ]
  },
  {
   "cell_type": "markdown",
   "metadata": {},
   "source": [
    "Focusing on the values on the leftmost section of the heatmap, the numerical columns do not seem to have much correlation with the subreddit column judging from how small the correlation values to the subreddit column is.\n",
    "\n",
    "<b>Therefore, for our modelling, we will not be using any of these numerical columns and will instead focus on the texts (cleaned_texts column) to help in the classification.</b>"
   ]
  },
  {
   "cell_type": "markdown",
   "metadata": {},
   "source": [
    "### N_grams\n",
    "\n",
    "Different N_grams range will give us different top frequent words which will help with classification in our model depending on the context formed.\n",
    "\n",
    "Here, we will take a look at the top 15 frequent words for a few different N_gram values and see how each differs before deciding on a range we want to feed into GridSearchCV for optimisation."
   ]
  },
  {
   "cell_type": "markdown",
   "metadata": {},
   "source": [
    "#### Combined Dataframe\n",
    "\n",
    "We will first analyse the top 15 frequent words in the combined dataframe containing both AMD and NVIDIA."
   ]
  },
  {
   "cell_type": "markdown",
   "metadata": {},
   "source": [
    "##### Unigram (1 gram) top 15 words"
   ]
  },
  {
   "cell_type": "code",
   "execution_count": 12,
   "metadata": {},
   "outputs": [],
   "source": [
    "#vectorise text\n",
    "cvec_uni = CountVectorizer(ngram_range=(1,1), max_features=3000)"
   ]
  },
  {
   "cell_type": "code",
   "execution_count": 13,
   "metadata": {},
   "outputs": [],
   "source": [
    "cleaned_cvec_uni = cvec_uni.fit_transform(df_both['cleaned_texts'])"
   ]
  },
  {
   "cell_type": "code",
   "execution_count": 14,
   "metadata": {},
   "outputs": [],
   "source": [
    "#convert into dataframe to plot top occuring words\n",
    "cleaned_cvec_uni_df = pd.DataFrame(cleaned_cvec_uni.todense(), columns=cvec_uni.get_feature_names())"
   ]
  },
  {
   "cell_type": "code",
   "execution_count": 15,
   "metadata": {},
   "outputs": [
    {
     "data": {
      "image/png": "[encoded data removed]",
      "text/plain": [
       "<Figure size 432x288 with 1 Axes>"
      ]
     },
     "metadata": {
      "needs_background": "light"
     },
     "output_type": "display_data"
    }
   ],
   "source": [
    "combine_uni_ax = cleaned_cvec_uni_df.sum().sort_values(ascending=False).head(15).plot(kind='barh', color='C9');\n",
    "\n",
    "combine_uni_ax.set_title('Unigram Top 15 Words in Combined Dataframe', pad=10.0, fontsize=14);\n",
    "combine_uni_ax.set_xlabel('Frequency', fontsize=12);\n",
    "\n",
    "plt.show();"
   ]
  },
  {
   "cell_type": "markdown",
   "metadata": {},
   "source": [
    "##### Bigram (2 grams) top 15 words"
   ]
  },
  {
   "cell_type": "code",
   "execution_count": 16,
   "metadata": {},
   "outputs": [],
   "source": [
    "#vectorise text\n",
    "cvec_bi = CountVectorizer(ngram_range=(2,2), max_features=3000)"
   ]
  },
  {
   "cell_type": "code",
   "execution_count": 17,
   "metadata": {},
   "outputs": [],
   "source": [
    "cleaned_cvec_bi = cvec_bi.fit_transform(df_both['cleaned_texts'])"
   ]
  },
  {
   "cell_type": "code",
   "execution_count": 18,
   "metadata": {},
   "outputs": [],
   "source": [
    "#convert into dataframe to plot top occuring words\n",
    "cleaned_cvec_bi_df = pd.DataFrame(cleaned_cvec_bi.todense(), columns=cvec_bi.get_feature_names())"
   ]
  },
  {
   "cell_type": "code",
   "execution_count": 19,
   "metadata": {},
   "outputs": [
    {
     "data": {
      "image/png": "[encoded data removed]",
      "text/plain": [
       "<Figure size 432x288 with 1 Axes>"
      ]
     },
     "metadata": {
      "needs_background": "light"
     },
     "output_type": "display_data"
    }
   ],
   "source": [
    "combine_bi_ax = cleaned_cvec_bi_df.sum().sort_values(ascending=False).head(15).plot(kind='barh', color='C9');\n",
    "\n",
    "combine_bi_ax.set_title('Bigram Top 15 Words in Combined Dataframe', pad=10.0, fontsize=14);\n",
    "combine_bi_ax.set_xlabel('Frequency', fontsize=12);\n",
    "\n",
    "plt.show();"
   ]
  },
  {
   "cell_type": "markdown",
   "metadata": {},
   "source": [
    "##### Trigram (3 grams) top 15 words"
   ]
  },
  {
   "cell_type": "code",
   "execution_count": 20,
   "metadata": {},
   "outputs": [],
   "source": [
    "#vectorise text\n",
    "cvec_tri = CountVectorizer(ngram_range=(3,3), max_features=3000)"
   ]
  },
  {
   "cell_type": "code",
   "execution_count": 21,
   "metadata": {},
   "outputs": [],
   "source": [
    "cleaned_cvec_tri = cvec_tri.fit_transform(df_both['cleaned_texts'])"
   ]
  },
  {
   "cell_type": "code",
   "execution_count": 22,
   "metadata": {},
   "outputs": [],
   "source": [
    "#convert into dataframe to plot top occuring words\n",
    "cleaned_cvec_tri_df = pd.DataFrame(cleaned_cvec_tri.todense(), columns=cvec_tri.get_feature_names())"
   ]
  },
  {
   "cell_type": "code",
   "execution_count": 23,
   "metadata": {
    "scrolled": false
   },
   "outputs": [
    {
     "data": {
      "image/png": "[encoded data removed]",
      "text/plain": [
       "<Figure size 432x288 with 1 Axes>"
      ]
     },
     "metadata": {
      "needs_background": "light"
     },
     "output_type": "display_data"
    }
   ],
   "source": [
    "combine_tri_ax = cleaned_cvec_tri_df.sum().sort_values(ascending=False).head(15).plot(kind='barh', color='C9');\n",
    "\n",
    "combine_tri_ax.set_title('Trigram Top 15 Words in Combined Dataframe', pad=10.0, fontsize=14);\n",
    "combine_tri_ax.set_xlabel('Frequency', fontsize=12);\n",
    "\n",
    "plt.show();"
   ]
  },
  {
   "cell_type": "markdown",
   "metadata": {},
   "source": [
    "##### Quadgram (4 grams) top 15 words"
   ]
  },
  {
   "cell_type": "code",
   "execution_count": 24,
   "metadata": {},
   "outputs": [],
   "source": [
    "#vectorise text\n",
    "cvec_quad = CountVectorizer(ngram_range=(4,4), max_features=3000)"
   ]
  },
  {
   "cell_type": "code",
   "execution_count": 25,
   "metadata": {},
   "outputs": [],
   "source": [
    "cleaned_cvec_quad = cvec_quad.fit_transform(df_both['cleaned_texts'])"
   ]
  },
  {
   "cell_type": "code",
   "execution_count": 26,
   "metadata": {},
   "outputs": [],
   "source": [
    "#convert into dataframe to plot top occuring words\n",
    "cleaned_cvec_quad_df = pd.DataFrame(cleaned_cvec_quad.todense(), columns=cvec_quad.get_feature_names())"
   ]
  },
  {
   "cell_type": "code",
   "execution_count": 27,
   "metadata": {},
   "outputs": [
    {
     "data": {
      "image/png": "[encoded data removed]",
      "text/plain": [
       "<Figure size 432x288 with 1 Axes>"
      ]
     },
     "metadata": {
      "needs_background": "light"
     },
     "output_type": "display_data"
    }
   ],
   "source": [
    "combine_quad_ax = cleaned_cvec_quad_df.sum().sort_values(ascending=False).head(15).plot(kind='barh', color='C9');\n",
    "\n",
    "combine_quad_ax.set_title('Quadgram Top 15 Words in Combined Dataframe', pad=10.0, fontsize=14);\n",
    "combine_quad_ax.set_xlabel('Frequency', fontsize=12);\n",
    "\n",
    "plt.show();"
   ]
  },
  {
   "cell_type": "markdown",
   "metadata": {},
   "source": [
    "Comparing the N_grams above, we see that the bigram and trigram seems to give the most useful word combinations as they make more sense and gives more context than the unigram.\n",
    "\n",
    "Quadgram, on the other hand, seems to have a tendency of returning lines with repeated words like \"amd ryzen amd ryzen\". This does not add more value to what was found using bigram and trigram. \n",
    "\n",
    "<b>Therefore, we will run N_gram ranges from 1 to 3 through GridSearchCV to pull out the optimal N_gram for each model.</b>"
   ]
  },
  {
   "cell_type": "markdown",
   "metadata": {},
   "source": [
    "Next, we will look at the top 15 frequent words of the AMD and NVIDIA dataframe respectively, using the 2 different N_grams we found to be most useful above (bigrams and trigrams).\n",
    "\n",
    "The purpose in doing this is to determine if there is a distinct difference between the 2 subreddits with regards to the words and context formed. \n",
    "\n",
    "If the frequently found words in both subreddits are extremely similar, there is a high chance that the model will not be able to classify correctly.\n",
    "\n",
    "Additionally, analysing the list of most frequently used words unique to each subreddit may allow us to gain additional insight on what can be done further to improve the model's predictions and classifications."
   ]
  },
  {
   "cell_type": "markdown",
   "metadata": {},
   "source": [
    "#### AMD Only"
   ]
  },
  {
   "cell_type": "markdown",
   "metadata": {},
   "source": [
    "##### AMD Bigrams (2 grams) top 15 words"
   ]
  },
  {
   "cell_type": "code",
   "execution_count": 28,
   "metadata": {},
   "outputs": [],
   "source": [
    "#vectorise text\n",
    "cvec_amd_bi = CountVectorizer(ngram_range=(2,2), max_features=3000)"
   ]
  },
  {
   "cell_type": "code",
   "execution_count": 29,
   "metadata": {},
   "outputs": [],
   "source": [
    "cleaned_cvec_amd_bi = cvec_amd_bi.fit_transform(amd_cleaned['cleaned_texts'])"
   ]
  },
  {
   "cell_type": "code",
   "execution_count": 30,
   "metadata": {},
   "outputs": [],
   "source": [
    "#convert into dataframe to plot top occuring words\n",
    "cleaned_cvec_amd_bi_df = pd.DataFrame(cleaned_cvec_amd_bi.todense(), columns=cvec_amd_bi.get_feature_names())"
   ]
  },
  {
   "cell_type": "code",
   "execution_count": 31,
   "metadata": {},
   "outputs": [
    {
     "data": {
      "image/png": "[encoded data removed]",
      "text/plain": [
       "<Figure size 432x288 with 1 Axes>"
      ]
     },
     "metadata": {
      "needs_background": "light"
     },
     "output_type": "display_data"
    }
   ],
   "source": [
    "amd_bi_ax = cleaned_cvec_amd_bi_df.sum().sort_values(ascending=False).head(15).plot(kind='barh', color='#FFC8BA');\n",
    "\n",
    "amd_bi_ax.set_title('Bigram Top 15 Words in AMD Dataframe', pad=10.0, fontsize=14);\n",
    "amd_bi_ax.set_xlabel('Frequency', fontsize=12);\n",
    "\n",
    "plt.show();"
   ]
  },
  {
   "cell_type": "markdown",
   "metadata": {},
   "source": [
    "##### AMD Trigrams (3 grams) top 15 words"
   ]
  },
  {
   "cell_type": "code",
   "execution_count": 32,
   "metadata": {},
   "outputs": [],
   "source": [
    "#vectorise text\n",
    "cvec_amd_tri = CountVectorizer(ngram_range=(3,3), max_features=3000)"
   ]
  },
  {
   "cell_type": "code",
   "execution_count": 33,
   "metadata": {},
   "outputs": [],
   "source": [
    "cleaned_cvec_amd_tri = cvec_amd_tri.fit_transform(amd_cleaned['cleaned_texts'])"
   ]
  },
  {
   "cell_type": "code",
   "execution_count": 34,
   "metadata": {},
   "outputs": [],
   "source": [
    "#convert into dataframe to plot top occuring words\n",
    "cleaned_cvec_amd_tri_df = pd.DataFrame(cleaned_cvec_amd_tri.todense(), columns=cvec_amd_tri.get_feature_names())"
   ]
  },
  {
   "cell_type": "code",
   "execution_count": 35,
   "metadata": {},
   "outputs": [
    {
     "data": {
      "image/png": "[encoded data removed]",
      "text/plain": [
       "<Figure size 432x288 with 1 Axes>"
      ]
     },
     "metadata": {
      "needs_background": "light"
     },
     "output_type": "display_data"
    }
   ],
   "source": [
    "amd_tri_ax = cleaned_cvec_amd_tri_df.sum().sort_values(ascending=False).head(15).plot(kind='barh', color='#FFC8BA');\n",
    "\n",
    "amd_tri_ax.set_title('Trigram Top 15 Words in AMD Dataframe', pad=10.0, fontsize=14);\n",
    "amd_tri_ax.set_xlabel('Frequency', fontsize=12);\n",
    "\n",
    "plt.savefig('../plots/amd_tri_top15.png', bbox_inches=\"tight\", dpi=300)\n",
    "\n",
    "plt.show();"
   ]
  },
  {
   "cell_type": "markdown",
   "metadata": {},
   "source": [
    "#### NVIDIA Only"
   ]
  },
  {
   "cell_type": "markdown",
   "metadata": {},
   "source": [
    "##### NVIDIA Bigrams (2 grams) top 15 words"
   ]
  },
  {
   "cell_type": "code",
   "execution_count": 36,
   "metadata": {},
   "outputs": [],
   "source": [
    "#vectorise text\n",
    "cvec_nvidia_bi = CountVectorizer(ngram_range=(2,2), max_features=3000)"
   ]
  },
  {
   "cell_type": "code",
   "execution_count": 37,
   "metadata": {},
   "outputs": [],
   "source": [
    "cleaned_cvec_nvidia_bi = cvec_nvidia_bi.fit_transform(nvidia_cleaned['cleaned_texts'])"
   ]
  },
  {
   "cell_type": "code",
   "execution_count": 38,
   "metadata": {},
   "outputs": [],
   "source": [
    "#convert into dataframe to plot top occuring words\n",
    "cleaned_cvec_nvidia_bi_df = pd.DataFrame(cleaned_cvec_nvidia_bi.todense(), columns=cvec_nvidia_bi.get_feature_names())"
   ]
  },
  {
   "cell_type": "code",
   "execution_count": 39,
   "metadata": {
    "scrolled": true
   },
   "outputs": [
    {
     "data": {
      "image/png": "[encoded data removed]",
      "text/plain": [
       "<Figure size 432x288 with 1 Axes>"
      ]
     },
     "metadata": {
      "needs_background": "light"
     },
     "output_type": "display_data"
    }
   ],
   "source": [
    "nvidia_bi_ax = cleaned_cvec_nvidia_bi_df.sum().sort_values(ascending=False).head(15).plot(kind='barh', color='#E3AAD6');\n",
    "\n",
    "nvidia_bi_ax.set_title('Bigram Top 15 Words in NVIDIA Dataframe', pad=10.0, fontsize=14);\n",
    "nvidia_bi_ax.set_xlabel('Frequency', fontsize=12);\n",
    "\n",
    "plt.show();"
   ]
  },
  {
   "cell_type": "markdown",
   "metadata": {},
   "source": [
    "##### NVIDIA Trigrams (3 grams) top 15 words"
   ]
  },
  {
   "cell_type": "code",
   "execution_count": 40,
   "metadata": {},
   "outputs": [],
   "source": [
    "#vectorise text\n",
    "cvec_nvidia_tri = CountVectorizer(ngram_range=(3,3), max_features=3000)"
   ]
  },
  {
   "cell_type": "code",
   "execution_count": 41,
   "metadata": {},
   "outputs": [],
   "source": [
    "cleaned_cvec_nvidia_tri = cvec_nvidia_tri.fit_transform(nvidia_cleaned['cleaned_texts'])"
   ]
  },
  {
   "cell_type": "code",
   "execution_count": 42,
   "metadata": {},
   "outputs": [],
   "source": [
    "#convert into dataframe to plot top occuring words\n",
    "cleaned_cvec_nvidia_tri_df = pd.DataFrame(cleaned_cvec_nvidia_tri.todense(), columns=cvec_nvidia_tri.get_feature_names())"
   ]
  },
  {
   "cell_type": "code",
   "execution_count": 43,
   "metadata": {
    "scrolled": true
   },
   "outputs": [
    {
     "data": {
      "image/png": "[encoded data removed]",
      "text/plain": [
       "<Figure size 432x288 with 1 Axes>"
      ]
     },
     "metadata": {
      "needs_background": "light"
     },
     "output_type": "display_data"
    }
   ],
   "source": [
    "nvidia_tri_ax = cleaned_cvec_nvidia_tri_df.sum().sort_values(ascending=False).head(15).plot(kind='barh', color='#E3AAD6');\n",
    "\n",
    "nvidia_tri_ax.set_title('Trigram Top 15 Words in NVIDIA Dataframe', pad=10.0, fontsize=14);\n",
    "nvidia_tri_ax.set_xlabel('Frequency', fontsize=12);\n",
    "\n",
    "plt.savefig('../plots/nvidia_tri_top15.png', bbox_inches=\"tight\", dpi=300)\n",
    "\n",
    "plt.show();"
   ]
  },
  {
   "cell_type": "markdown",
   "metadata": {},
   "source": [
    "Comparing the N-gram plots for both AMD and NVIDIA, we see that the most frequently used words are largely different between the 2 subreddits.\n",
    "\n",
    "Our models should be able to achieve our goal of learning and classifying the 2 subreddits properly.\n",
    "\n",
    "In addition, words like 'ryzen' or 'geforce' seem to appear very frequently in the AMD and NVIDIA subreddits respectively. These words are actually from the product models of AMD and NVIDIA and are therefore unique to their respective subreddits.\n",
    "\n",
    "This information would be important for us in classification and can be included into our recommendations for customer questions to always include their product models."
   ]
  },
  {
   "cell_type": "markdown",
   "metadata": {},
   "source": [
    "Next, we compare the number of words before text processing with the number of words after text processing. This will give us an idea of how much 'noise' was in the data we scrapped, which would have negatively affected our final model's subreddit prediction."
   ]
  },
  {
   "cell_type": "code",
   "execution_count": 44,
   "metadata": {},
   "outputs": [],
   "source": [
    "#define a function that counts the number of words in the data\n",
    "def list_to_count(text_column):\n",
    "\n",
    "    #change to lowercase\n",
    "    lower_step2 = [word.lower() for word in text_column]\n",
    "    \n",
    "    #split words in the list of text\n",
    "    split_list = str(lower_step2).split()\n",
    "    \n",
    "    return len(split_list)"
   ]
  },
  {
   "cell_type": "code",
   "execution_count": 45,
   "metadata": {},
   "outputs": [
    {
     "data": {
      "text/plain": [
       "949160"
      ]
     },
     "execution_count": 45,
     "metadata": {},
     "output_type": "execute_result"
    }
   ],
   "source": [
    "#word count of texts in dataframe before text processing \n",
    "words_before = list_to_count(df_both['title_selftext'])\n",
    "\n",
    "words_before"
   ]
  },
  {
   "cell_type": "code",
   "execution_count": 46,
   "metadata": {
    "scrolled": false
   },
   "outputs": [
    {
     "data": {
      "text/plain": [
       "517626"
      ]
     },
     "execution_count": 46,
     "metadata": {},
     "output_type": "execute_result"
    }
   ],
   "source": [
    "#word count of texts in dataframe after text processing\n",
    "words_after = list_to_count(df_both['cleaned_texts'])\n",
    "\n",
    "words_after"
   ]
  },
  {
   "cell_type": "markdown",
   "metadata": {},
   "source": [
    "The number of words reduced from 950883 to 518593 after text processing, which is almost a 50% drop."
   ]
  },
  {
   "cell_type": "code",
   "execution_count": 47,
   "metadata": {},
   "outputs": [
    {
     "data": {
      "image/png": "[encoded data removed]",
      "text/plain": [
       "<Figure size 432x288 with 1 Axes>"
      ]
     },
     "metadata": {
      "needs_background": "light"
     },
     "output_type": "display_data"
    }
   ],
   "source": [
    "#plot bar graph to show drop\n",
    "\n",
    "words = {'words_before': words_before, 'words_after': words_after}\n",
    "words_df = pd.DataFrame(words, index=['words'])\n",
    "\n",
    "words_df_ax = sns.barplot(data=words_df, order=['words_before', 'words_after'], palette=('Set2'))\n",
    "\n",
    "words_df_ax.set_title('Number of Words After Text Processing\\n(almost 50% drop)', pad=10.0, fontsize=14);\n",
    "words_df_ax.set_ylabel('Number of Words', fontsize=13);\n",
    "words_df_ax.set_xlabel('Before and After Text Processing', fontsize=13);\n",
    "words_df_ax.set_xticklabels(labels=['Before', 'After'], rotation=360);\n",
    "\n",
    "plt.savefig('../plots/WordCount_BeforeAfter.png', bbox_inches=\"tight\", dpi=300);\n",
    "\n",
    "plt.show();"
   ]
  },
  {
   "cell_type": "markdown",
   "metadata": {},
   "source": [
    "This removes a lot of dirty data that would have messed with our classification predictions and caused inaccuracies in the modelling. The data is now much more focused on the important keywords that will aid in the classification predictions."
   ]
  },
  {
   "cell_type": "markdown",
   "metadata": {},
   "source": [
    "## Modelling With Data Visualisations"
   ]
  },
  {
   "cell_type": "markdown",
   "metadata": {},
   "source": [
    "For the modelling, we will be using 3 different types of models, based on what was learned so far:\n",
    "1. Logistic Regression\n",
    "2. Multinomial Naive Bayes\n",
    "3. Decision Tree"
   ]
  },
  {
   "cell_type": "markdown",
   "metadata": {},
   "source": [
    "We will also be using 2 types of Vectorizers: \n",
    "1. CountVectorizer \n",
    "2. TfidfVectorizer"
   ]
  },
  {
   "cell_type": "markdown",
   "metadata": {},
   "source": [
    "The following is the list of different combinations that we will be attempting:\n",
    "1. CountVectorizer with Multinomial Naive Bayes\n",
    "2. TfidfVectorizer with Multinomial Naive Bayes\n",
    "3. CountVectorizer with Logistic Regression\n",
    "4. TfidfVectorizer with Logisitic Regression\n",
    "3. CountVectorizer with Decision Tree\n",
    "4. TfidfVectorizer with Decision Tree"
   ]
  },
  {
   "cell_type": "markdown",
   "metadata": {},
   "source": [
    "For our models, we will be comparing the Train and Test Accuracy score, the Sensitivity and Specificity score and also the Area Under Curve (AUC).\n",
    "\n",
    "The scores and their comparisons will be explained under [Evaluation](#Evaluation), when we have collated the required values from all models."
   ]
  },
  {
   "cell_type": "markdown",
   "metadata": {},
   "source": [
    "### Train Test Split\n",
    "\n",
    "Train size = 75%\n",
    "\n",
    "Test size = 25%"
   ]
  },
  {
   "cell_type": "code",
   "execution_count": 48,
   "metadata": {},
   "outputs": [],
   "source": [
    "#train test split --> stratify balances the distribution of data in each train test set \n",
    "X_train, X_test, y_train, y_test = train_test_split(df_both['cleaned_texts'], \n",
    "                                                    df_both['subreddit'], \n",
    "                                                    train_size=0.75, \n",
    "                                                    stratify=df_both['subreddit'])"
   ]
  },
  {
   "cell_type": "markdown",
   "metadata": {},
   "source": [
    "### Baseline\n",
    "\n",
    "Our Baseline will be the score we get in the event where we predict that everything in the test set is equal to 1, which in this case means we predict that everything in our test set is from the AMD subreddit."
   ]
  },
  {
   "cell_type": "code",
   "execution_count": 49,
   "metadata": {},
   "outputs": [
    {
     "data": {
      "text/plain": [
       "0    0.5\n",
       "1    0.5\n",
       "Name: subreddit, dtype: float64"
      ]
     },
     "execution_count": 49,
     "metadata": {},
     "output_type": "execute_result"
    }
   ],
   "source": [
    "#predict everything \n",
    "y_test.value_counts(normalize=True)"
   ]
  },
  {
   "cell_type": "markdown",
   "metadata": {},
   "source": [
    "The Baseline score is 50:50, indicating that each post has a 50% chance of being in either of the subreddits. This way of classification will definitely struggle with making accurate predictions."
   ]
  },
  {
   "cell_type": "markdown",
   "metadata": {},
   "source": [
    "We will run the different combination of models with tuned hyperparameters and see if any of the other models are able to beat this Baseline."
   ]
  },
  {
   "cell_type": "markdown",
   "metadata": {},
   "source": [
    "### Logistic Regression"
   ]
  },
  {
   "cell_type": "markdown",
   "metadata": {},
   "source": [
    "#### CountVectorizer with Logistic Regression"
   ]
  },
  {
   "cell_type": "code",
   "execution_count": 50,
   "metadata": {},
   "outputs": [
    {
     "name": "stdout",
     "output_type": "stream",
     "text": [
      "Time taken to run: 235.09 seconds\n"
     ]
    }
   ],
   "source": [
    "#run start time in seconds\n",
    "start = time()\n",
    "\n",
    "#set pipeline for count vectorization then logistic regression\n",
    "cv_lr = Pipeline([('cvec', CountVectorizer()), \n",
    "                  ('lr', LogisticRegression(solver='lbfgs', max_iter=10_000, penalty='l2'))\n",
    "                 ])\n",
    "\n",
    "\n",
    "#set parameters for the piepline that will go through gridsearchcv to find the optimal values\n",
    "cv_lr_params = {'cvec__max_features': [3000, 5000], \n",
    "                'cvec__ngram_range': [(1,2), (1,3), (2,3)], \n",
    "                'cvec__min_df': [5, 7], #ignore words that appears in less than specified number of docs \n",
    "                'cvec__max_df': [0.1, 0.3], #ignore words that appears in more than specified % of docs \n",
    "                'lr__C': list(np.linspace(0.01, 1, 3))\n",
    "               }\n",
    "\n",
    "#instantiate GridSearchCV for tuning hyperparameters\n",
    "gs_cv_lr = GridSearchCV(cv_lr, \n",
    "                        param_grid=cv_lr_params, \n",
    "                        cv=3)\n",
    "\n",
    "#fit GridSearchCV to training data\n",
    "gs_cv_lr.fit(X_train, y_train)\n",
    "\n",
    "#amount of time taken to run in seconds\n",
    "time_taken = time() - start\n",
    "print('Time taken to run:', round(time_taken, 2), 'seconds')"
   ]
  },
  {
   "cell_type": "code",
   "execution_count": 51,
   "metadata": {
    "scrolled": false
   },
   "outputs": [
    {
     "name": "stdout",
     "output_type": "stream",
     "text": [
      "Best Parameters: Pipeline(steps=[('cvec',\n",
      "                 CountVectorizer(max_df=0.3, max_features=5000, min_df=5,\n",
      "                                 ngram_range=(1, 3))),\n",
      "                ('lr', LogisticRegression(C=0.505, max_iter=10000))])\n"
     ]
    }
   ],
   "source": [
    "#get the best optimised parameters\n",
    "gs_cv_lr_est = gs_cv_lr.best_estimator_\n",
    "\n",
    "print('Best Parameters:', gs_cv_lr_est)"
   ]
  },
  {
   "cell_type": "code",
   "execution_count": 52,
   "metadata": {},
   "outputs": [
    {
     "data": {
      "text/plain": [
       "0.868"
      ]
     },
     "execution_count": 52,
     "metadata": {},
     "output_type": "execute_result"
    }
   ],
   "source": [
    "#get the mean cross validated train score\n",
    "gs_cv_lr_train = gs_cv_lr.best_score_.round(3)\n",
    "\n",
    "gs_cv_lr_train"
   ]
  },
  {
   "cell_type": "code",
   "execution_count": 53,
   "metadata": {
    "scrolled": true
   },
   "outputs": [
    {
     "data": {
      "text/plain": [
       "0.87"
      ]
     },
     "execution_count": 53,
     "metadata": {},
     "output_type": "execute_result"
    }
   ],
   "source": [
    "#get the test score\n",
    "gs_cv_lr_test = gs_cv_lr.score(X_test, y_test).round(3)\n",
    "\n",
    "gs_cv_lr_test"
   ]
  },
  {
   "cell_type": "code",
   "execution_count": 54,
   "metadata": {},
   "outputs": [
    {
     "data": {
      "image/png": "[encoded data removed]",
      "text/plain": [
       "<Figure size 432x288 with 2 Axes>"
      ]
     },
     "metadata": {
      "needs_background": "light"
     },
     "output_type": "display_data"
    }
   ],
   "source": [
    "#plotting confusion matrix where 1 = AMD (Positives) and 0 = NVIDIA (Negatives)\n",
    "metrics.plot_confusion_matrix(gs_cv_lr, X_test, y_test, cmap='Blues', \n",
    "                              values_format='d', display_labels=['NVIDIA', 'AMD']);"
   ]
  },
  {
   "cell_type": "code",
   "execution_count": 55,
   "metadata": {},
   "outputs": [
    {
     "name": "stdout",
     "output_type": "stream",
     "text": [
      "0.89\n",
      "0.85\n"
     ]
    }
   ],
   "source": [
    "#calculating sensitivity and specificity to see how good our model is at classifying both classes on test set\n",
    "tn1, fp1, fn1, tp1 = metrics.confusion_matrix(y_test, gs_cv_lr.predict(X_test)).ravel()\n",
    "\n",
    "sens1 = (tp1 / (tp1 + fn1)).round(2)\n",
    "spec1 = (tn1 / (tn1 + fp1)).round(2)\n",
    "\n",
    "print(sens1)\n",
    "print(spec1)"
   ]
  },
  {
   "cell_type": "code",
   "execution_count": 56,
   "metadata": {},
   "outputs": [
    {
     "data": {
      "text/plain": [
       "0.949"
      ]
     },
     "execution_count": 56,
     "metadata": {},
     "output_type": "execute_result"
    }
   ],
   "source": [
    "#area under curve score on test set --> measure of ability to distinguish between positive and negative classes\n",
    "#higher value = model is better at classifying true positives and true negatives correctly\n",
    "gs_cv_lr_auc = metrics.roc_auc_score(y_test, gs_cv_lr.predict_proba(X_test)[:, 1]).round(3)\n",
    "\n",
    "gs_cv_lr_auc"
   ]
  },
  {
   "cell_type": "code",
   "execution_count": 57,
   "metadata": {
    "scrolled": true
   },
   "outputs": [
    {
     "data": {
      "image/png": "[encoded data removed]",
      "text/plain": [
       "<Figure size 432x288 with 1 Axes>"
      ]
     },
     "metadata": {
      "needs_background": "light"
     },
     "output_type": "display_data"
    }
   ],
   "source": [
    "#get the area under curve score --> measure of the ability to distinguish between the positive and negative classes\n",
    "metrics.plot_roc_curve(gs_cv_lr, X_test, y_test)\n",
    "plt.plot([0, 1], [0, 1], label='baseline', linestyle='--')\n",
    "plt.legend();"
   ]
  },
  {
   "cell_type": "markdown",
   "metadata": {},
   "source": [
    "#### TfidfVectorizer with Logisitic Regression"
   ]
  },
  {
   "cell_type": "code",
   "execution_count": 58,
   "metadata": {},
   "outputs": [
    {
     "name": "stdout",
     "output_type": "stream",
     "text": [
      "Time taken to run: 226.93 seconds\n"
     ]
    }
   ],
   "source": [
    "#run start time in seconds\n",
    "start = time()\n",
    "\n",
    "#set pipeline for tfidf vectorization then logistic regression\n",
    "tfidf_lr = Pipeline([('tfidf', TfidfVectorizer()), \n",
    "                     ('lr', LogisticRegression(solver='lbfgs', max_iter=10_000, penalty='l2'))\n",
    "                    ])\n",
    "\n",
    "\n",
    "#set parameters for the piepline that will go through gridsearchcv to find the optimal values\n",
    "tfidf_lr_params = {'tfidf__max_features': [1000, 3000], \n",
    "                   'tfidf__ngram_range': [(1,2), (1,3), (2,3)], \n",
    "                   'tfidf__min_df': [2, 3], #ignore words that appears in less than specified number of docs \n",
    "                   'tfidf__max_df': [0.1, 0.3], #ignore words that appears in more than specified % of docs \n",
    "                   'lr__C': list(np.linspace(0.01, 2.0, 3))\n",
    "                  }\n",
    "\n",
    "#instantiate GridSearchCV for tuning hyperparameters\n",
    "gs_tfidf_lr = GridSearchCV(tfidf_lr, \n",
    "                           param_grid=tfidf_lr_params, \n",
    "                           cv=3)\n",
    "\n",
    "#fit GridSearchCV to training data\n",
    "gs_tfidf_lr.fit(X_train, y_train)\n",
    "\n",
    "#amount of time taken to run in seconds\n",
    "time_taken = time() - start\n",
    "print('Time taken to run:', round(time_taken, 2), 'seconds')"
   ]
  },
  {
   "cell_type": "code",
   "execution_count": 59,
   "metadata": {
    "scrolled": true
   },
   "outputs": [
    {
     "name": "stdout",
     "output_type": "stream",
     "text": [
      "Best Parameters: Pipeline(steps=[('tfidf',\n",
      "                 TfidfVectorizer(max_df=0.3, max_features=3000, min_df=2,\n",
      "                                 ngram_range=(1, 2))),\n",
      "                ('lr', LogisticRegression(C=1.005, max_iter=10000))])\n"
     ]
    }
   ],
   "source": [
    "#get best optimised parameters\n",
    "gs_tfidf_lr_est = gs_tfidf_lr.best_estimator_\n",
    "\n",
    "print('Best Parameters:', gs_tfidf_lr_est)"
   ]
  },
  {
   "cell_type": "code",
   "execution_count": 60,
   "metadata": {
    "scrolled": true
   },
   "outputs": [
    {
     "data": {
      "text/plain": [
       "0.874"
      ]
     },
     "execution_count": 60,
     "metadata": {},
     "output_type": "execute_result"
    }
   ],
   "source": [
    "#get mean cross validated trains score\n",
    "gs_tfidf_lr_train = gs_tfidf_lr.best_score_.round(3)\n",
    "\n",
    "gs_tfidf_lr_train"
   ]
  },
  {
   "cell_type": "code",
   "execution_count": 61,
   "metadata": {},
   "outputs": [
    {
     "data": {
      "text/plain": [
       "0.874"
      ]
     },
     "execution_count": 61,
     "metadata": {},
     "output_type": "execute_result"
    }
   ],
   "source": [
    "#get test score\n",
    "gs_tfidf_lr_test = gs_tfidf_lr.score(X_test, y_test).round(3)\n",
    "\n",
    "gs_tfidf_lr_test"
   ]
  },
  {
   "cell_type": "code",
   "execution_count": 62,
   "metadata": {},
   "outputs": [
    {
     "data": {
      "image/png": "[encoded data removed]",
      "text/plain": [
       "<Figure size 432x288 with 2 Axes>"
      ]
     },
     "metadata": {
      "needs_background": "light"
     },
     "output_type": "display_data"
    }
   ],
   "source": [
    "#plotting confusion matrix where 1 = AMD (Positives) and 0 = NVIDIA (Negatives)\n",
    "metrics.plot_confusion_matrix(gs_tfidf_lr, X_test, y_test, cmap='Blues', \n",
    "                              values_format='d', display_labels=['NVIDIA', 'AMD']);"
   ]
  },
  {
   "cell_type": "code",
   "execution_count": 63,
   "metadata": {},
   "outputs": [
    {
     "name": "stdout",
     "output_type": "stream",
     "text": [
      "0.87\n",
      "0.88\n"
     ]
    }
   ],
   "source": [
    "#calculating sensitivity and specificity to see how good our model is at classifying both classes on test set\n",
    "tn2, fp2, fn2, tp2 = metrics.confusion_matrix(y_test, gs_tfidf_lr.predict(X_test)).ravel()\n",
    "\n",
    "sens2 = (tp2 / (tp2 + fn2)).round(2)\n",
    "spec2 = (tn2 / (tn2 + fp2)).round(2)\n",
    "\n",
    "print(sens2)\n",
    "print(spec2)"
   ]
  },
  {
   "cell_type": "code",
   "execution_count": 64,
   "metadata": {},
   "outputs": [
    {
     "data": {
      "text/plain": [
       "0.95"
      ]
     },
     "execution_count": 64,
     "metadata": {},
     "output_type": "execute_result"
    }
   ],
   "source": [
    "#area under curve score on test set --> measure of ability to distinguish between positive and negative classes\n",
    "#higher value = model is better at classifying true positives and true negatives correctly\n",
    "gs_tfidf_lr_auc = metrics.roc_auc_score(y_test, gs_tfidf_lr.predict_proba(X_test)[:, 1]).round(3)\n",
    "\n",
    "gs_tfidf_lr_auc"
   ]
  },
  {
   "cell_type": "code",
   "execution_count": 65,
   "metadata": {
    "scrolled": true
   },
   "outputs": [
    {
     "data": {
      "image/png": "[encoded data removed]",
      "text/plain": [
       "<Figure size 432x288 with 1 Axes>"
      ]
     },
     "metadata": {
      "needs_background": "light"
     },
     "output_type": "display_data"
    }
   ],
   "source": [
    "#get the area under curve score --> measure of the ability to distinguish between the positive and negative classes\n",
    "tfidf_lr_auc_ax = metrics.plot_roc_curve(gs_tfidf_lr, X_test, y_test)\n",
    "\n",
    "plt.title('Tfidf LogReg Plot for AUC', fontsize=14)\n",
    "plt.plot([0, 1], [0, 1], label='baseline', linestyle='--')\n",
    "plt.legend();\n",
    "\n",
    "plt.savefig('../plots/tfidf_logreg_auc', bbox_inches=\"tight\", dpi=300)\n",
    "\n",
    "plt.show();"
   ]
  },
  {
   "cell_type": "markdown",
   "metadata": {},
   "source": [
    "### Multinomial Naive Bayes"
   ]
  },
  {
   "cell_type": "markdown",
   "metadata": {},
   "source": [
    "#### CountVectorizer with Multinomial Naive Bayes"
   ]
  },
  {
   "cell_type": "code",
   "execution_count": 66,
   "metadata": {},
   "outputs": [
    {
     "name": "stdout",
     "output_type": "stream",
     "text": [
      "Time taken to run: 221.59 seconds\n"
     ]
    }
   ],
   "source": [
    "#run start time in seconds\n",
    "start = time()\n",
    "\n",
    "#set pipeline for count vectorization then multinomial naive bayes\n",
    "cv_multNB = Pipeline([('cvec', CountVectorizer()), \n",
    "                     ('multNB', MultinomialNB())\n",
    "                    ])\n",
    "\n",
    "\n",
    "#set parameters for the piepline that will go through gridsearchcv to find the optimal values\n",
    "cv_multNB_params = {'cvec__max_features': [5000, 7000], \n",
    "                    'cvec__ngram_range': [(1,2), (1,3), (2,3)],\n",
    "                    'cvec__min_df': [2, 3], #ignore words that appears in less than specified number of docs \n",
    "                    'cvec__max_df': [0.3, 0.4], #ignore words that appears in more than specified % of docs \n",
    "                    'multNB__alpha': list(np.linspace(0.1, 5.0, 3))\n",
    "                   }\n",
    "\n",
    "#instantiate GridSearchCV for tuning hyperparameters\n",
    "gs_cv_multNB = GridSearchCV(cv_multNB, \n",
    "                            param_grid=cv_multNB_params, \n",
    "                            cv=3)\n",
    "\n",
    "#fit GridSearchCV to training data\n",
    "gs_cv_multNB.fit(X_train, y_train)\n",
    "\n",
    "#amount of time taken to run in seconds\n",
    "time_taken = time() - start\n",
    "print('Time taken to run:', round(time_taken, 2), 'seconds')"
   ]
  },
  {
   "cell_type": "code",
   "execution_count": 67,
   "metadata": {
    "scrolled": true
   },
   "outputs": [
    {
     "name": "stdout",
     "output_type": "stream",
     "text": [
      "Best Parameters: Pipeline(steps=[('cvec',\n",
      "                 CountVectorizer(max_df=0.3, max_features=5000, min_df=2,\n",
      "                                 ngram_range=(1, 2))),\n",
      "                ('multNB', MultinomialNB(alpha=5.0))])\n"
     ]
    }
   ],
   "source": [
    "#get best optimised parameters\n",
    "gs_cv_multNB_est = gs_cv_multNB.best_estimator_\n",
    "\n",
    "print('Best Parameters:', gs_cv_multNB_est)"
   ]
  },
  {
   "cell_type": "code",
   "execution_count": 68,
   "metadata": {
    "scrolled": true
   },
   "outputs": [
    {
     "data": {
      "text/plain": [
       "0.862"
      ]
     },
     "execution_count": 68,
     "metadata": {},
     "output_type": "execute_result"
    }
   ],
   "source": [
    "#get mean cross validated train score\n",
    "gs_cv_multNB_train = gs_cv_multNB.best_score_.round(3)\n",
    "\n",
    "gs_cv_multNB_train"
   ]
  },
  {
   "cell_type": "code",
   "execution_count": 69,
   "metadata": {},
   "outputs": [
    {
     "data": {
      "text/plain": [
       "0.857"
      ]
     },
     "execution_count": 69,
     "metadata": {},
     "output_type": "execute_result"
    }
   ],
   "source": [
    "#get test score\n",
    "gs_cv_multNB_test = gs_cv_multNB.score(X_test, y_test).round(3)\n",
    "\n",
    "gs_cv_multNB_test"
   ]
  },
  {
   "cell_type": "code",
   "execution_count": 70,
   "metadata": {},
   "outputs": [
    {
     "data": {
      "image/png": "[encoded data removed]",
      "text/plain": [
       "<Figure size 432x288 with 2 Axes>"
      ]
     },
     "metadata": {
      "needs_background": "light"
     },
     "output_type": "display_data"
    }
   ],
   "source": [
    "#plotting confusion matrix where 1 = AMD (Positives) and 0 = NVIDIA (Negatives)\n",
    "metrics.plot_confusion_matrix(gs_cv_multNB, X_test, y_test, cmap='Blues', \n",
    "                              values_format='d', display_labels=['NVIDIA', 'AMD']);"
   ]
  },
  {
   "cell_type": "code",
   "execution_count": 71,
   "metadata": {},
   "outputs": [
    {
     "name": "stdout",
     "output_type": "stream",
     "text": [
      "0.83\n",
      "0.88\n"
     ]
    }
   ],
   "source": [
    "#calculating sensitivity and specificity to see how good our model is at classifying both classes on test set\n",
    "tn3, fp3, fn3, tp3 = metrics.confusion_matrix(y_test, gs_cv_multNB.predict(X_test)).ravel()\n",
    "\n",
    "sens3 = (tp3 / (tp3 + fn3)).round(2)\n",
    "spec3 = (tn3 / (tn3 + fp3)).round(2)\n",
    "\n",
    "print(sens3)\n",
    "print(spec3)"
   ]
  },
  {
   "cell_type": "code",
   "execution_count": 72,
   "metadata": {
    "scrolled": true
   },
   "outputs": [
    {
     "data": {
      "text/plain": [
       "0.935"
      ]
     },
     "execution_count": 72,
     "metadata": {},
     "output_type": "execute_result"
    }
   ],
   "source": [
    "#area under curve score on test set --> measure of ability to distinguish between positive and negative classes\n",
    "#higher value = model is better at classifying true positives and true negatives correctly\n",
    "gs_cv_multNB_auc = metrics.roc_auc_score(y_test, gs_cv_multNB.predict_proba(X_test)[:, 1]).round(3)\n",
    "\n",
    "gs_cv_multNB_auc"
   ]
  },
  {
   "cell_type": "code",
   "execution_count": 73,
   "metadata": {
    "scrolled": false
   },
   "outputs": [
    {
     "data": {
      "image/png": "[encoded data removed]",
      "text/plain": [
       "<Figure size 432x288 with 1 Axes>"
      ]
     },
     "metadata": {
      "needs_background": "light"
     },
     "output_type": "display_data"
    }
   ],
   "source": [
    "#get the area under curve score --> measure of the ability to distinguish between the positive and negative classes\n",
    "metrics.plot_roc_curve(gs_cv_multNB, X_test, y_test)\n",
    "plt.plot([0, 1], [0, 1], label='baseline', linestyle='--')\n",
    "plt.legend();"
   ]
  },
  {
   "cell_type": "markdown",
   "metadata": {},
   "source": [
    "#### TfidfVectorizer with Multinomial Naive Bayes"
   ]
  },
  {
   "cell_type": "code",
   "execution_count": 74,
   "metadata": {},
   "outputs": [
    {
     "name": "stdout",
     "output_type": "stream",
     "text": [
      "Time taken to run: 220.51 seconds\n"
     ]
    }
   ],
   "source": [
    "#run start time in seconds\n",
    "start = time()\n",
    "\n",
    "#set pipeline for tfidf vectorization then multinomial naive bayes\n",
    "tfidf_multNB = Pipeline([('tfidf', TfidfVectorizer()), \n",
    "                        ('multNB', MultinomialNB())\n",
    "                       ])\n",
    "\n",
    "\n",
    "#set parameters for the piepline that will go through gridsearchcv to find the optimal values\n",
    "tfidf_multNB_params = {'tfidf__max_features': [3000, 5000], \n",
    "                       'tfidf__ngram_range': [(1,2), (1,3), (2,3)], \n",
    "                       'tfidf__min_df': [2, 3], #ignore words that appears in less than specified number of docs \n",
    "                       'tfidf__max_df': [0.3, 0.4], #ignore words that appears in more than specified % of docs \n",
    "                       'multNB__alpha': list(np.linspace(0.1, 5.0, 3))}\n",
    "\n",
    "#instantiate GridSearchCV for tuning hyperparameters\n",
    "gs_tfidf_multNB = GridSearchCV(tfidf_multNB, \n",
    "                               param_grid=tfidf_multNB_params, \n",
    "                               cv=3)\n",
    "\n",
    "#fit GridSearchCV to training data\n",
    "gs_tfidf_multNB.fit(X_train, y_train)\n",
    "\n",
    "#amount of time taken to run in seconds\n",
    "time_taken = time() - start\n",
    "print('Time taken to run:', round(time_taken, 2), 'seconds')"
   ]
  },
  {
   "cell_type": "code",
   "execution_count": 75,
   "metadata": {
    "scrolled": true
   },
   "outputs": [
    {
     "name": "stdout",
     "output_type": "stream",
     "text": [
      "Best Parameters: Pipeline(steps=[('tfidf',\n",
      "                 TfidfVectorizer(max_df=0.3, max_features=5000, min_df=3,\n",
      "                                 ngram_range=(1, 3))),\n",
      "                ('multNB', MultinomialNB(alpha=5.0))])\n"
     ]
    }
   ],
   "source": [
    "#get best optimised parameters\n",
    "gs_tfidf_multNB_est = gs_tfidf_multNB.best_estimator_\n",
    "\n",
    "print('Best Parameters:', gs_tfidf_multNB_est)"
   ]
  },
  {
   "cell_type": "code",
   "execution_count": 76,
   "metadata": {
    "scrolled": true
   },
   "outputs": [
    {
     "data": {
      "text/plain": [
       "0.856"
      ]
     },
     "execution_count": 76,
     "metadata": {},
     "output_type": "execute_result"
    }
   ],
   "source": [
    "#get mean cross validated train score\n",
    "gs_tfidf_multNB_train = gs_tfidf_multNB.best_score_.round(3)\n",
    "\n",
    "gs_tfidf_multNB_train"
   ]
  },
  {
   "cell_type": "code",
   "execution_count": 77,
   "metadata": {},
   "outputs": [
    {
     "data": {
      "text/plain": [
       "0.856"
      ]
     },
     "execution_count": 77,
     "metadata": {},
     "output_type": "execute_result"
    }
   ],
   "source": [
    "#get test score\n",
    "gs_tfidf_multNB_test = gs_tfidf_multNB.score(X_test, y_test).round(3)\n",
    "\n",
    "gs_tfidf_multNB_test"
   ]
  },
  {
   "cell_type": "code",
   "execution_count": 78,
   "metadata": {},
   "outputs": [
    {
     "data": {
      "image/png": "[encoded data removed]",
      "text/plain": [
       "<Figure size 432x288 with 2 Axes>"
      ]
     },
     "metadata": {
      "needs_background": "light"
     },
     "output_type": "display_data"
    }
   ],
   "source": [
    "#plotting confusion matrix where 1 = AMD (Positives) and 0 = NVIDIA (Negatives)\n",
    "metrics.plot_confusion_matrix(gs_tfidf_multNB, X_test, y_test, cmap='Blues', \n",
    "                              values_format='d', display_labels=['NVIDIA', 'AMD']);"
   ]
  },
  {
   "cell_type": "code",
   "execution_count": 79,
   "metadata": {},
   "outputs": [
    {
     "name": "stdout",
     "output_type": "stream",
     "text": [
      "0.81\n",
      "0.9\n"
     ]
    }
   ],
   "source": [
    "#calculating sensitivity and specificity to see how good our model is at classifying both classes on test set\n",
    "tn4, fp4, fn4, tp4 = metrics.confusion_matrix(y_test, gs_tfidf_multNB.predict(X_test)).ravel()\n",
    "\n",
    "sens4 = (tp4 / (tp4 + fn4)).round(2)\n",
    "spec4 = (tn4 / (tn4 + fp4)).round(2)\n",
    "\n",
    "print(sens4)\n",
    "print(spec4)"
   ]
  },
  {
   "cell_type": "code",
   "execution_count": 80,
   "metadata": {
    "scrolled": true
   },
   "outputs": [
    {
     "data": {
      "text/plain": [
       "0.941"
      ]
     },
     "execution_count": 80,
     "metadata": {},
     "output_type": "execute_result"
    }
   ],
   "source": [
    "#area under curve score on test set --> measure of ability to distinguish between positive and negative classes\n",
    "#higher value = model is better at classifying true positives and true negatives correctly\n",
    "gs_tfidf_multNB_auc = metrics.roc_auc_score(y_test, gs_tfidf_multNB.predict_proba(X_test)[:, 1]).round(3)\n",
    "\n",
    "gs_tfidf_multNB_auc"
   ]
  },
  {
   "cell_type": "code",
   "execution_count": 81,
   "metadata": {
    "scrolled": true
   },
   "outputs": [
    {
     "data": {
      "image/png": "[encoded data removed]",
      "text/plain": [
       "<Figure size 432x288 with 1 Axes>"
      ]
     },
     "metadata": {
      "needs_background": "light"
     },
     "output_type": "display_data"
    }
   ],
   "source": [
    "#get the area under curve score --> measure of the ability to distinguish between the positive and negative classes\n",
    "metrics.plot_roc_curve(gs_tfidf_multNB, X_test, y_test)\n",
    "\n",
    "plt.title('Tfidf MultiNB Plot for AUC', fontsize=14)\n",
    "plt.plot([0, 1], [0, 1], label='baseline', linestyle='--')\n",
    "plt.legend();\n",
    "\n",
    "plt.savefig('../plots/tfidf_multinb_auc', bbox_inches=\"tight\", dpi=300)\n",
    "\n",
    "plt.show();"
   ]
  },
  {
   "cell_type": "markdown",
   "metadata": {},
   "source": [
    "### Decision Tree"
   ]
  },
  {
   "cell_type": "markdown",
   "metadata": {},
   "source": [
    "#### CountVectorizer with Decision Tree"
   ]
  },
  {
   "cell_type": "code",
   "execution_count": 82,
   "metadata": {},
   "outputs": [
    {
     "name": "stdout",
     "output_type": "stream",
     "text": [
      "Time taken to run: 302.91\n"
     ]
    }
   ],
   "source": [
    "#run start time in seconds\n",
    "start = time()\n",
    "\n",
    "#set pipeline for count vectorization then decision tree\n",
    "cv_dt = Pipeline([('cv', CountVectorizer()), \n",
    "                  ('dt', DecisionTreeClassifier(criterion='entropy'))\n",
    "                 ])\n",
    "\n",
    "\n",
    "#set parameters for the piepline that will go through gridsearchcv to find the optimal values\n",
    "cv_dt_params = {'cv__max_features': [1000, 3000], \n",
    "                'cv__ngram_range': [(1,2), (1,3), (2,3)], \n",
    "                'cv__min_df': [3, 5], #ignore words that appears in less than specified number of docs \n",
    "                'cv__max_df': [0.3, 0.5], #ignore words that appears in more than specified % of docs \n",
    "                'dt__max_depth': [5, 10], \n",
    "                'dt__ccp_alpha': [0.001, 0.01]}\n",
    "\n",
    "#instantiate GridSearchCV for tuning hyperparameters\n",
    "gs_cv_dt = GridSearchCV(cv_dt, \n",
    "                        param_grid=cv_dt_params, \n",
    "                        cv=3)\n",
    "\n",
    "#fit GridSearchCV to training data\n",
    "gs_cv_dt.fit(X_train, y_train)\n",
    "\n",
    "#amount of time taken to run in seconds\n",
    "time_taken = time() - start\n",
    "print('Time taken to run:', round(time_taken, 2))"
   ]
  },
  {
   "cell_type": "code",
   "execution_count": 83,
   "metadata": {
    "scrolled": true
   },
   "outputs": [
    {
     "name": "stdout",
     "output_type": "stream",
     "text": [
      "Best Parameters: Pipeline(steps=[('cv',\n",
      "                 CountVectorizer(max_df=0.3, max_features=3000, min_df=3,\n",
      "                                 ngram_range=(1, 2))),\n",
      "                ('dt',\n",
      "                 DecisionTreeClassifier(ccp_alpha=0.001, criterion='entropy',\n",
      "                                        max_depth=10))])\n"
     ]
    }
   ],
   "source": [
    "#get best optimised parameters\n",
    "gs_cv_dt_est = gs_cv_dt.best_estimator_\n",
    "\n",
    "print('Best Parameters:', gs_cv_dt_est)"
   ]
  },
  {
   "cell_type": "code",
   "execution_count": 84,
   "metadata": {
    "scrolled": true
   },
   "outputs": [
    {
     "data": {
      "text/plain": [
       "0.776"
      ]
     },
     "execution_count": 84,
     "metadata": {},
     "output_type": "execute_result"
    }
   ],
   "source": [
    "#get mean cross validated train score\n",
    "gs_cv_dt_train = gs_cv_dt.best_score_.round(3)\n",
    "\n",
    "gs_cv_dt_train"
   ]
  },
  {
   "cell_type": "code",
   "execution_count": 85,
   "metadata": {},
   "outputs": [
    {
     "data": {
      "text/plain": [
       "0.769"
      ]
     },
     "execution_count": 85,
     "metadata": {},
     "output_type": "execute_result"
    }
   ],
   "source": [
    "#get test score\n",
    "gs_cv_dt_test = gs_cv_dt.score(X_test, y_test).round(3)\n",
    "\n",
    "gs_cv_dt_test"
   ]
  },
  {
   "cell_type": "code",
   "execution_count": 86,
   "metadata": {
    "scrolled": true
   },
   "outputs": [
    {
     "data": {
      "image/png": "[encoded data removed]",
      "text/plain": [
       "<Figure size 432x288 with 2 Axes>"
      ]
     },
     "metadata": {
      "needs_background": "light"
     },
     "output_type": "display_data"
    }
   ],
   "source": [
    "#plotting confusion matrix where 1 = AMD (Positives) and 0 = NVIDIA (Negatives)\n",
    "metrics.plot_confusion_matrix(gs_cv_dt, X_test, y_test, cmap='Blues', \n",
    "                              values_format='d', display_labels=['NVIDIA', 'AMD']);"
   ]
  },
  {
   "cell_type": "code",
   "execution_count": 87,
   "metadata": {},
   "outputs": [
    {
     "name": "stdout",
     "output_type": "stream",
     "text": [
      "0.96\n",
      "0.58\n"
     ]
    }
   ],
   "source": [
    "#calculating sensitivity and specificity to see how good our model is at classifying both classes on test set\n",
    "tn5, fp5, fn5, tp5 = metrics.confusion_matrix(y_test, gs_cv_dt.predict(X_test)).ravel()\n",
    "\n",
    "sens5 = (tp5 / (tp5 + fn5)).round(2)\n",
    "spec5 = (tn5 / (tn5 + fp5)).round(2)\n",
    "\n",
    "print(sens5)\n",
    "print(spec5)"
   ]
  },
  {
   "cell_type": "code",
   "execution_count": 88,
   "metadata": {
    "scrolled": true
   },
   "outputs": [
    {
     "data": {
      "text/plain": [
       "0.876"
      ]
     },
     "execution_count": 88,
     "metadata": {},
     "output_type": "execute_result"
    }
   ],
   "source": [
    "#area under curve score on test set --> measure of ability to distinguish between positive and negative classes\n",
    "#higher value = model is better at classifying true positives and true negatives correctly\n",
    "gs_cv_dt_auc = metrics.roc_auc_score(y_test, gs_cv_dt.predict_proba(X_test)[:, 1]).round(3)\n",
    "\n",
    "gs_cv_dt_auc"
   ]
  },
  {
   "cell_type": "code",
   "execution_count": 89,
   "metadata": {
    "scrolled": false
   },
   "outputs": [
    {
     "data": {
      "image/png": "[encoded data removed]",
      "text/plain": [
       "<Figure size 432x288 with 1 Axes>"
      ]
     },
     "metadata": {
      "needs_background": "light"
     },
     "output_type": "display_data"
    }
   ],
   "source": [
    "#get the area under curve score --> measure of the ability to distinguish between the positive and negative classes\n",
    "metrics.plot_roc_curve(gs_cv_dt, X_test, y_test)\n",
    "plt.plot([0, 1], [0, 1], label='baseline', linestyle='--')\n",
    "plt.legend();"
   ]
  },
  {
   "cell_type": "markdown",
   "metadata": {},
   "source": [
    "#### TfidfVectorizer with Decision Tree"
   ]
  },
  {
   "cell_type": "code",
   "execution_count": 90,
   "metadata": {},
   "outputs": [
    {
     "name": "stdout",
     "output_type": "stream",
     "text": [
      "Time taken to run: 321.059\n"
     ]
    }
   ],
   "source": [
    "#run start time in seconds\n",
    "start = time()\n",
    "\n",
    "#set pipeline for tfidf vectorization then decision tree\n",
    "tfidf_dt = Pipeline([('tfidf', TfidfVectorizer()), \n",
    "                  ('dt', DecisionTreeClassifier(criterion='entropy'))\n",
    "                 ])\n",
    "\n",
    "\n",
    "#set parameters for the piepline that will go through gridsearchcv to find the optimal values\n",
    "tfidf_dt_params = {'tfidf__max_features': [1000, 3000], \n",
    "                   'tfidf__ngram_range': [(1,2), (1,3), (2,3)], \n",
    "                   'tfidf__min_df': [3, 5], #ignore words that appears in less than specified number of docs \n",
    "                   'tfidf__max_df': [0.3, 0.5], #ignore words that appears in more than specified % of docs \n",
    "                   'dt__max_depth': [5, 10], \n",
    "                   'dt__ccp_alpha': [0.001, 0.01]}\n",
    "\n",
    "#instantiate GridSearchCV for tuning hyperparameters\n",
    "gs_tfidf_dt = GridSearchCV(tfidf_dt, \n",
    "                           param_grid=tfidf_dt_params, \n",
    "                           cv=3)\n",
    "\n",
    "#fit GridSearchCV to training data\n",
    "gs_tfidf_dt.fit(X_train, y_train)\n",
    "\n",
    "#amount of time taken to run in seconds\n",
    "time_taken = time() - start\n",
    "print('Time taken to run:', round(time_taken, 3))"
   ]
  },
  {
   "cell_type": "code",
   "execution_count": 91,
   "metadata": {
    "scrolled": true
   },
   "outputs": [
    {
     "name": "stdout",
     "output_type": "stream",
     "text": [
      "Best Parameters: Pipeline(steps=[('tfidf',\n",
      "                 TfidfVectorizer(max_df=0.5, max_features=1000, min_df=5,\n",
      "                                 ngram_range=(1, 3))),\n",
      "                ('dt',\n",
      "                 DecisionTreeClassifier(ccp_alpha=0.001, criterion='entropy',\n",
      "                                        max_depth=10))])\n"
     ]
    }
   ],
   "source": [
    "#get best optimised parameters\n",
    "gs_tfidf_dt_est = gs_tfidf_dt.best_estimator_\n",
    "\n",
    "print('Best Parameters:', gs_tfidf_dt_est)"
   ]
  },
  {
   "cell_type": "code",
   "execution_count": 92,
   "metadata": {
    "scrolled": true
   },
   "outputs": [
    {
     "data": {
      "text/plain": [
       "0.774"
      ]
     },
     "execution_count": 92,
     "metadata": {},
     "output_type": "execute_result"
    }
   ],
   "source": [
    "#get mean cross validated train score\n",
    "gs_tfidf_dt_train = gs_tfidf_dt.best_score_.round(3)\n",
    "\n",
    "gs_tfidf_dt_train"
   ]
  },
  {
   "cell_type": "code",
   "execution_count": 93,
   "metadata": {},
   "outputs": [
    {
     "data": {
      "text/plain": [
       "0.763"
      ]
     },
     "execution_count": 93,
     "metadata": {},
     "output_type": "execute_result"
    }
   ],
   "source": [
    "#get test score\n",
    "gs_tfidf_dt_test = gs_tfidf_dt.score(X_test, y_test).round(3)\n",
    "\n",
    "gs_tfidf_dt_test"
   ]
  },
  {
   "cell_type": "code",
   "execution_count": 94,
   "metadata": {
    "scrolled": true
   },
   "outputs": [
    {
     "data": {
      "image/png": "[encoded data removed]",
      "text/plain": [
       "<Figure size 432x288 with 2 Axes>"
      ]
     },
     "metadata": {
      "needs_background": "light"
     },
     "output_type": "display_data"
    }
   ],
   "source": [
    "#plotting confusion matrix where 1 = AMD (Positives) and 0 = NVIDIA (Negatives)\n",
    "metrics.plot_confusion_matrix(gs_tfidf_dt, X_test, y_test, cmap='Blues', \n",
    "                              values_format='d', display_labels=['NVIDIA', 'AMD']);"
   ]
  },
  {
   "cell_type": "code",
   "execution_count": 95,
   "metadata": {},
   "outputs": [
    {
     "name": "stdout",
     "output_type": "stream",
     "text": [
      "0.57\n",
      "0.95\n"
     ]
    }
   ],
   "source": [
    "#calculating sensitivity and specificity to see how good our model is at classifying both classes on test set\n",
    "tn6, fp6, fn6, tp6 = metrics.confusion_matrix(y_test, gs_tfidf_dt.predict(X_test)).ravel()\n",
    "\n",
    "sens6 = (tp6 / (tp6 + fn6)).round(2)\n",
    "spec6 = (tn6 / (tn6 + fp6)).round(2)\n",
    "\n",
    "print(sens6)\n",
    "print(spec6)"
   ]
  },
  {
   "cell_type": "code",
   "execution_count": 96,
   "metadata": {
    "scrolled": true
   },
   "outputs": [
    {
     "data": {
      "text/plain": [
       "0.878"
      ]
     },
     "execution_count": 96,
     "metadata": {},
     "output_type": "execute_result"
    }
   ],
   "source": [
    "#area under curve score on test set --> measure of ability to distinguish between positive and negative classes\n",
    "#higher value = model is better at classifying true positives and true negatives correctly\n",
    "gs_tfidf_dt_auc = metrics.roc_auc_score(y_test, gs_tfidf_dt.predict_proba(X_test)[:, 1]).round(3)\n",
    "\n",
    "gs_tfidf_dt_auc"
   ]
  },
  {
   "cell_type": "code",
   "execution_count": 97,
   "metadata": {
    "scrolled": false
   },
   "outputs": [
    {
     "data": {
      "image/png": "[encoded data removed]",
      "text/plain": [
       "<Figure size 432x288 with 1 Axes>"
      ]
     },
     "metadata": {
      "needs_background": "light"
     },
     "output_type": "display_data"
    }
   ],
   "source": [
    "#get the area under curve score --> measure of the ability to distinguish between the positive and negative classes\n",
    "metrics.plot_roc_curve(gs_tfidf_dt, X_test, y_test)\n",
    "\n",
    "plt.title('Tfidf Decision Tree Plot for AUC', fontsize=14)\n",
    "plt.plot([0, 1], [0, 1], label='baseline', linestyle='--')\n",
    "plt.legend();\n",
    "\n",
    "plt.savefig('../plots/tfidf_dt_auc', bbox_inches=\"tight\", dpi=300)\n",
    "\n",
    "plt.show();"
   ]
  },
  {
   "cell_type": "markdown",
   "metadata": {},
   "source": [
    "## Evaluation"
   ]
  },
  {
   "cell_type": "markdown",
   "metadata": {},
   "source": [
    "A summary of the performance of all our models are recorded in the table below:"
   ]
  },
  {
   "cell_type": "markdown",
   "metadata": {},
   "source": [
    "|Model|Train Accuracy|Test Accuracy|Sensitivity|Specificity|AUC|\n",
    "|:---:|:---:|:---:|:---:|:---:|:---:|\n",
    "|**Baseline**|-|0.500|-|-|-|\n",
    "|||||||\n",
    "|**CountVectorizer Logistic Regression**|0.867|0.880|0.895|0.866|0.955|\n",
    "|||||||\n",
    "|**TfidfVectorizer Logistic Regression**|0.870|0.876|0.870|0.883|0.955|\n",
    "|||||||\n",
    "|**CountVectorizer Multinomial Naive Bayes**|0.859|0.871|0.857|0.885|0.941|\n",
    "|||||||\n",
    "|**TfidfVectorizer Multinomial Naive Bayes**|0.856|0.862|0.823|0.902|0.946|\n",
    "|||||||\n",
    "|**CountVectorizer Decision Tree**|0.772|0.762|0.573|0.951|0.881|\n",
    "|||||||\n",
    "|**TfidfVectorizer Decision Tree**|0.764|0.760|0.564|0.958|0.869|\n"
   ]
  },
  {
   "cell_type": "markdown",
   "metadata": {},
   "source": [
    "At one glance, we can see that all our models beat the Baseline as their Test Accuracies are higher.\n",
    "\n",
    "One observation is that for the Logistic Regression and Multinomial Naive Bayes models, the Test Accuracy scores are slightly higher than the Train Accuracy. A reason for this might be that the hyperparameters for these models were not tuned to the optimal value, resulting in over-regularising which may cause Test Accuracy to become higher than Train Accuracy. This is a point for improvement and further tuning should be done if time permits.\n",
    "\n",
    "In the next section, we will be taking a look at the definitions and explanations behind the following metrics:\n",
    "- Train and Test Accuracy\n",
    "- Sensitivity and Specificity \n",
    "- AUC\n",
    "\n",
    "We will be comparing these metrics from all the models to decide on the best model."
   ]
  },
  {
   "cell_type": "markdown",
   "metadata": {},
   "source": [
    "Recall that our subreddits are classified as such:"
   ]
  },
  {
   "cell_type": "markdown",
   "metadata": {},
   "source": [
    "|Subreddit|Numerical Value in Dataframes|Class|\n",
    "|:---:|:---:|:---:|\n",
    "|**AMD**|1|Positive|\n",
    "|**NVIDIA**|0|Negative|"
   ]
  },
  {
   "cell_type": "markdown",
   "metadata": {},
   "source": [
    "#### Accuracy:"
   ]
  },
  {
   "cell_type": "markdown",
   "metadata": {},
   "source": [
    "$$Accuracy = \\frac{\\text{True Positives + True Negatives}}{\\text{Total Predictions}}$$\n",
    "\n",
    "The accuracy score tells us how accurate our model is in its classification, for both True Positives and True Negatives. It is the ratio of total number of correct classifications over total number of classifications overall. It basically measures the percentage of points correctly classified.\n",
    "\n",
    "<b>A higher accuracy score is therefore desired as it indicates that the model is good at classifying.</b>"
   ]
  },
  {
   "cell_type": "markdown",
   "metadata": {},
   "source": [
    "#### Sensitivity:"
   ]
  },
  {
   "cell_type": "markdown",
   "metadata": {},
   "source": [
    "$$Sensitivity = \\frac{\\text{True Positives}}{\\text{True Positives + False Negatives}}$$\n",
    "\n",
    "Also called the True Positive Rate. It is the ratio of True Positives to All Actual Positives.\n",
    "\n",
    "The higher the Sensitivity, the better our model is at predicting Positives (in this case, predicting the AMD subreddit)."
   ]
  },
  {
   "cell_type": "markdown",
   "metadata": {},
   "source": [
    "#### Specificity:"
   ]
  },
  {
   "cell_type": "markdown",
   "metadata": {},
   "source": [
    "$$Specificity = \\frac{\\text{True Negatives}}{\\text{True Negatives + False Positives}}$$\n",
    "\n",
    "Also called the True Negative Rate. It is the ratio of True Negatives to All Actual Negatives.\n",
    "\n",
    "The higher the Specificity, the better our model is at predicting Negatives (in this case, predicting the NVIDIA subreddit).\n"
   ]
  },
  {
   "cell_type": "markdown",
   "metadata": {},
   "source": [
    "<b>We would want a good balance between Sensitivity and Specificity since the goal is to correctly classify posts into the subreddit they belong to.</b>"
   ]
  },
  {
   "cell_type": "markdown",
   "metadata": {},
   "source": [
    "#### AUC"
   ]
  },
  {
   "cell_type": "markdown",
   "metadata": {},
   "source": [
    "The area under the Receiver Operating Characteristics (ROC) curve is called the AUC. The ROC plot is made up of the False Positive Rate (FPR) on the x-axis versus the True Positive Rate (TPR) on the y-axis. A good model will assign higher probability to a randomly chosen positive point than a randomly chosen negative point, represented by a curve that bows toward the top left of the plot, resulting in larger AUC.\n",
    "\n",
    "In a model where AUC is large, there will be lesser overlapping seen in the plotting of predicted probabilities by actual values.\n",
    "\n",
    "<b>The larger the AUC, the better and more capable the model is at distinguishing between the Positive and Negative classes.</b>"
   ]
  },
  {
   "cell_type": "markdown",
   "metadata": {},
   "source": [
    "We will be comparing the models and as we go down the list, we will be eliminating the models that are deemed to be unable to perform as well. The final model that has the best overall performance will be selected. "
   ]
  },
  {
   "cell_type": "markdown",
   "metadata": {},
   "source": [
    "### CountVec LogReg vs TfidfVec LogReg"
   ]
  },
  {
   "cell_type": "markdown",
   "metadata": {},
   "source": [
    "|Model|Train Accuracy|Test Accuracy|Sensitivity|Specificity|AUC|\n",
    "|:---:|:---:|:---:|:---:|:---:|:---:|\n",
    "|**CountVectorizer Logistic Regression**|0.867|0.880|0.895|0.866|0.955|\n",
    "|||||||\n",
    "|**TfidfVectorizer Logistic Regression**|0.870|0.876|0.870|0.883|0.955|"
   ]
  },
  {
   "cell_type": "markdown",
   "metadata": {},
   "source": [
    "<b>Accuracy</b>\n",
    "\n",
    "The CountVec LogReg model scores similarly for Train and Test Accuracy. This indicates there is no overfitting in the model.\n",
    "\n",
    "The TfidfVec LogReg model also scores similarly for Train and Test Accuracy. This indicates there is no overfitting in the model.\n",
    "\n",
    "The TfidfVec LogReg model and CountVec LogReg model both has similar scores for Train and Test Accuracies.\n",
    "\n",
    "The difference between the Train and Test Accuracy is smaller for TfidfVec LogReg model, so the TfidfVec LogReg model seems to be a better choice in terms of Accuracy score.\n",
    "\n",
    "\n",
    "<b>Sensitivity and Specificity</b>\n",
    "\n",
    "The TfidfVec LogReg model scores slightly lower than the CountVec LogReg model for Sensitivity, indicating that the TfidfVec LogReg model is very slightly worse off at predicting Positives (AMD subreddit).\n",
    "\n",
    "The TfidfVec LogReg model, however, scores higher than the CountVec LogReg model for Specificity, indicating that the TfidfVec LogReg model is better at predicting Negatives (NVIDIA subreddit) in comparison.\n",
    "\n",
    "Overall, both models score similarly for Sensitivity and Specificity.\n",
    "\n",
    "As the difference between the TfidfVec LogReg model's Sensitivity and Specificity score is smaller, we can say that the TfidfVec LogReg model would be a better choice at predicting subreddits overall.\n",
    "\n",
    "\n",
    "<b>AUC</b>\n",
    "\n",
    "AUC is high for both models and are the same value. They distinguish between Positives (AMD subreddit) and Negatives (NVIDIA subreddit) similarly.\n",
    "\n",
    "\n",
    "In summary, the TfidfVec LogReg model seems to perform slightly better than the CountVec LogReg model as the Train and Test Accuracy difference is smaller, has better balance between Sensitivity and Specificity while still scoring highly, and also has high AUC.\n",
    "\n",
    "<b>We will select the TfidfVec LogReg model from the 2 and move on to compare it with the next model.</b>"
   ]
  },
  {
   "cell_type": "markdown",
   "metadata": {},
   "source": [
    "### TfidfVec LogReg vs CountVec MultiNB"
   ]
  },
  {
   "cell_type": "markdown",
   "metadata": {},
   "source": [
    "|Model|Train Accuracy|Test Accuracy|Sensitivity|Specificity|AUC|\n",
    "|:---:|:---:|:---:|:---:|:---:|:---:|\n",
    "|**TfidfVectorizer Logistic Regression**|0.870|0.876|0.870|0.883|0.955|\n",
    "|||||||\n",
    "|**CountVectorizer Multinomial Naive Bayes**|0.859|0.871|0.857|0.885|0.941|"
   ]
  },
  {
   "cell_type": "markdown",
   "metadata": {},
   "source": [
    "<b>Accuracy</b>\n",
    "\n",
    "The TfidfVec LogReg model scores similarly for Train and Test Accuracy. This indicates there is no overfitting in the model.\n",
    "\n",
    "The CountVec MultiNB model also scores similarly for Train and Test Accuracy. This indicates there is no overfitting in the model.\n",
    "\n",
    "The TfidfVec LogReg model and CountVec MultiNB model both has similar scores for Train and Test Accuracies, with the TfidfVec LogReg model scoring higher in both Train and Test Accuracies overall.\n",
    "\n",
    "Therefore, the TfidfVec LogReg model seems to be a better choice in terms of Accuracy score.\n",
    "\n",
    "\n",
    "<b>Sensitivity and Specificity</b>\n",
    "\n",
    "The TfidfVec LogReg model scores slightly higher than the CountVec MultiNB model for Sensitivity, indicating that the TfidfVec LogReg model is very slightly better at predicting Positives (AMD subreddit).\n",
    "\n",
    "The TfidfVec LogReg model and the CountVec MultiNB model scores similarly for Specificity, indicating that both models are similarly good at predicting Negatives (NVIDIA subreddit).\n",
    "\n",
    "Overall, both models score similarly for Sensitivity and Specificity, with TfidfVec LogReg model having a very slight edge in Positives (AMD subreddit) prediction.\n",
    "\n",
    "Therefore, the TfidfVec LogReg model seems to be a better choice at predicting subreddits overall.\n",
    "\n",
    "\n",
    "<b>AUC</b>\n",
    "\n",
    "AUC is high for both models with TfidfVec LogReg model being slightly higher, indicating that it is slightly better at distinguishing between Positives (AMD subreddit) and Negatives (NVIDIA subreddit).\n",
    "\n",
    "\n",
    "In summary, the TfidfVec LogReg model seems to perform slightly better than the CountVec MultiNB model as a whole.\n",
    "\n",
    "<b>We will select the TfidfVec LogReg model from the 2 and move on to compare it with the next model.</b>"
   ]
  },
  {
   "cell_type": "markdown",
   "metadata": {},
   "source": [
    "### TfidfVec LogReg vs TfidfVec MultiNB"
   ]
  },
  {
   "cell_type": "markdown",
   "metadata": {},
   "source": [
    "|Model|Train Accuracy|Test Accuracy|Sensitivity|Specificity|AUC|\n",
    "|:---:|:---:|:---:|:---:|:---:|:---:|\n",
    "|**TfidfVectorizer Logistic Regression**|0.870|0.876|0.870|0.883|0.955|\n",
    "|||||||\n",
    "|**TfidfVectorizer Multinomial Naive Bayes**|0.856|0.862|0.823|0.902|0.946|"
   ]
  },
  {
   "cell_type": "markdown",
   "metadata": {},
   "source": [
    "<b>Accuracy</b>\n",
    "\n",
    "The TfidfVec LogReg model scores similarly for Train and Test Accuracy. This indicates there is no overfitting in the model.\n",
    "\n",
    "The TfidfVec MultiNB model also scores similarly for Train and Test Accuracy. This indicates there is no overfitting in the model.\n",
    "\n",
    "The TfidfVec LogReg model and TfidfVec MultiNB model both has similar scores for Train and Test Accuracies, but the TfidfVec LogReg model scores slightly higher in both Train and Test Accuracies.\n",
    "\n",
    "Therefore, the TfidfVec LogReg model seems to be a better choice in terms of Accuracy score.\n",
    "\n",
    "\n",
    "<b>Sensitivity and Specificity</b>\n",
    "\n",
    "The TfidfVec LogReg model scores slightly higher than the TfidfVec MultiNB model for Sensitivity, indicating that the TfidfVec LogReg model is slightly better at predicting Positives (AMD subreddit).\n",
    "\n",
    "The TfidfVec MultiNB model scores slightly higher for Specificity, indicating that it is slightly better at predicting Negatives (NVIDIA subreddit).\n",
    "\n",
    "Overall, both models score similarly for Sensitivity and Specificity, with TfidfVec LogReg model being more well rounded in Positives (AMD subreddit) and Negatives (NVIDIA subreddit) prediction.\n",
    "\n",
    "Therefore, the TfidfVec LogReg model seems to be a better choice at predicting subreddits overall.\n",
    "\n",
    "\n",
    "<b>AUC</b>\n",
    "\n",
    "AUC is high for both models with TfidfVec LogReg model being slightly higher, indicating that it is slightly better at distinguishing between Positives (AMD subreddit) and Negatives (NVIDIA subreddit).\n",
    "\n",
    "\n",
    "In summary, the TfidfVec LogReg model seems to perform slightly better than the TfidfVec MultiNB model as a whole.\n",
    "\n",
    "<b>We will select the TfidfVec LogReg model from the 2 and move on to compare it with the next model.</b>"
   ]
  },
  {
   "cell_type": "markdown",
   "metadata": {},
   "source": [
    "### TfidfVec MultinomialNB vs CountVec Decision Tree"
   ]
  },
  {
   "cell_type": "markdown",
   "metadata": {},
   "source": [
    "|Model|Train Accuracy|Test Accuracy|Sensitivity|Specificity|AUC|\n",
    "|:---:|:---:|:---:|:---:|:---:|:---:|\n",
    "|**TfidfVectorizer Logistic Regression**|0.870|0.876|0.870|0.883|0.955|\n",
    "|||||||\n",
    "|**CountVectorizer Decision Tree**|0.772|0.762|0.573|0.951|0.881|"
   ]
  },
  {
   "cell_type": "markdown",
   "metadata": {},
   "source": [
    "<b>Accuracy</b>\n",
    "\n",
    "The TfidfVec LogReg model scores similarly for Train and Test Accuracy. This indicates there is no overfitting in the model.\n",
    "\n",
    "The CountVec Decision Tree model also scores similarly for Train and Test Accuracy. This indicates there is no overfitting in the model.\n",
    "\n",
    "The TfidfVec LogReg model scores higher than the CountVec Decision Tree for both Train and Test Accuracies.\n",
    "\n",
    "Therefore, the TfidfVec LogReg model is a better choice in terms of Accuracy score.\n",
    "\n",
    "\n",
    "<b>Sensitivity and Specificity</b>\n",
    "\n",
    "The TfidfVec LogReg model scores much higher than the CountVec Decision Tree model for Sensitivity, indicating that the TfidfVec LogReg model is much better at predicting Positives (AMD subreddit).\n",
    "\n",
    "The CountVec Decision Tree model scores better for Specificity, indicating that it is better at predicting Negatives (NVIDIA subreddit).\n",
    "\n",
    "The TfidfVec LogReg model is more well rounded in Positives (AMD subreddit) and Negatives (NVIDIA subreddit) prediction. The CountVec Decision Tree model is very good at predicting Negatives (NVIDIA subreddit) but is very bad in predicting Positives (AMD subreddit).\n",
    "\n",
    "Therefore, the TfidfVec LogReg model seems to be a better choice at predicting subreddits overall.\n",
    "\n",
    "\n",
    "<b>AUC</b>\n",
    "\n",
    "AUC is high for both models, with TfidfVec LogReg model being slightly higher, indicating that it is better at distinguishing between Positives (AMD subreddit) and Negatives (NVIDIA subreddit).\n",
    "\n",
    "\n",
    "In summary, the TfidfVec LogReg model seems to perform better than the CountVec Decision Tree model as a whole.\n",
    "\n",
    "<b>We will select the TfidfVec LogReg model from the 2 and move on to compare it with the next model.</b>"
   ]
  },
  {
   "cell_type": "markdown",
   "metadata": {},
   "source": [
    "### TfidfVec MultinomialNB vs TfidfVec Decision Tree"
   ]
  },
  {
   "cell_type": "markdown",
   "metadata": {},
   "source": [
    "|Model|Train Accuracy|Test Accuracy|Sensitivity|Specificity|AUC|\n",
    "|:---:|:---:|:---:|:---:|:---:|:---:|\n",
    "|**TfidfVectorizer Logistic Regression**|0.870|0.876|0.870|0.883|0.955|\n",
    "|||||||\n",
    "|**TfidfVectorizer Decision Tree**|0.764|0.760|0.564|0.958|0.869|"
   ]
  },
  {
   "cell_type": "markdown",
   "metadata": {},
   "source": [
    "<b>Accuracy</b>\n",
    "\n",
    "The TfidfVec LogReg model scores similarly for Train and Test Accuracy. This indicates there is no overfitting in the model.\n",
    "\n",
    "The TfidfVec Decision Tree model also scores similarly for Train and Test Accuracy. This indicates there is no overfitting in the model.\n",
    "\n",
    "The TfidfVec LogReg model scores higher than the TfidfVec Decision Tree for both Train and Test Accuracies.\n",
    "\n",
    "Therefore, the TfidfVec LogReg model is a better choice in terms of Accuracy score.\n",
    "\n",
    "\n",
    "<b>Sensitivity and Specificity</b>\n",
    "\n",
    "The TfidfVec LogReg model scores much higher than the TfidfVec Decision Tree model for Sensitivity, indicating that the TfidfVec LogReg model is much better at predicting Positives (AMD subreddit).\n",
    "\n",
    "The TfidfVec Decision Tree model scores better for Specificity, indicating that it is better at predicting Negatives (NVIDIA subreddit).\n",
    "\n",
    "The TfidfVec LogReg model is more well rounded in Positives (AMD subreddit) and Negatives (NVIDIA subreddit) prediction. The TfidfVec Decision Tree model is very good at predicting Negatives (NVIDIA subreddit) but is very bad in predicting Positives (AMD subreddit).\n",
    "\n",
    "Therefore, the TfidfVec LogReg model seems to be a better choice at predicting subreddits overall.\n",
    "\n",
    "\n",
    "<b>AUC</b>\n",
    "\n",
    "AUC is high for both models, with TfidfVec LogReg model being slightly higher, indicating that it is better at distinguishing between Positives (AMD subreddit) and Negatives (NVIDIA subreddit).\n",
    "\n",
    "\n",
    "In summary, the TfidfVec LogReg model seems to perform better than the TfidfVec Decision Tree model as a whole and we will select it as the best model."
   ]
  },
  {
   "cell_type": "markdown",
   "metadata": {},
   "source": [
    "Best Model Chosen after comparing the various metrics: <b>TfidfVectorizer Logistic Regression model</b>"
   ]
  },
  {
   "cell_type": "markdown",
   "metadata": {},
   "source": [
    "### Chosen Model Hyperparameters\n",
    "\n",
    "The optimised hyperparameters for **TfidfVectorizer Logistic Regression model** found are shown below.\n",
    "\n",
    "<b>TfidfVectorizer</b>:\n",
    "\n",
    "max_features = 3000\n",
    "\n",
    "ngram_range = (1, 3)\n",
    "\n",
    "min_df = 2\n",
    "\n",
    "max_df = 0.3\n",
    "\n",
    "\n",
    "<b>Logistic Regression</b>:\n",
    "\n",
    "solver = 'lgfbs'\n",
    "\n",
    "max_iter = 10 000\n",
    "\n",
    "penalty = 'l2'\n",
    "\n",
    "C = 1.005"
   ]
  },
  {
   "cell_type": "markdown",
   "metadata": {},
   "source": [
    "Further tuning of these hyperparameters will be required to improve the scores and create a more robust classifier model before the model is entirely production ready."
   ]
  },
  {
   "cell_type": "markdown",
   "metadata": {},
   "source": [
    "## Conclusions and Recommendations"
   ]
  },
  {
   "cell_type": "markdown",
   "metadata": {},
   "source": [
    "The data used in the modelling is simple and used only the text data from the title + selftext column. This is because our EDA revealed that the other numerical datas that were thought to potentially have an impact on the classification turned out to have very little correlation with the target variable, the subreddits, and were therefore not used.\n",
    "\n",
    "EDA also showed that the graphic card model names for AMD and NVIDIA were important in helping with classfication as they appear frequently and are unique to their respective brands and subreddits.\n",
    "\n",
    "The best model for accurately classifying the posts to their respective subreddits is the TfidfVectorizer Logistic Regression, after analysing and determined to have the most well rounded and high scores overall for Train and Test Accuracies, Area Under Curve, and Sensitivity & Specificity metrics."
   ]
  },
  {
   "cell_type": "markdown",
   "metadata": {},
   "source": [
    "As mentioned in the problem statement/background, this basic classification will serve as the first phase and focuses on creating an accurate classifier by identifying keywords and predicting the subreddits. Second phase will see the classifier start to identify specific posts with solutions.\n",
    "\n",
    "In order to continuously improve on our classifier and get it ready for the project's second phase, the following can be done:\n",
    "- Test out with other different types of models\n",
    "- Further tune the hyerparameters\n",
    "- Software team to use Customer ID and Product ID to automatically pull out the brand and model of the customer's graphic card, since we found out from our EDA that brand and model is important in helping with classification\n",
    "- Scrap additional solutions from other AMD and NVIDIA forums on top of reddit\n",
    "\n",
    "Recommendations for the future of this project beyond the project second phase:\n",
    "- Turn the classifier into a complete AI recommendation solution for all customers inquiries, not just limited to AMD and NVIDIA graphic cards"
   ]
  }
 ],
 "metadata": {
  "kernelspec": {
   "display_name": "Python 3",
   "language": "python",
   "name": "python3"
  },
  "language_info": {
   "codemirror_mode": {
    "name": "ipython",
    "version": 3
   },
   "file_extension": ".py",
   "mimetype": "text/x-python",
   "name": "python",
   "nbconvert_exporter": "python",
   "pygments_lexer": "ipython3",
   "version": "3.8.8"
  }
 },
 "nbformat": 4,
 "nbformat_minor": 4
}
