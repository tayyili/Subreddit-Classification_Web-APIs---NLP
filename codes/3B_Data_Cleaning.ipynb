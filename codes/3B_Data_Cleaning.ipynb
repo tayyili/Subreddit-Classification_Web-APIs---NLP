{
 "cells": [
  {
   "cell_type": "markdown",
   "metadata": {},
   "source": [
    "<img src=\"http://imgur.com/1ZcRyrc.png\" style=\"float: left; margin: 20px; height: 55px\">\n",
    "\n",
    "# Project 3B: Data_Cleaning"
   ]
  },
  {
   "cell_type": "markdown",
   "metadata": {},
   "source": [
    "### Contents:\n",
    "- [Import Libraries](#Import-Libraries)\n",
    "- [Import Raw Scrapped Data](#Import-Raw-Scrapped-Data)\n",
    "- [Useful Data Summary](#Useful-Data-Summary)\n",
    "- [Initial Dataframe Filtering/Cleaning](#Initial-Dataframe-Filtering/Cleaning)\n",
    "- [Text Processing](#Text-Processing)\n",
    "- [Save Cleaned Data into CSV](#Save-Cleaned-Data-into-CSV)"
   ]
  },
  {
   "cell_type": "markdown",
   "metadata": {},
   "source": [
    "## Import Libraries"
   ]
  },
  {
   "cell_type": "code",
   "execution_count": 1,
   "metadata": {},
   "outputs": [],
   "source": [
    "import pandas as pd\n",
    "import numpy as np\n",
    "import matplotlib.pyplot as plt\n",
    "import seaborn as sns\n",
    "import datetime as dt\n",
    "import nltk\n",
    "import regex as re\n",
    "\n",
    "from bs4 import BeautifulSoup\n",
    "\n",
    "#used to find most frequent words in the texts\n",
    "from collections import Counter\n",
    "\n",
    "from nltk.stem.porter import PorterStemmer\n",
    "from nltk.stem import WordNetLemmatizer\n",
    "from nltk.corpus import stopwords\n",
    "\n",
    "#hide warnings\n",
    "import warnings\n",
    "warnings.filterwarnings('ignore')"
   ]
  },
  {
   "cell_type": "code",
   "execution_count": 2,
   "metadata": {},
   "outputs": [],
   "source": [
    "pd.set_option('display.max_columns', None)"
   ]
  },
  {
   "cell_type": "markdown",
   "metadata": {},
   "source": [
    "## Import Raw Scrapped Data"
   ]
  },
  {
   "cell_type": "code",
   "execution_count": 3,
   "metadata": {},
   "outputs": [],
   "source": [
    "amd = pd.read_csv('../data/amd_raw.csv')"
   ]
  },
  {
   "cell_type": "code",
   "execution_count": 4,
   "metadata": {},
   "outputs": [],
   "source": [
    "nvidia = pd.read_csv('../data/nvidia_raw.csv')"
   ]
  },
  {
   "cell_type": "markdown",
   "metadata": {},
   "source": [
    "## Useful Data Summary"
   ]
  },
  {
   "cell_type": "markdown",
   "metadata": {},
   "source": [
    "From the analysis of the sample data scraped in part 3A, these were the column that were identified as useful. The dataframes will be filtered and cleaned accordingly.\n",
    "\n",
    "<b>Data to keep</b>:\n",
    "- subreddit --> target y\n",
    "- title\n",
    "- selftext\n",
    "- media_only (will use to ensure none of our posts collected have only media in the contents, to drop afterwards)\n",
    "\n",
    "<b>Data to keep but may drop afterwards (numerical, only use if correlation with target can be proven)</b>:\n",
    "- num_comments\n",
    "- num_crossposts\n",
    "- score\n",
    "- total_awards_received"
   ]
  },
  {
   "cell_type": "markdown",
   "metadata": {},
   "source": [
    "<b>Initial cleaning to be done</b>:\n",
    "- drop all duplicates, ensure only unique posts in dataframe\n",
    "- using media_only column to remove that consists of only media\n",
    "- title + selftext --> interaction term the post title and post body\n",
    "- drop rows with NULL values in text column\n",
    "- change subreddit column values to numerical format (amd = 1, nvidia = 0)\n",
    "- keep 10 000 posts per subreddit to ensure balanced datasets for models to train and test on"
   ]
  },
  {
   "cell_type": "markdown",
   "metadata": {},
   "source": [
    "## Initial Dataframe Filtering/Cleaning"
   ]
  },
  {
   "cell_type": "code",
   "execution_count": 5,
   "metadata": {
    "scrolled": false
   },
   "outputs": [
    {
     "name": "stdout",
     "output_type": "stream",
     "text": [
      "AMD NULL value check:\n",
      " subreddit                   0\n",
      "title                       0\n",
      "selftext                 3699\n",
      "media_only                  0\n",
      "num_comments                0\n",
      "num_crossposts              0\n",
      "score                       0\n",
      "total_awards_received       0\n",
      "dtype: int64\n",
      "\n",
      "NVIDIA NULL value check:\n",
      " subreddit                   0\n",
      "title                       0\n",
      "selftext                 3483\n",
      "media_only                  0\n",
      "num_comments                0\n",
      "num_crossposts              0\n",
      "score                       0\n",
      "total_awards_received       0\n",
      "dtype: int64\n"
     ]
    }
   ],
   "source": [
    "#check for null values\n",
    "print('AMD NULL value check:\\n', amd.isnull().sum())\n",
    "print('\\nNVIDIA NULL value check:\\n', nvidia.isnull().sum())"
   ]
  },
  {
   "cell_type": "markdown",
   "metadata": {},
   "source": [
    "The 'selftext' column seems to have NULL values along with cells with '[removed]' values. We will clean these up to prepare the 'selfteext' column to create an iteraction term with the 'title' column."
   ]
  },
  {
   "cell_type": "code",
   "execution_count": 6,
   "metadata": {},
   "outputs": [
    {
     "name": "stdout",
     "output_type": "stream",
     "text": [
      "AMD datatypes:\n",
      " subreddit                object\n",
      "title                    object\n",
      "selftext                 object\n",
      "media_only                 bool\n",
      "num_comments              int64\n",
      "num_crossposts            int64\n",
      "score                     int64\n",
      "total_awards_received     int64\n",
      "dtype: object\n",
      "\n",
      "NVIDIA datatypes:\n",
      " subreddit                object\n",
      "title                    object\n",
      "selftext                 object\n",
      "media_only                 bool\n",
      "num_comments              int64\n",
      "num_crossposts            int64\n",
      "score                     int64\n",
      "total_awards_received     int64\n",
      "dtype: object\n"
     ]
    }
   ],
   "source": [
    "#check datatypes of columns\n",
    "print('AMD datatypes:\\n', amd.dtypes)\n",
    "\n",
    "print('\\nNVIDIA datatypes:\\n', nvidia.dtypes)"
   ]
  },
  {
   "cell_type": "code",
   "execution_count": 7,
   "metadata": {},
   "outputs": [
    {
     "name": "stdout",
     "output_type": "stream",
     "text": [
      "(12000, 8)\n",
      "(12000, 8)\n"
     ]
    }
   ],
   "source": [
    "#number of columns and rows before dropping duplicated posts\n",
    "print(amd.shape)\n",
    "print(nvidia.shape)"
   ]
  },
  {
   "cell_type": "code",
   "execution_count": 8,
   "metadata": {},
   "outputs": [],
   "source": [
    "#drop duplicated posts\n",
    "amd = amd[amd['title'].duplicated() == False]\n",
    "nvidia = nvidia[nvidia['title'].duplicated() == False]"
   ]
  },
  {
   "cell_type": "code",
   "execution_count": 9,
   "metadata": {},
   "outputs": [
    {
     "name": "stdout",
     "output_type": "stream",
     "text": [
      "(11604, 8)\n",
      "(11757, 8)\n"
     ]
    }
   ],
   "source": [
    "#number of columns and rows after dropping duplicated posts\n",
    "print(amd.shape)\n",
    "print(nvidia.shape)"
   ]
  },
  {
   "cell_type": "code",
   "execution_count": 10,
   "metadata": {},
   "outputs": [],
   "source": [
    "#drop posts that contains only media\n",
    "amd = amd[amd['media_only'] == False]\n",
    "nvidia = nvidia[nvidia['media_only'] == False]"
   ]
  },
  {
   "cell_type": "code",
   "execution_count": 11,
   "metadata": {},
   "outputs": [
    {
     "name": "stdout",
     "output_type": "stream",
     "text": [
      "(11604, 8)\n",
      "(11757, 8)\n"
     ]
    }
   ],
   "source": [
    "print(amd.shape)\n",
    "print(nvidia.shape)"
   ]
  },
  {
   "cell_type": "code",
   "execution_count": 12,
   "metadata": {},
   "outputs": [],
   "source": [
    "#drop media_only column\n",
    "amd = amd.drop(columns='media_only')\n",
    "nvidia = nvidia.drop(columns='media_only')"
   ]
  },
  {
   "cell_type": "code",
   "execution_count": 13,
   "metadata": {},
   "outputs": [
    {
     "data": {
      "text/html": [
       "<div>\n",
       "<style scoped>\n",
       "    .dataframe tbody tr th:only-of-type {\n",
       "        vertical-align: middle;\n",
       "    }\n",
       "\n",
       "    .dataframe tbody tr th {\n",
       "        vertical-align: top;\n",
       "    }\n",
       "\n",
       "    .dataframe thead th {\n",
       "        text-align: right;\n",
       "    }\n",
       "</style>\n",
       "<table border=\"1\" class=\"dataframe\">\n",
       "  <thead>\n",
       "    <tr style=\"text-align: right;\">\n",
       "      <th></th>\n",
       "      <th>subreddit</th>\n",
       "      <th>title</th>\n",
       "      <th>selftext</th>\n",
       "      <th>num_comments</th>\n",
       "      <th>num_crossposts</th>\n",
       "      <th>score</th>\n",
       "      <th>total_awards_received</th>\n",
       "    </tr>\n",
       "  </thead>\n",
       "  <tbody>\n",
       "    <tr>\n",
       "      <th>0</th>\n",
       "      <td>Amd</td>\n",
       "      <td>3700x vs 5600x</td>\n",
       "      <td>[removed]</td>\n",
       "      <td>0</td>\n",
       "      <td>0</td>\n",
       "      <td>1</td>\n",
       "      <td>0</td>\n",
       "    </tr>\n",
       "    <tr>\n",
       "      <th>1</th>\n",
       "      <td>Amd</td>\n",
       "      <td>How much is the difference between Amd 7 5800 ...</td>\n",
       "      <td>[removed]</td>\n",
       "      <td>0</td>\n",
       "      <td>0</td>\n",
       "      <td>1</td>\n",
       "      <td>0</td>\n",
       "    </tr>\n",
       "    <tr>\n",
       "      <th>2</th>\n",
       "      <td>Amd</td>\n",
       "      <td>RX 6800 vs RX 6700 XT</td>\n",
       "      <td>[removed]</td>\n",
       "      <td>0</td>\n",
       "      <td>0</td>\n",
       "      <td>1</td>\n",
       "      <td>0</td>\n",
       "    </tr>\n",
       "    <tr>\n",
       "      <th>3</th>\n",
       "      <td>Amd</td>\n",
       "      <td>Will an AMD Wraith Stealth cooler fit on an AM...</td>\n",
       "      <td>[removed]</td>\n",
       "      <td>1</td>\n",
       "      <td>0</td>\n",
       "      <td>1</td>\n",
       "      <td>0</td>\n",
       "    </tr>\n",
       "    <tr>\n",
       "      <th>4</th>\n",
       "      <td>Amd</td>\n",
       "      <td>What does 1.4v do to a 3600xt? Let's find out.</td>\n",
       "      <td>[removed]</td>\n",
       "      <td>0</td>\n",
       "      <td>0</td>\n",
       "      <td>1</td>\n",
       "      <td>0</td>\n",
       "    </tr>\n",
       "  </tbody>\n",
       "</table>\n",
       "</div>"
      ],
      "text/plain": [
       "  subreddit                                              title   selftext  \\\n",
       "0       Amd                                     3700x vs 5600x  [removed]   \n",
       "1       Amd  How much is the difference between Amd 7 5800 ...  [removed]   \n",
       "2       Amd                              RX 6800 vs RX 6700 XT  [removed]   \n",
       "3       Amd  Will an AMD Wraith Stealth cooler fit on an AM...  [removed]   \n",
       "4       Amd     What does 1.4v do to a 3600xt? Let's find out.  [removed]   \n",
       "\n",
       "   num_comments  num_crossposts  score  total_awards_received  \n",
       "0             0               0      1                      0  \n",
       "1             0               0      1                      0  \n",
       "2             0               0      1                      0  \n",
       "3             1               0      1                      0  \n",
       "4             0               0      1                      0  "
      ]
     },
     "execution_count": 13,
     "metadata": {},
     "output_type": "execute_result"
    }
   ],
   "source": [
    "amd.head()"
   ]
  },
  {
   "cell_type": "markdown",
   "metadata": {},
   "source": [
    "For the empty cells (NA values) in the column 'selftext', we will clean it up and fill it in with '' instead of imputing them since imputing may introduce additional duplicates in the model."
   ]
  },
  {
   "cell_type": "code",
   "execution_count": 14,
   "metadata": {
    "scrolled": true
   },
   "outputs": [
    {
     "name": "stdout",
     "output_type": "stream",
     "text": [
      "[''\n",
      " \"\\n\\n \\n\\nbasically, when I download the drivers just before finishes installation it goes black screen and then i have to put the computer into sleep mode then restart. Then it says its finishes installation then starts flickering then i need to restart properly. After that, it is fine unless the computer then sleeps after not being on for some time ( its a gaming laptop) and when usually a spacebar tap should turn it on it goes black screen again. Also when i change refresh rate or when I toggle Virtual Super Resolution or GPU scaling it does the flickering again. I searched this up and the solution was to uninstall dragon center and that doesn't do anything, even when i uninstall everything AMD Radeon software and re install. I've tried with both 21.4.1 and 21.5.1. I then decided to just do the windows update driver AMD display and I think that downloaded the original driver and software version that the laptop originally came with. \\n\\nI get stuttering even when uninstalling with ddu ,I think the windows update one it originally came with was 21.3.1 or 21.3.2 and there’s no issues what so ever no change in FPS no decrease in performance so do you think it would be fine for now? \\n\\nAMD Radeon software version:  [https://imgur.com/a/EJFgYPT]\\n\\nMy laptop is an MSI Bravo 15 with rx 5500m , ryzen 7 4th gen and 8gb ram.\\n\\nMany thanks,\"\n",
      " '\\n\\nI was wondering if 77-80 degrees on medium settings at 1080p (in subnautica below zero, but basically any graphically demanding game) was good for a r5 3600? I was wondering because my idle temps are being displayed incorrect so I was wondering if these are also.'\n",
      " ...\n",
      " 'with ryzen master in manual mode(basic view) i achieve 4550 on ccd1 and 4500 on ccd2 with 1.2V on my 5900x in multicore load and yield a cinebench R23 score of almost 22800 in normal tdp 142W at 1.2V. thats the optimum and chip only reaches 67°C. \\n\\n&amp;#x200B;\\n\\nwith curveoptimizer this is not achievable, best i get is 21300. at 1°C lower ( same tdp , i fixed it to default values , 142 , 140 90)\\n\\n&amp;#x200B;\\n\\nany alterntive way to finetune this strange processor ? coming from intel and its overclocking suite this feels like going back to the early 2000´s lol'\n",
      " 'would it be better to use my GTX 1060 3gb or should i switch to a RX 570 8gb?'\n",
      " 'wow this has been sitting on shelves for more than 6 hours now\\n\\n&amp;#x200B;\\n\\n[https://www.newegg.com/msi-radeon-rx-6900-xt-rx-6900-xt-gaming-z-trio-16g/p/N82E16814137654?Item=N82E16814137654&amp;Tpk=N82E16814137654](https://www.newegg.com/msi-radeon-rx-6900-xt-rx-6900-xt-gaming-z-trio-16g/p/N82E16814137654?Item=N82E16814137654&amp;Tpk=N82E16814137654)\\n\\n&amp;#x200B;\\n\\nwhat a deal. way better than nvidia greedy evil shady corporate practice n their garbage dlss ray tracing gimmick.'] \n",
      "\n",
      "[''\n",
      " '\\n\\nHi, stupidly random question but there is loads of people in here with the FtW cards, would someone that doesn’t want their box for the gpu want to send me it rather than bin it? My house mate binned mine as it was empty and it’s slowly killing me inside. from the uk and I’ll cover costs :) thanks'\n",
      " '\\n\\nI have a 2070super from evga and I usually get expected temps under gaming like 60-70 depending on the game but I’m suddenly getting 37 or 38 degrees in league is that normal or idk that’s pretty close to my idle temps so i was wondering if I should worry about condensation or that’s fine'\n",
      " ...\n",
      " 'zMe-ul (@zmeul80) Tweeted:\\n@Palit_Global heya!\\nwhen should we expect BAR BIOS updates for 30xx series video cards? https://twitter.com/zmeul80/status/1376548876807770117?s=20'\n",
      " '¡ Warning ! ¡ Noob questions incoming !\\n\\nHi, are 4K and 2K screens useless unless the content you are streaming or the games you are playing are also at the same resolution ? \\n\\nFor example, if you watch a 1080p video on a 2K screen and in 2K resolution, will it look better, the same or worse than if you watched it on a 1080p screen ?\\n\\nWhat about games ? How do you select the resolution in which you want to run them (the game itself, not the resolution of the screen) ? By settings ? If so, what is the equivalent of ultra settings or max settings in pixels ? Does it depend on the game ? If max settings in some games is equivalent to 1080p, how would they look on a 2K screen (in 2K resolution) ? Better, same or worse than in a 1080p screen ?\\n\\nFinally, how would content (videos &amp; games) look on a 2K screen if you lower the resolution to 1080p ? Would it look better, the same or worse than in a native 1080p screen ?\\n\\nThanks in advance for all your replies, they really help me a lot !'\n",
      " '“An error occurred. Please restart your game to use this feature.”\\nI love using the color filters for any game i play because it increases visibility for me. But every time I launch my games, I have to relaunch them once or twice to use the game filter because it would always show that prompt, if not the “A support game is needed to use this feature” or something like that. How do I perma-fix this and is there a way to make it automatically apply my filter whenever i start a game? I have to Alt+F3 every time and it’s just quite tedious coz my laptop is super old.']\n"
     ]
    }
   ],
   "source": [
    "#check if 'selftext' column has empty cells\n",
    "if amd['selftext'].isnull().sum() != 0:\n",
    "    #if there is null values, fill those cells with '' to prepare for interaction term\n",
    "    amd['selftext'] = amd['selftext'].fillna('')\n",
    "    \n",
    "if nvidia['selftext'].isnull().sum() != 0:\n",
    "    #if there is null values, fill those cells with '' to prepare for interaction term\n",
    "    nvidia['selftext'] = nvidia['selftext'].fillna('')\n",
    "    \n",
    "print(np.unique(amd['selftext']), '\\n')\n",
    "print(np.unique(nvidia['selftext']))\n"
   ]
  },
  {
   "cell_type": "code",
   "execution_count": 15,
   "metadata": {
    "scrolled": true
   },
   "outputs": [
    {
     "name": "stdout",
     "output_type": "stream",
     "text": [
      "[''\n",
      " \"\\n\\n \\n\\nbasically, when I download the drivers just before finishes installation it goes black screen and then i have to put the computer into sleep mode then restart. Then it says its finishes installation then starts flickering then i need to restart properly. After that, it is fine unless the computer then sleeps after not being on for some time ( its a gaming laptop) and when usually a spacebar tap should turn it on it goes black screen again. Also when i change refresh rate or when I toggle Virtual Super Resolution or GPU scaling it does the flickering again. I searched this up and the solution was to uninstall dragon center and that doesn't do anything, even when i uninstall everything AMD Radeon software and re install. I've tried with both 21.4.1 and 21.5.1. I then decided to just do the windows update driver AMD display and I think that downloaded the original driver and software version that the laptop originally came with. \\n\\nI get stuttering even when uninstalling with ddu ,I think the windows update one it originally came with was 21.3.1 or 21.3.2 and there’s no issues what so ever no change in FPS no decrease in performance so do you think it would be fine for now? \\n\\nAMD Radeon software version:  [https://imgur.com/a/EJFgYPT]\\n\\nMy laptop is an MSI Bravo 15 with rx 5500m , ryzen 7 4th gen and 8gb ram.\\n\\nMany thanks,\"\n",
      " '\\n\\nI was wondering if 77-80 degrees on medium settings at 1080p (in subnautica below zero, but basically any graphically demanding game) was good for a r5 3600? I was wondering because my idle temps are being displayed incorrect so I was wondering if these are also.'\n",
      " ...\n",
      " 'with ryzen master in manual mode(basic view) i achieve 4550 on ccd1 and 4500 on ccd2 with 1.2V on my 5900x in multicore load and yield a cinebench R23 score of almost 22800 in normal tdp 142W at 1.2V. thats the optimum and chip only reaches 67°C. \\n\\n&amp;#x200B;\\n\\nwith curveoptimizer this is not achievable, best i get is 21300. at 1°C lower ( same tdp , i fixed it to default values , 142 , 140 90)\\n\\n&amp;#x200B;\\n\\nany alterntive way to finetune this strange processor ? coming from intel and its overclocking suite this feels like going back to the early 2000´s lol'\n",
      " 'would it be better to use my GTX 1060 3gb or should i switch to a RX 570 8gb?'\n",
      " 'wow this has been sitting on shelves for more than 6 hours now\\n\\n&amp;#x200B;\\n\\n[https://www.newegg.com/msi-radeon-rx-6900-xt-rx-6900-xt-gaming-z-trio-16g/p/N82E16814137654?Item=N82E16814137654&amp;Tpk=N82E16814137654](https://www.newegg.com/msi-radeon-rx-6900-xt-rx-6900-xt-gaming-z-trio-16g/p/N82E16814137654?Item=N82E16814137654&amp;Tpk=N82E16814137654)\\n\\n&amp;#x200B;\\n\\nwhat a deal. way better than nvidia greedy evil shady corporate practice n their garbage dlss ray tracing gimmick.'] \n",
      "\n",
      "[''\n",
      " '\\n\\nHi, stupidly random question but there is loads of people in here with the FtW cards, would someone that doesn’t want their box for the gpu want to send me it rather than bin it? My house mate binned mine as it was empty and it’s slowly killing me inside. from the uk and I’ll cover costs :) thanks'\n",
      " '\\n\\nI have a 2070super from evga and I usually get expected temps under gaming like 60-70 depending on the game but I’m suddenly getting 37 or 38 degrees in league is that normal or idk that’s pretty close to my idle temps so i was wondering if I should worry about condensation or that’s fine'\n",
      " ...\n",
      " 'zMe-ul (@zmeul80) Tweeted:\\n@Palit_Global heya!\\nwhen should we expect BAR BIOS updates for 30xx series video cards? https://twitter.com/zmeul80/status/1376548876807770117?s=20'\n",
      " '¡ Warning ! ¡ Noob questions incoming !\\n\\nHi, are 4K and 2K screens useless unless the content you are streaming or the games you are playing are also at the same resolution ? \\n\\nFor example, if you watch a 1080p video on a 2K screen and in 2K resolution, will it look better, the same or worse than if you watched it on a 1080p screen ?\\n\\nWhat about games ? How do you select the resolution in which you want to run them (the game itself, not the resolution of the screen) ? By settings ? If so, what is the equivalent of ultra settings or max settings in pixels ? Does it depend on the game ? If max settings in some games is equivalent to 1080p, how would they look on a 2K screen (in 2K resolution) ? Better, same or worse than in a 1080p screen ?\\n\\nFinally, how would content (videos &amp; games) look on a 2K screen if you lower the resolution to 1080p ? Would it look better, the same or worse than in a native 1080p screen ?\\n\\nThanks in advance for all your replies, they really help me a lot !'\n",
      " '“An error occurred. Please restart your game to use this feature.”\\nI love using the color filters for any game i play because it increases visibility for me. But every time I launch my games, I have to relaunch them once or twice to use the game filter because it would always show that prompt, if not the “A support game is needed to use this feature” or something like that. How do I perma-fix this and is there a way to make it automatically apply my filter whenever i start a game? I have to Alt+F3 every time and it’s just quite tedious coz my laptop is super old.']\n"
     ]
    }
   ],
   "source": [
    "#check if '[removed]' values are inside the columns\n",
    "if '[removed]' in np.unique(amd['selftext']):\n",
    "    #if there is '[removed]' values, replace those cells with '' to prepare for interaction term\n",
    "    amd['selftext'] = amd['selftext'].replace('[removed]', '')\n",
    "\n",
    "if '[removed]' in np.unique(nvidia['selftext']):\n",
    "    #if there is '[removed]' values, replace those cells with '' to prepare for interaction term\n",
    "    nvidia['selftext'] = nvidia['selftext'].replace('[removed]', '')\n",
    "\n",
    "    \n",
    "print(np.unique(amd['selftext']), '\\n')\n",
    "print(np.unique(nvidia['selftext']))"
   ]
  },
  {
   "cell_type": "code",
   "execution_count": 16,
   "metadata": {},
   "outputs": [
    {
     "data": {
      "text/html": [
       "<div>\n",
       "<style scoped>\n",
       "    .dataframe tbody tr th:only-of-type {\n",
       "        vertical-align: middle;\n",
       "    }\n",
       "\n",
       "    .dataframe tbody tr th {\n",
       "        vertical-align: top;\n",
       "    }\n",
       "\n",
       "    .dataframe thead th {\n",
       "        text-align: right;\n",
       "    }\n",
       "</style>\n",
       "<table border=\"1\" class=\"dataframe\">\n",
       "  <thead>\n",
       "    <tr style=\"text-align: right;\">\n",
       "      <th></th>\n",
       "      <th>subreddit</th>\n",
       "      <th>num_comments</th>\n",
       "      <th>num_crossposts</th>\n",
       "      <th>score</th>\n",
       "      <th>total_awards_received</th>\n",
       "      <th>title_selftext</th>\n",
       "    </tr>\n",
       "  </thead>\n",
       "  <tbody>\n",
       "    <tr>\n",
       "      <th>0</th>\n",
       "      <td>Amd</td>\n",
       "      <td>0</td>\n",
       "      <td>0</td>\n",
       "      <td>1</td>\n",
       "      <td>0</td>\n",
       "      <td>3700x vs 5600x</td>\n",
       "    </tr>\n",
       "    <tr>\n",
       "      <th>1</th>\n",
       "      <td>Amd</td>\n",
       "      <td>0</td>\n",
       "      <td>0</td>\n",
       "      <td>1</td>\n",
       "      <td>0</td>\n",
       "      <td>How much is the difference between Amd 7 5800 ...</td>\n",
       "    </tr>\n",
       "    <tr>\n",
       "      <th>2</th>\n",
       "      <td>Amd</td>\n",
       "      <td>0</td>\n",
       "      <td>0</td>\n",
       "      <td>1</td>\n",
       "      <td>0</td>\n",
       "      <td>RX 6800 vs RX 6700 XT</td>\n",
       "    </tr>\n",
       "    <tr>\n",
       "      <th>3</th>\n",
       "      <td>Amd</td>\n",
       "      <td>1</td>\n",
       "      <td>0</td>\n",
       "      <td>1</td>\n",
       "      <td>0</td>\n",
       "      <td>Will an AMD Wraith Stealth cooler fit on an AM...</td>\n",
       "    </tr>\n",
       "    <tr>\n",
       "      <th>4</th>\n",
       "      <td>Amd</td>\n",
       "      <td>0</td>\n",
       "      <td>0</td>\n",
       "      <td>1</td>\n",
       "      <td>0</td>\n",
       "      <td>What does 1.4v do to a 3600xt? Let's find out.</td>\n",
       "    </tr>\n",
       "  </tbody>\n",
       "</table>\n",
       "</div>"
      ],
      "text/plain": [
       "  subreddit  num_comments  num_crossposts  score  total_awards_received  \\\n",
       "0       Amd             0               0      1                      0   \n",
       "1       Amd             0               0      1                      0   \n",
       "2       Amd             0               0      1                      0   \n",
       "3       Amd             1               0      1                      0   \n",
       "4       Amd             0               0      1                      0   \n",
       "\n",
       "                                      title_selftext  \n",
       "0                                     3700x vs 5600x  \n",
       "1  How much is the difference between Amd 7 5800 ...  \n",
       "2                              RX 6800 vs RX 6700 XT  \n",
       "3  Will an AMD Wraith Stealth cooler fit on an AM...  \n",
       "4     What does 1.4v do to a 3600xt? Let's find out.  "
      ]
     },
     "execution_count": 16,
     "metadata": {},
     "output_type": "execute_result"
    }
   ],
   "source": [
    "#interaction term between 'title' and 'selftext' for amd dataframe\n",
    "amd['title_selftext'] = amd['title'] + amd['selftext']\n",
    "\n",
    "#drop original columns to reduce multicollinearity\n",
    "amd = amd.drop(columns=['title', 'selftext'])\n",
    "\n",
    "amd.head()"
   ]
  },
  {
   "cell_type": "code",
   "execution_count": 17,
   "metadata": {},
   "outputs": [
    {
     "data": {
      "text/html": [
       "<div>\n",
       "<style scoped>\n",
       "    .dataframe tbody tr th:only-of-type {\n",
       "        vertical-align: middle;\n",
       "    }\n",
       "\n",
       "    .dataframe tbody tr th {\n",
       "        vertical-align: top;\n",
       "    }\n",
       "\n",
       "    .dataframe thead th {\n",
       "        text-align: right;\n",
       "    }\n",
       "</style>\n",
       "<table border=\"1\" class=\"dataframe\">\n",
       "  <thead>\n",
       "    <tr style=\"text-align: right;\">\n",
       "      <th></th>\n",
       "      <th>subreddit</th>\n",
       "      <th>num_comments</th>\n",
       "      <th>num_crossposts</th>\n",
       "      <th>score</th>\n",
       "      <th>total_awards_received</th>\n",
       "      <th>title_selftext</th>\n",
       "    </tr>\n",
       "  </thead>\n",
       "  <tbody>\n",
       "    <tr>\n",
       "      <th>0</th>\n",
       "      <td>nvidia</td>\n",
       "      <td>0</td>\n",
       "      <td>0</td>\n",
       "      <td>1</td>\n",
       "      <td>0</td>\n",
       "      <td>GFN Thursday: 14 New Games Join GeForce NOW</td>\n",
       "    </tr>\n",
       "    <tr>\n",
       "      <th>1</th>\n",
       "      <td>nvidia</td>\n",
       "      <td>0</td>\n",
       "      <td>0</td>\n",
       "      <td>1</td>\n",
       "      <td>0</td>\n",
       "      <td>Where to buy GPU in ItalyHello everyone i'm fr...</td>\n",
       "    </tr>\n",
       "    <tr>\n",
       "      <th>2</th>\n",
       "      <td>nvidia</td>\n",
       "      <td>0</td>\n",
       "      <td>0</td>\n",
       "      <td>1</td>\n",
       "      <td>0</td>\n",
       "      <td>Really bad performance in gta 5 onlyI hadn’t p...</td>\n",
       "    </tr>\n",
       "    <tr>\n",
       "      <th>3</th>\n",
       "      <td>nvidia</td>\n",
       "      <td>0</td>\n",
       "      <td>0</td>\n",
       "      <td>1</td>\n",
       "      <td>0</td>\n",
       "      <td>Unlocking gtx 1660ti I need  help me with unlo...</td>\n",
       "    </tr>\n",
       "    <tr>\n",
       "      <th>4</th>\n",
       "      <td>nvidia</td>\n",
       "      <td>0</td>\n",
       "      <td>0</td>\n",
       "      <td>1</td>\n",
       "      <td>0</td>\n",
       "      <td>Why is my Geforce Experience doing this?</td>\n",
       "    </tr>\n",
       "  </tbody>\n",
       "</table>\n",
       "</div>"
      ],
      "text/plain": [
       "  subreddit  num_comments  num_crossposts  score  total_awards_received  \\\n",
       "0    nvidia             0               0      1                      0   \n",
       "1    nvidia             0               0      1                      0   \n",
       "2    nvidia             0               0      1                      0   \n",
       "3    nvidia             0               0      1                      0   \n",
       "4    nvidia             0               0      1                      0   \n",
       "\n",
       "                                      title_selftext  \n",
       "0        GFN Thursday: 14 New Games Join GeForce NOW  \n",
       "1  Where to buy GPU in ItalyHello everyone i'm fr...  \n",
       "2  Really bad performance in gta 5 onlyI hadn’t p...  \n",
       "3  Unlocking gtx 1660ti I need  help me with unlo...  \n",
       "4           Why is my Geforce Experience doing this?  "
      ]
     },
     "execution_count": 17,
     "metadata": {},
     "output_type": "execute_result"
    }
   ],
   "source": [
    "#interaction term between 'title' and 'selftext' for nvidia dataframe\n",
    "nvidia['title_selftext'] = nvidia['title'] + nvidia['selftext']\n",
    "\n",
    "#drop original columns to reduce multicollinearity\n",
    "nvidia = nvidia.drop(columns=['title', 'selftext'])\n",
    "\n",
    "nvidia.head()"
   ]
  },
  {
   "cell_type": "code",
   "execution_count": 18,
   "metadata": {
    "scrolled": false
   },
   "outputs": [
    {
     "data": {
      "text/html": [
       "<div>\n",
       "<style scoped>\n",
       "    .dataframe tbody tr th:only-of-type {\n",
       "        vertical-align: middle;\n",
       "    }\n",
       "\n",
       "    .dataframe tbody tr th {\n",
       "        vertical-align: top;\n",
       "    }\n",
       "\n",
       "    .dataframe thead th {\n",
       "        text-align: right;\n",
       "    }\n",
       "</style>\n",
       "<table border=\"1\" class=\"dataframe\">\n",
       "  <thead>\n",
       "    <tr style=\"text-align: right;\">\n",
       "      <th></th>\n",
       "      <th>subreddit</th>\n",
       "      <th>num_comments</th>\n",
       "      <th>num_crossposts</th>\n",
       "      <th>score</th>\n",
       "      <th>total_awards_received</th>\n",
       "      <th>title_selftext</th>\n",
       "    </tr>\n",
       "  </thead>\n",
       "  <tbody>\n",
       "    <tr>\n",
       "      <th>0</th>\n",
       "      <td>Amd</td>\n",
       "      <td>0</td>\n",
       "      <td>0</td>\n",
       "      <td>1</td>\n",
       "      <td>0</td>\n",
       "      <td>3700x vs 5600x</td>\n",
       "    </tr>\n",
       "    <tr>\n",
       "      <th>1</th>\n",
       "      <td>Amd</td>\n",
       "      <td>0</td>\n",
       "      <td>0</td>\n",
       "      <td>1</td>\n",
       "      <td>0</td>\n",
       "      <td>How much is the difference between Amd 7 5800 ...</td>\n",
       "    </tr>\n",
       "    <tr>\n",
       "      <th>2</th>\n",
       "      <td>Amd</td>\n",
       "      <td>0</td>\n",
       "      <td>0</td>\n",
       "      <td>1</td>\n",
       "      <td>0</td>\n",
       "      <td>RX 6800 vs RX 6700 XT</td>\n",
       "    </tr>\n",
       "    <tr>\n",
       "      <th>3</th>\n",
       "      <td>Amd</td>\n",
       "      <td>1</td>\n",
       "      <td>0</td>\n",
       "      <td>1</td>\n",
       "      <td>0</td>\n",
       "      <td>Will an AMD Wraith Stealth cooler fit on an AM...</td>\n",
       "    </tr>\n",
       "    <tr>\n",
       "      <th>4</th>\n",
       "      <td>Amd</td>\n",
       "      <td>0</td>\n",
       "      <td>0</td>\n",
       "      <td>1</td>\n",
       "      <td>0</td>\n",
       "      <td>What does 1.4v do to a 3600xt? Let's find out.</td>\n",
       "    </tr>\n",
       "  </tbody>\n",
       "</table>\n",
       "</div>"
      ],
      "text/plain": [
       "  subreddit  num_comments  num_crossposts  score  total_awards_received  \\\n",
       "0       Amd             0               0      1                      0   \n",
       "1       Amd             0               0      1                      0   \n",
       "2       Amd             0               0      1                      0   \n",
       "3       Amd             1               0      1                      0   \n",
       "4       Amd             0               0      1                      0   \n",
       "\n",
       "                                      title_selftext  \n",
       "0                                     3700x vs 5600x  \n",
       "1  How much is the difference between Amd 7 5800 ...  \n",
       "2                              RX 6800 vs RX 6700 XT  \n",
       "3  Will an AMD Wraith Stealth cooler fit on an AM...  \n",
       "4     What does 1.4v do to a 3600xt? Let's find out.  "
      ]
     },
     "execution_count": 18,
     "metadata": {},
     "output_type": "execute_result"
    }
   ],
   "source": [
    "amd.head()"
   ]
  },
  {
   "cell_type": "code",
   "execution_count": 19,
   "metadata": {},
   "outputs": [],
   "source": [
    "#remove links inside the posts\n",
    "amd['title_selftext'] = amd['title_selftext'].replace(r'http\\S+', '', regex=True).replace(r'www\\S+', '', regex=True)"
   ]
  },
  {
   "cell_type": "code",
   "execution_count": 20,
   "metadata": {},
   "outputs": [],
   "source": [
    "#remove links inside the posts\n",
    "nvidia['title_selftext'] = nvidia['title_selftext'].replace(r'http\\S+', '', regex=True).replace(r'www\\S+', '', regex=True)"
   ]
  },
  {
   "cell_type": "markdown",
   "metadata": {},
   "source": [
    "## Text Processing"
   ]
  },
  {
   "cell_type": "markdown",
   "metadata": {},
   "source": [
    "The following are the steps taken in text processing before we begin vectorising.\n",
    "\n",
    "1. Remove HTML using BeautifulSoup\n",
    "2. Remove non-characters (punctuations etc) using RegEx\n",
    "3. Change all words to lowercase\n",
    "4. Tokenise the text\n",
    "5. Remove stopwords\n",
    "6. Lemmatise the text"
   ]
  },
  {
   "cell_type": "markdown",
   "metadata": {},
   "source": [
    "In this project, due to the time constraint, we will only <b>focus on Lemmatizing</b> as it returns dictionary words.\n",
    "We will not be using Stemming as the words returned may not be actual dictionary words.\n",
    "\n",
    "Should there be more time to refine the project, Stemming should also be used and the results from both should be compared before deciding which is more suitable."
   ]
  },
  {
   "cell_type": "code",
   "execution_count": 21,
   "metadata": {},
   "outputs": [
    {
     "data": {
      "text/plain": [
       "['i',\n",
       " 'me',\n",
       " 'my',\n",
       " 'myself',\n",
       " 'we',\n",
       " 'our',\n",
       " 'ours',\n",
       " 'ourselves',\n",
       " 'you',\n",
       " \"you're\",\n",
       " \"you've\",\n",
       " \"you'll\",\n",
       " \"you'd\",\n",
       " 'your',\n",
       " 'yours',\n",
       " 'yourself',\n",
       " 'yourselves',\n",
       " 'he',\n",
       " 'him',\n",
       " 'his',\n",
       " 'himself',\n",
       " 'she',\n",
       " \"she's\",\n",
       " 'her',\n",
       " 'hers',\n",
       " 'herself',\n",
       " 'it',\n",
       " \"it's\",\n",
       " 'its',\n",
       " 'itself',\n",
       " 'they',\n",
       " 'them',\n",
       " 'their',\n",
       " 'theirs',\n",
       " 'themselves',\n",
       " 'what',\n",
       " 'which',\n",
       " 'who',\n",
       " 'whom',\n",
       " 'this',\n",
       " 'that',\n",
       " \"that'll\",\n",
       " 'these',\n",
       " 'those',\n",
       " 'am',\n",
       " 'is',\n",
       " 'are',\n",
       " 'was',\n",
       " 'were',\n",
       " 'be',\n",
       " 'been',\n",
       " 'being',\n",
       " 'have',\n",
       " 'has',\n",
       " 'had',\n",
       " 'having',\n",
       " 'do',\n",
       " 'does',\n",
       " 'did',\n",
       " 'doing',\n",
       " 'a',\n",
       " 'an',\n",
       " 'the',\n",
       " 'and',\n",
       " 'but',\n",
       " 'if',\n",
       " 'or',\n",
       " 'because',\n",
       " 'as',\n",
       " 'until',\n",
       " 'while',\n",
       " 'of',\n",
       " 'at',\n",
       " 'by',\n",
       " 'for',\n",
       " 'with',\n",
       " 'about',\n",
       " 'against',\n",
       " 'between',\n",
       " 'into',\n",
       " 'through',\n",
       " 'during',\n",
       " 'before',\n",
       " 'after',\n",
       " 'above',\n",
       " 'below',\n",
       " 'to',\n",
       " 'from',\n",
       " 'up',\n",
       " 'down',\n",
       " 'in',\n",
       " 'out',\n",
       " 'on',\n",
       " 'off',\n",
       " 'over',\n",
       " 'under',\n",
       " 'again',\n",
       " 'further',\n",
       " 'then',\n",
       " 'once',\n",
       " 'here',\n",
       " 'there',\n",
       " 'when',\n",
       " 'where',\n",
       " 'why',\n",
       " 'how',\n",
       " 'all',\n",
       " 'any',\n",
       " 'both',\n",
       " 'each',\n",
       " 'few',\n",
       " 'more',\n",
       " 'most',\n",
       " 'other',\n",
       " 'some',\n",
       " 'such',\n",
       " 'no',\n",
       " 'nor',\n",
       " 'not',\n",
       " 'only',\n",
       " 'own',\n",
       " 'same',\n",
       " 'so',\n",
       " 'than',\n",
       " 'too',\n",
       " 'very',\n",
       " 's',\n",
       " 't',\n",
       " 'can',\n",
       " 'will',\n",
       " 'just',\n",
       " 'don',\n",
       " \"don't\",\n",
       " 'should',\n",
       " \"should've\",\n",
       " 'now',\n",
       " 'd',\n",
       " 'll',\n",
       " 'm',\n",
       " 'o',\n",
       " 're',\n",
       " 've',\n",
       " 'y',\n",
       " 'ain',\n",
       " 'aren',\n",
       " \"aren't\",\n",
       " 'couldn',\n",
       " \"couldn't\",\n",
       " 'didn',\n",
       " \"didn't\",\n",
       " 'doesn',\n",
       " \"doesn't\",\n",
       " 'hadn',\n",
       " \"hadn't\",\n",
       " 'hasn',\n",
       " \"hasn't\",\n",
       " 'haven',\n",
       " \"haven't\",\n",
       " 'isn',\n",
       " \"isn't\",\n",
       " 'ma',\n",
       " 'mightn',\n",
       " \"mightn't\",\n",
       " 'mustn',\n",
       " \"mustn't\",\n",
       " 'needn',\n",
       " \"needn't\",\n",
       " 'shan',\n",
       " \"shan't\",\n",
       " 'shouldn',\n",
       " \"shouldn't\",\n",
       " 'wasn',\n",
       " \"wasn't\",\n",
       " 'weren',\n",
       " \"weren't\",\n",
       " 'won',\n",
       " \"won't\",\n",
       " 'wouldn',\n",
       " \"wouldn't\",\n",
       " 'would',\n",
       " 'pc',\n",
       " 'new']"
      ]
     },
     "execution_count": 21,
     "metadata": {},
     "output_type": "execute_result"
    }
   ],
   "source": [
    "#get the stopwords\n",
    "stopwords = stopwords.words('english')\n",
    "stopwords.extend(['would', 'pc', 'new'])\n",
    "\n",
    "stopwords"
   ]
  },
  {
   "cell_type": "code",
   "execution_count": 22,
   "metadata": {},
   "outputs": [],
   "source": [
    "#Create process function to lower case, remove punctuation, tokenize, remove stopwords\n",
    "def process_text(dataframe_text):\n",
    "    \n",
    "    #empty list for each row of text in dataframe\n",
    "    processed = []\n",
    "    \n",
    "    #loop through each row\n",
    "    for cell in dataframe_text:\n",
    "        \n",
    "        #instantiate lemmatizer\n",
    "        lemma = WordNetLemmatizer()\n",
    "    \n",
    "        #remove HTML from text\n",
    "        html_removed_step1 = BeautifulSoup(cell).get_text()\n",
    "    \n",
    "        #remove non-characters by replacing with space\n",
    "        nonchar_removed_step2 = re.sub('[^a-zA-Z]', ' ', html_removed_step1)\n",
    "    \n",
    "        #change text to lowercase\n",
    "        lower_step3 = nonchar_removed_step2.lower()\n",
    "    \n",
    "        #tokenise text by splitting\n",
    "        token_step4 = lower_step3.split()\n",
    "    \n",
    "        #remove stopwords from list of text and lemmatise them\n",
    "        lemma_no_stop_step5 = [lemma.lemmatize(word) for word in token_step4 if word not in stopwords]\n",
    "        \n",
    "        #join words for each row\n",
    "        joined_step6 = (' '.join(lemma_no_stop_step5))\n",
    "        \n",
    "        #append processed row into list\n",
    "        processed.append(joined_step6)\n",
    "    \n",
    "    #join the words for each post and return it\n",
    "    return processed"
   ]
  },
  {
   "cell_type": "code",
   "execution_count": 23,
   "metadata": {
    "scrolled": true
   },
   "outputs": [],
   "source": [
    "#text process for amd subreddit data\n",
    "amd['cleaned_texts'] = process_text(amd['title_selftext'])"
   ]
  },
  {
   "cell_type": "code",
   "execution_count": 24,
   "metadata": {},
   "outputs": [],
   "source": [
    "#text process for nvidia subreddit data\n",
    "nvidia['cleaned_texts'] = process_text(nvidia['title_selftext'])"
   ]
  },
  {
   "cell_type": "code",
   "execution_count": 25,
   "metadata": {},
   "outputs": [
    {
     "name": "stdout",
     "output_type": "stream",
     "text": [
      "AMD:\n",
      " subreddit                0\n",
      "num_comments             0\n",
      "num_crossposts           0\n",
      "score                    0\n",
      "total_awards_received    0\n",
      "title_selftext           0\n",
      "cleaned_texts            0\n",
      "dtype: int64\n",
      "\n",
      "NVIDIA:\n",
      " subreddit                0\n",
      "num_comments             0\n",
      "num_crossposts           0\n",
      "score                    0\n",
      "total_awards_received    0\n",
      "title_selftext           0\n",
      "cleaned_texts            0\n",
      "dtype: int64\n"
     ]
    }
   ],
   "source": [
    "#check if text processing caused any NULL cells\n",
    "print('AMD:\\n', amd.isnull().sum())\n",
    "print('\\nNVIDIA:\\n', nvidia.isnull().sum())"
   ]
  },
  {
   "cell_type": "markdown",
   "metadata": {},
   "source": [
    "It seems that no NULL cells were created after text processing."
   ]
  },
  {
   "cell_type": "markdown",
   "metadata": {},
   "source": [
    "The code below is included to sieve out cells with empty strings and drop those as they will reflect as NULL cells after saving into csv.\n",
    "\n",
    "As there will be minimal, if any, of these empty string cells created after text processing (since we are dealing with post submissions), we are comfortable with dropping them along with the NULL cells created (if any)."
   ]
  },
  {
   "cell_type": "code",
   "execution_count": 26,
   "metadata": {},
   "outputs": [],
   "source": [
    "amd = amd.drop(amd[amd.cleaned_texts.isnull()].index)\n",
    "amd = amd.drop(amd[amd.cleaned_texts == ''].index)\n",
    "    \n",
    "nvidia = nvidia.drop(nvidia[nvidia.cleaned_texts.isnull()].index)\n",
    "nvidia = nvidia.drop(nvidia[nvidia.cleaned_texts == ''].index)\n"
   ]
  },
  {
   "cell_type": "code",
   "execution_count": 27,
   "metadata": {},
   "outputs": [
    {
     "data": {
      "text/plain": [
       "(11593, 7)"
      ]
     },
     "execution_count": 27,
     "metadata": {},
     "output_type": "execute_result"
    }
   ],
   "source": [
    "amd.shape"
   ]
  },
  {
   "cell_type": "code",
   "execution_count": 28,
   "metadata": {},
   "outputs": [
    {
     "data": {
      "text/plain": [
       "(11731, 7)"
      ]
     },
     "execution_count": 28,
     "metadata": {},
     "output_type": "execute_result"
    }
   ],
   "source": [
    "nvidia.shape"
   ]
  },
  {
   "cell_type": "code",
   "execution_count": 29,
   "metadata": {
    "scrolled": true
   },
   "outputs": [
    {
     "data": {
      "text/html": [
       "<div>\n",
       "<style scoped>\n",
       "    .dataframe tbody tr th:only-of-type {\n",
       "        vertical-align: middle;\n",
       "    }\n",
       "\n",
       "    .dataframe tbody tr th {\n",
       "        vertical-align: top;\n",
       "    }\n",
       "\n",
       "    .dataframe thead th {\n",
       "        text-align: right;\n",
       "    }\n",
       "</style>\n",
       "<table border=\"1\" class=\"dataframe\">\n",
       "  <thead>\n",
       "    <tr style=\"text-align: right;\">\n",
       "      <th></th>\n",
       "      <th>subreddit</th>\n",
       "      <th>num_comments</th>\n",
       "      <th>num_crossposts</th>\n",
       "      <th>score</th>\n",
       "      <th>total_awards_received</th>\n",
       "      <th>title_selftext</th>\n",
       "      <th>cleaned_texts</th>\n",
       "    </tr>\n",
       "  </thead>\n",
       "  <tbody>\n",
       "    <tr>\n",
       "      <th>0</th>\n",
       "      <td>Amd</td>\n",
       "      <td>0</td>\n",
       "      <td>0</td>\n",
       "      <td>1</td>\n",
       "      <td>0</td>\n",
       "      <td>3700x vs 5600x</td>\n",
       "      <td>x v x</td>\n",
       "    </tr>\n",
       "    <tr>\n",
       "      <th>1</th>\n",
       "      <td>Amd</td>\n",
       "      <td>0</td>\n",
       "      <td>0</td>\n",
       "      <td>1</td>\n",
       "      <td>0</td>\n",
       "      <td>How much is the difference between Amd 7 5800 ...</td>\n",
       "      <td>much difference amd v x worth pay x</td>\n",
       "    </tr>\n",
       "    <tr>\n",
       "      <th>2</th>\n",
       "      <td>Amd</td>\n",
       "      <td>0</td>\n",
       "      <td>0</td>\n",
       "      <td>1</td>\n",
       "      <td>0</td>\n",
       "      <td>RX 6800 vs RX 6700 XT</td>\n",
       "      <td>rx v rx xt</td>\n",
       "    </tr>\n",
       "    <tr>\n",
       "      <th>3</th>\n",
       "      <td>Amd</td>\n",
       "      <td>1</td>\n",
       "      <td>0</td>\n",
       "      <td>1</td>\n",
       "      <td>0</td>\n",
       "      <td>Will an AMD Wraith Stealth cooler fit on an AM...</td>\n",
       "      <td>amd wraith stealth cooler fit amd</td>\n",
       "    </tr>\n",
       "    <tr>\n",
       "      <th>4</th>\n",
       "      <td>Amd</td>\n",
       "      <td>0</td>\n",
       "      <td>0</td>\n",
       "      <td>1</td>\n",
       "      <td>0</td>\n",
       "      <td>What does 1.4v do to a 3600xt? Let's find out.</td>\n",
       "      <td>v xt let find</td>\n",
       "    </tr>\n",
       "  </tbody>\n",
       "</table>\n",
       "</div>"
      ],
      "text/plain": [
       "  subreddit  num_comments  num_crossposts  score  total_awards_received  \\\n",
       "0       Amd             0               0      1                      0   \n",
       "1       Amd             0               0      1                      0   \n",
       "2       Amd             0               0      1                      0   \n",
       "3       Amd             1               0      1                      0   \n",
       "4       Amd             0               0      1                      0   \n",
       "\n",
       "                                      title_selftext  \\\n",
       "0                                     3700x vs 5600x   \n",
       "1  How much is the difference between Amd 7 5800 ...   \n",
       "2                              RX 6800 vs RX 6700 XT   \n",
       "3  Will an AMD Wraith Stealth cooler fit on an AM...   \n",
       "4     What does 1.4v do to a 3600xt? Let's find out.   \n",
       "\n",
       "                         cleaned_texts  \n",
       "0                                x v x  \n",
       "1  much difference amd v x worth pay x  \n",
       "2                           rx v rx xt  \n",
       "3    amd wraith stealth cooler fit amd  \n",
       "4                        v xt let find  "
      ]
     },
     "execution_count": 29,
     "metadata": {},
     "output_type": "execute_result"
    }
   ],
   "source": [
    "amd.head()"
   ]
  },
  {
   "cell_type": "code",
   "execution_count": 30,
   "metadata": {},
   "outputs": [
    {
     "data": {
      "text/html": [
       "<div>\n",
       "<style scoped>\n",
       "    .dataframe tbody tr th:only-of-type {\n",
       "        vertical-align: middle;\n",
       "    }\n",
       "\n",
       "    .dataframe tbody tr th {\n",
       "        vertical-align: top;\n",
       "    }\n",
       "\n",
       "    .dataframe thead th {\n",
       "        text-align: right;\n",
       "    }\n",
       "</style>\n",
       "<table border=\"1\" class=\"dataframe\">\n",
       "  <thead>\n",
       "    <tr style=\"text-align: right;\">\n",
       "      <th></th>\n",
       "      <th>subreddit</th>\n",
       "      <th>num_comments</th>\n",
       "      <th>num_crossposts</th>\n",
       "      <th>score</th>\n",
       "      <th>total_awards_received</th>\n",
       "      <th>title_selftext</th>\n",
       "      <th>cleaned_texts</th>\n",
       "    </tr>\n",
       "  </thead>\n",
       "  <tbody>\n",
       "    <tr>\n",
       "      <th>0</th>\n",
       "      <td>nvidia</td>\n",
       "      <td>0</td>\n",
       "      <td>0</td>\n",
       "      <td>1</td>\n",
       "      <td>0</td>\n",
       "      <td>GFN Thursday: 14 New Games Join GeForce NOW</td>\n",
       "      <td>gfn thursday game join geforce</td>\n",
       "    </tr>\n",
       "    <tr>\n",
       "      <th>1</th>\n",
       "      <td>nvidia</td>\n",
       "      <td>0</td>\n",
       "      <td>0</td>\n",
       "      <td>1</td>\n",
       "      <td>0</td>\n",
       "      <td>Where to buy GPU in ItalyHello everyone i'm fr...</td>\n",
       "      <td>buy gpu italyhello everyone brazil planning tr...</td>\n",
       "    </tr>\n",
       "    <tr>\n",
       "      <th>2</th>\n",
       "      <td>nvidia</td>\n",
       "      <td>0</td>\n",
       "      <td>0</td>\n",
       "      <td>1</td>\n",
       "      <td>0</td>\n",
       "      <td>Really bad performance in gta 5 onlyI hadn’t p...</td>\n",
       "      <td>really bad performance gta onlyi played gta ye...</td>\n",
       "    </tr>\n",
       "    <tr>\n",
       "      <th>3</th>\n",
       "      <td>nvidia</td>\n",
       "      <td>0</td>\n",
       "      <td>0</td>\n",
       "      <td>1</td>\n",
       "      <td>0</td>\n",
       "      <td>Unlocking gtx 1660ti I need  help me with unlo...</td>\n",
       "      <td>unlocking gtx ti need help unlocking power tem...</td>\n",
       "    </tr>\n",
       "    <tr>\n",
       "      <th>4</th>\n",
       "      <td>nvidia</td>\n",
       "      <td>0</td>\n",
       "      <td>0</td>\n",
       "      <td>1</td>\n",
       "      <td>0</td>\n",
       "      <td>Why is my Geforce Experience doing this?</td>\n",
       "      <td>geforce experience</td>\n",
       "    </tr>\n",
       "  </tbody>\n",
       "</table>\n",
       "</div>"
      ],
      "text/plain": [
       "  subreddit  num_comments  num_crossposts  score  total_awards_received  \\\n",
       "0    nvidia             0               0      1                      0   \n",
       "1    nvidia             0               0      1                      0   \n",
       "2    nvidia             0               0      1                      0   \n",
       "3    nvidia             0               0      1                      0   \n",
       "4    nvidia             0               0      1                      0   \n",
       "\n",
       "                                      title_selftext  \\\n",
       "0        GFN Thursday: 14 New Games Join GeForce NOW   \n",
       "1  Where to buy GPU in ItalyHello everyone i'm fr...   \n",
       "2  Really bad performance in gta 5 onlyI hadn’t p...   \n",
       "3  Unlocking gtx 1660ti I need  help me with unlo...   \n",
       "4           Why is my Geforce Experience doing this?   \n",
       "\n",
       "                                       cleaned_texts  \n",
       "0                     gfn thursday game join geforce  \n",
       "1  buy gpu italyhello everyone brazil planning tr...  \n",
       "2  really bad performance gta onlyi played gta ye...  \n",
       "3  unlocking gtx ti need help unlocking power tem...  \n",
       "4                                 geforce experience  "
      ]
     },
     "execution_count": 30,
     "metadata": {},
     "output_type": "execute_result"
    }
   ],
   "source": [
    "nvidia.head()"
   ]
  },
  {
   "cell_type": "code",
   "execution_count": 31,
   "metadata": {},
   "outputs": [],
   "source": [
    "#lowercase the 'subreddit' column\n",
    "amd['subreddit'] = amd['subreddit'].apply(lambda cell: cell.lower())\n",
    "nvidia['subreddit'] = nvidia['subreddit'].apply(lambda cell: cell.lower())"
   ]
  },
  {
   "cell_type": "code",
   "execution_count": 32,
   "metadata": {},
   "outputs": [
    {
     "data": {
      "text/html": [
       "<div>\n",
       "<style scoped>\n",
       "    .dataframe tbody tr th:only-of-type {\n",
       "        vertical-align: middle;\n",
       "    }\n",
       "\n",
       "    .dataframe tbody tr th {\n",
       "        vertical-align: top;\n",
       "    }\n",
       "\n",
       "    .dataframe thead th {\n",
       "        text-align: right;\n",
       "    }\n",
       "</style>\n",
       "<table border=\"1\" class=\"dataframe\">\n",
       "  <thead>\n",
       "    <tr style=\"text-align: right;\">\n",
       "      <th></th>\n",
       "      <th>subreddit</th>\n",
       "      <th>num_comments</th>\n",
       "      <th>num_crossposts</th>\n",
       "      <th>score</th>\n",
       "      <th>total_awards_received</th>\n",
       "      <th>title_selftext</th>\n",
       "      <th>cleaned_texts</th>\n",
       "    </tr>\n",
       "  </thead>\n",
       "  <tbody>\n",
       "    <tr>\n",
       "      <th>0</th>\n",
       "      <td>amd</td>\n",
       "      <td>0</td>\n",
       "      <td>0</td>\n",
       "      <td>1</td>\n",
       "      <td>0</td>\n",
       "      <td>3700x vs 5600x</td>\n",
       "      <td>x v x</td>\n",
       "    </tr>\n",
       "    <tr>\n",
       "      <th>1</th>\n",
       "      <td>amd</td>\n",
       "      <td>0</td>\n",
       "      <td>0</td>\n",
       "      <td>1</td>\n",
       "      <td>0</td>\n",
       "      <td>How much is the difference between Amd 7 5800 ...</td>\n",
       "      <td>much difference amd v x worth pay x</td>\n",
       "    </tr>\n",
       "    <tr>\n",
       "      <th>2</th>\n",
       "      <td>amd</td>\n",
       "      <td>0</td>\n",
       "      <td>0</td>\n",
       "      <td>1</td>\n",
       "      <td>0</td>\n",
       "      <td>RX 6800 vs RX 6700 XT</td>\n",
       "      <td>rx v rx xt</td>\n",
       "    </tr>\n",
       "    <tr>\n",
       "      <th>3</th>\n",
       "      <td>amd</td>\n",
       "      <td>1</td>\n",
       "      <td>0</td>\n",
       "      <td>1</td>\n",
       "      <td>0</td>\n",
       "      <td>Will an AMD Wraith Stealth cooler fit on an AM...</td>\n",
       "      <td>amd wraith stealth cooler fit amd</td>\n",
       "    </tr>\n",
       "    <tr>\n",
       "      <th>4</th>\n",
       "      <td>amd</td>\n",
       "      <td>0</td>\n",
       "      <td>0</td>\n",
       "      <td>1</td>\n",
       "      <td>0</td>\n",
       "      <td>What does 1.4v do to a 3600xt? Let's find out.</td>\n",
       "      <td>v xt let find</td>\n",
       "    </tr>\n",
       "  </tbody>\n",
       "</table>\n",
       "</div>"
      ],
      "text/plain": [
       "  subreddit  num_comments  num_crossposts  score  total_awards_received  \\\n",
       "0       amd             0               0      1                      0   \n",
       "1       amd             0               0      1                      0   \n",
       "2       amd             0               0      1                      0   \n",
       "3       amd             1               0      1                      0   \n",
       "4       amd             0               0      1                      0   \n",
       "\n",
       "                                      title_selftext  \\\n",
       "0                                     3700x vs 5600x   \n",
       "1  How much is the difference between Amd 7 5800 ...   \n",
       "2                              RX 6800 vs RX 6700 XT   \n",
       "3  Will an AMD Wraith Stealth cooler fit on an AM...   \n",
       "4     What does 1.4v do to a 3600xt? Let's find out.   \n",
       "\n",
       "                         cleaned_texts  \n",
       "0                                x v x  \n",
       "1  much difference amd v x worth pay x  \n",
       "2                           rx v rx xt  \n",
       "3    amd wraith stealth cooler fit amd  \n",
       "4                        v xt let find  "
      ]
     },
     "execution_count": 32,
     "metadata": {},
     "output_type": "execute_result"
    }
   ],
   "source": [
    "amd.head()"
   ]
  },
  {
   "cell_type": "code",
   "execution_count": 33,
   "metadata": {
    "scrolled": true
   },
   "outputs": [
    {
     "data": {
      "text/html": [
       "<div>\n",
       "<style scoped>\n",
       "    .dataframe tbody tr th:only-of-type {\n",
       "        vertical-align: middle;\n",
       "    }\n",
       "\n",
       "    .dataframe tbody tr th {\n",
       "        vertical-align: top;\n",
       "    }\n",
       "\n",
       "    .dataframe thead th {\n",
       "        text-align: right;\n",
       "    }\n",
       "</style>\n",
       "<table border=\"1\" class=\"dataframe\">\n",
       "  <thead>\n",
       "    <tr style=\"text-align: right;\">\n",
       "      <th></th>\n",
       "      <th>subreddit</th>\n",
       "      <th>num_comments</th>\n",
       "      <th>num_crossposts</th>\n",
       "      <th>score</th>\n",
       "      <th>total_awards_received</th>\n",
       "      <th>title_selftext</th>\n",
       "      <th>cleaned_texts</th>\n",
       "    </tr>\n",
       "  </thead>\n",
       "  <tbody>\n",
       "    <tr>\n",
       "      <th>0</th>\n",
       "      <td>nvidia</td>\n",
       "      <td>0</td>\n",
       "      <td>0</td>\n",
       "      <td>1</td>\n",
       "      <td>0</td>\n",
       "      <td>GFN Thursday: 14 New Games Join GeForce NOW</td>\n",
       "      <td>gfn thursday game join geforce</td>\n",
       "    </tr>\n",
       "    <tr>\n",
       "      <th>1</th>\n",
       "      <td>nvidia</td>\n",
       "      <td>0</td>\n",
       "      <td>0</td>\n",
       "      <td>1</td>\n",
       "      <td>0</td>\n",
       "      <td>Where to buy GPU in ItalyHello everyone i'm fr...</td>\n",
       "      <td>buy gpu italyhello everyone brazil planning tr...</td>\n",
       "    </tr>\n",
       "    <tr>\n",
       "      <th>2</th>\n",
       "      <td>nvidia</td>\n",
       "      <td>0</td>\n",
       "      <td>0</td>\n",
       "      <td>1</td>\n",
       "      <td>0</td>\n",
       "      <td>Really bad performance in gta 5 onlyI hadn’t p...</td>\n",
       "      <td>really bad performance gta onlyi played gta ye...</td>\n",
       "    </tr>\n",
       "    <tr>\n",
       "      <th>3</th>\n",
       "      <td>nvidia</td>\n",
       "      <td>0</td>\n",
       "      <td>0</td>\n",
       "      <td>1</td>\n",
       "      <td>0</td>\n",
       "      <td>Unlocking gtx 1660ti I need  help me with unlo...</td>\n",
       "      <td>unlocking gtx ti need help unlocking power tem...</td>\n",
       "    </tr>\n",
       "    <tr>\n",
       "      <th>4</th>\n",
       "      <td>nvidia</td>\n",
       "      <td>0</td>\n",
       "      <td>0</td>\n",
       "      <td>1</td>\n",
       "      <td>0</td>\n",
       "      <td>Why is my Geforce Experience doing this?</td>\n",
       "      <td>geforce experience</td>\n",
       "    </tr>\n",
       "  </tbody>\n",
       "</table>\n",
       "</div>"
      ],
      "text/plain": [
       "  subreddit  num_comments  num_crossposts  score  total_awards_received  \\\n",
       "0    nvidia             0               0      1                      0   \n",
       "1    nvidia             0               0      1                      0   \n",
       "2    nvidia             0               0      1                      0   \n",
       "3    nvidia             0               0      1                      0   \n",
       "4    nvidia             0               0      1                      0   \n",
       "\n",
       "                                      title_selftext  \\\n",
       "0        GFN Thursday: 14 New Games Join GeForce NOW   \n",
       "1  Where to buy GPU in ItalyHello everyone i'm fr...   \n",
       "2  Really bad performance in gta 5 onlyI hadn’t p...   \n",
       "3  Unlocking gtx 1660ti I need  help me with unlo...   \n",
       "4           Why is my Geforce Experience doing this?   \n",
       "\n",
       "                                       cleaned_texts  \n",
       "0                     gfn thursday game join geforce  \n",
       "1  buy gpu italyhello everyone brazil planning tr...  \n",
       "2  really bad performance gta onlyi played gta ye...  \n",
       "3  unlocking gtx ti need help unlocking power tem...  \n",
       "4                                 geforce experience  "
      ]
     },
     "execution_count": 33,
     "metadata": {},
     "output_type": "execute_result"
    }
   ],
   "source": [
    "nvidia.head()"
   ]
  },
  {
   "cell_type": "markdown",
   "metadata": {},
   "source": [
    "Reorder the columns so that the text columns are side-by-side"
   ]
  },
  {
   "cell_type": "code",
   "execution_count": 34,
   "metadata": {},
   "outputs": [],
   "source": [
    "amd = amd[['subreddit', 'num_comments', 'num_crossposts', 'score', 'total_awards_received', 'title_selftext', 'cleaned_texts']]"
   ]
  },
  {
   "cell_type": "code",
   "execution_count": 35,
   "metadata": {},
   "outputs": [],
   "source": [
    "nvidia = nvidia[['subreddit', 'num_comments', 'num_crossposts', 'score', 'total_awards_received', 'title_selftext', 'cleaned_texts']]"
   ]
  },
  {
   "cell_type": "code",
   "execution_count": 36,
   "metadata": {},
   "outputs": [
    {
     "data": {
      "text/html": [
       "<div>\n",
       "<style scoped>\n",
       "    .dataframe tbody tr th:only-of-type {\n",
       "        vertical-align: middle;\n",
       "    }\n",
       "\n",
       "    .dataframe tbody tr th {\n",
       "        vertical-align: top;\n",
       "    }\n",
       "\n",
       "    .dataframe thead th {\n",
       "        text-align: right;\n",
       "    }\n",
       "</style>\n",
       "<table border=\"1\" class=\"dataframe\">\n",
       "  <thead>\n",
       "    <tr style=\"text-align: right;\">\n",
       "      <th></th>\n",
       "      <th>subreddit</th>\n",
       "      <th>num_comments</th>\n",
       "      <th>num_crossposts</th>\n",
       "      <th>score</th>\n",
       "      <th>total_awards_received</th>\n",
       "      <th>title_selftext</th>\n",
       "      <th>cleaned_texts</th>\n",
       "    </tr>\n",
       "  </thead>\n",
       "  <tbody>\n",
       "    <tr>\n",
       "      <th>0</th>\n",
       "      <td>amd</td>\n",
       "      <td>0</td>\n",
       "      <td>0</td>\n",
       "      <td>1</td>\n",
       "      <td>0</td>\n",
       "      <td>3700x vs 5600x</td>\n",
       "      <td>x v x</td>\n",
       "    </tr>\n",
       "    <tr>\n",
       "      <th>1</th>\n",
       "      <td>amd</td>\n",
       "      <td>0</td>\n",
       "      <td>0</td>\n",
       "      <td>1</td>\n",
       "      <td>0</td>\n",
       "      <td>How much is the difference between Amd 7 5800 ...</td>\n",
       "      <td>much difference amd v x worth pay x</td>\n",
       "    </tr>\n",
       "    <tr>\n",
       "      <th>2</th>\n",
       "      <td>amd</td>\n",
       "      <td>0</td>\n",
       "      <td>0</td>\n",
       "      <td>1</td>\n",
       "      <td>0</td>\n",
       "      <td>RX 6800 vs RX 6700 XT</td>\n",
       "      <td>rx v rx xt</td>\n",
       "    </tr>\n",
       "    <tr>\n",
       "      <th>3</th>\n",
       "      <td>amd</td>\n",
       "      <td>1</td>\n",
       "      <td>0</td>\n",
       "      <td>1</td>\n",
       "      <td>0</td>\n",
       "      <td>Will an AMD Wraith Stealth cooler fit on an AM...</td>\n",
       "      <td>amd wraith stealth cooler fit amd</td>\n",
       "    </tr>\n",
       "    <tr>\n",
       "      <th>4</th>\n",
       "      <td>amd</td>\n",
       "      <td>0</td>\n",
       "      <td>0</td>\n",
       "      <td>1</td>\n",
       "      <td>0</td>\n",
       "      <td>What does 1.4v do to a 3600xt? Let's find out.</td>\n",
       "      <td>v xt let find</td>\n",
       "    </tr>\n",
       "  </tbody>\n",
       "</table>\n",
       "</div>"
      ],
      "text/plain": [
       "  subreddit  num_comments  num_crossposts  score  total_awards_received  \\\n",
       "0       amd             0               0      1                      0   \n",
       "1       amd             0               0      1                      0   \n",
       "2       amd             0               0      1                      0   \n",
       "3       amd             1               0      1                      0   \n",
       "4       amd             0               0      1                      0   \n",
       "\n",
       "                                      title_selftext  \\\n",
       "0                                     3700x vs 5600x   \n",
       "1  How much is the difference between Amd 7 5800 ...   \n",
       "2                              RX 6800 vs RX 6700 XT   \n",
       "3  Will an AMD Wraith Stealth cooler fit on an AM...   \n",
       "4     What does 1.4v do to a 3600xt? Let's find out.   \n",
       "\n",
       "                         cleaned_texts  \n",
       "0                                x v x  \n",
       "1  much difference amd v x worth pay x  \n",
       "2                           rx v rx xt  \n",
       "3    amd wraith stealth cooler fit amd  \n",
       "4                        v xt let find  "
      ]
     },
     "execution_count": 36,
     "metadata": {},
     "output_type": "execute_result"
    }
   ],
   "source": [
    "amd.head()"
   ]
  },
  {
   "cell_type": "code",
   "execution_count": 37,
   "metadata": {
    "scrolled": true
   },
   "outputs": [
    {
     "data": {
      "text/html": [
       "<div>\n",
       "<style scoped>\n",
       "    .dataframe tbody tr th:only-of-type {\n",
       "        vertical-align: middle;\n",
       "    }\n",
       "\n",
       "    .dataframe tbody tr th {\n",
       "        vertical-align: top;\n",
       "    }\n",
       "\n",
       "    .dataframe thead th {\n",
       "        text-align: right;\n",
       "    }\n",
       "</style>\n",
       "<table border=\"1\" class=\"dataframe\">\n",
       "  <thead>\n",
       "    <tr style=\"text-align: right;\">\n",
       "      <th></th>\n",
       "      <th>subreddit</th>\n",
       "      <th>num_comments</th>\n",
       "      <th>num_crossposts</th>\n",
       "      <th>score</th>\n",
       "      <th>total_awards_received</th>\n",
       "      <th>title_selftext</th>\n",
       "      <th>cleaned_texts</th>\n",
       "    </tr>\n",
       "  </thead>\n",
       "  <tbody>\n",
       "    <tr>\n",
       "      <th>0</th>\n",
       "      <td>nvidia</td>\n",
       "      <td>0</td>\n",
       "      <td>0</td>\n",
       "      <td>1</td>\n",
       "      <td>0</td>\n",
       "      <td>GFN Thursday: 14 New Games Join GeForce NOW</td>\n",
       "      <td>gfn thursday game join geforce</td>\n",
       "    </tr>\n",
       "    <tr>\n",
       "      <th>1</th>\n",
       "      <td>nvidia</td>\n",
       "      <td>0</td>\n",
       "      <td>0</td>\n",
       "      <td>1</td>\n",
       "      <td>0</td>\n",
       "      <td>Where to buy GPU in ItalyHello everyone i'm fr...</td>\n",
       "      <td>buy gpu italyhello everyone brazil planning tr...</td>\n",
       "    </tr>\n",
       "    <tr>\n",
       "      <th>2</th>\n",
       "      <td>nvidia</td>\n",
       "      <td>0</td>\n",
       "      <td>0</td>\n",
       "      <td>1</td>\n",
       "      <td>0</td>\n",
       "      <td>Really bad performance in gta 5 onlyI hadn’t p...</td>\n",
       "      <td>really bad performance gta onlyi played gta ye...</td>\n",
       "    </tr>\n",
       "    <tr>\n",
       "      <th>3</th>\n",
       "      <td>nvidia</td>\n",
       "      <td>0</td>\n",
       "      <td>0</td>\n",
       "      <td>1</td>\n",
       "      <td>0</td>\n",
       "      <td>Unlocking gtx 1660ti I need  help me with unlo...</td>\n",
       "      <td>unlocking gtx ti need help unlocking power tem...</td>\n",
       "    </tr>\n",
       "    <tr>\n",
       "      <th>4</th>\n",
       "      <td>nvidia</td>\n",
       "      <td>0</td>\n",
       "      <td>0</td>\n",
       "      <td>1</td>\n",
       "      <td>0</td>\n",
       "      <td>Why is my Geforce Experience doing this?</td>\n",
       "      <td>geforce experience</td>\n",
       "    </tr>\n",
       "  </tbody>\n",
       "</table>\n",
       "</div>"
      ],
      "text/plain": [
       "  subreddit  num_comments  num_crossposts  score  total_awards_received  \\\n",
       "0    nvidia             0               0      1                      0   \n",
       "1    nvidia             0               0      1                      0   \n",
       "2    nvidia             0               0      1                      0   \n",
       "3    nvidia             0               0      1                      0   \n",
       "4    nvidia             0               0      1                      0   \n",
       "\n",
       "                                      title_selftext  \\\n",
       "0        GFN Thursday: 14 New Games Join GeForce NOW   \n",
       "1  Where to buy GPU in ItalyHello everyone i'm fr...   \n",
       "2  Really bad performance in gta 5 onlyI hadn’t p...   \n",
       "3  Unlocking gtx 1660ti I need  help me with unlo...   \n",
       "4           Why is my Geforce Experience doing this?   \n",
       "\n",
       "                                       cleaned_texts  \n",
       "0                     gfn thursday game join geforce  \n",
       "1  buy gpu italyhello everyone brazil planning tr...  \n",
       "2  really bad performance gta onlyi played gta ye...  \n",
       "3  unlocking gtx ti need help unlocking power tem...  \n",
       "4                                 geforce experience  "
      ]
     },
     "execution_count": 37,
     "metadata": {},
     "output_type": "execute_result"
    }
   ],
   "source": [
    "nvidia.head()"
   ]
  },
  {
   "cell_type": "markdown",
   "metadata": {},
   "source": [
    "Changing 'subreddit' column values to numerical format for modelling purposes.\n",
    "\n",
    "Values changed to:\n",
    "\n",
    "amd = 1\n",
    "\n",
    "nvidia = 0"
   ]
  },
  {
   "cell_type": "code",
   "execution_count": 38,
   "metadata": {},
   "outputs": [],
   "source": [
    "amd['subreddit'] = amd['subreddit'].map({'amd': 1})"
   ]
  },
  {
   "cell_type": "code",
   "execution_count": 39,
   "metadata": {},
   "outputs": [],
   "source": [
    "nvidia['subreddit'] = nvidia['subreddit'].map({'nvidia': 0})"
   ]
  },
  {
   "cell_type": "code",
   "execution_count": 40,
   "metadata": {},
   "outputs": [
    {
     "data": {
      "text/html": [
       "<div>\n",
       "<style scoped>\n",
       "    .dataframe tbody tr th:only-of-type {\n",
       "        vertical-align: middle;\n",
       "    }\n",
       "\n",
       "    .dataframe tbody tr th {\n",
       "        vertical-align: top;\n",
       "    }\n",
       "\n",
       "    .dataframe thead th {\n",
       "        text-align: right;\n",
       "    }\n",
       "</style>\n",
       "<table border=\"1\" class=\"dataframe\">\n",
       "  <thead>\n",
       "    <tr style=\"text-align: right;\">\n",
       "      <th></th>\n",
       "      <th>subreddit</th>\n",
       "      <th>num_comments</th>\n",
       "      <th>num_crossposts</th>\n",
       "      <th>score</th>\n",
       "      <th>total_awards_received</th>\n",
       "      <th>title_selftext</th>\n",
       "      <th>cleaned_texts</th>\n",
       "    </tr>\n",
       "  </thead>\n",
       "  <tbody>\n",
       "    <tr>\n",
       "      <th>0</th>\n",
       "      <td>1</td>\n",
       "      <td>0</td>\n",
       "      <td>0</td>\n",
       "      <td>1</td>\n",
       "      <td>0</td>\n",
       "      <td>3700x vs 5600x</td>\n",
       "      <td>x v x</td>\n",
       "    </tr>\n",
       "    <tr>\n",
       "      <th>1</th>\n",
       "      <td>1</td>\n",
       "      <td>0</td>\n",
       "      <td>0</td>\n",
       "      <td>1</td>\n",
       "      <td>0</td>\n",
       "      <td>How much is the difference between Amd 7 5800 ...</td>\n",
       "      <td>much difference amd v x worth pay x</td>\n",
       "    </tr>\n",
       "    <tr>\n",
       "      <th>2</th>\n",
       "      <td>1</td>\n",
       "      <td>0</td>\n",
       "      <td>0</td>\n",
       "      <td>1</td>\n",
       "      <td>0</td>\n",
       "      <td>RX 6800 vs RX 6700 XT</td>\n",
       "      <td>rx v rx xt</td>\n",
       "    </tr>\n",
       "    <tr>\n",
       "      <th>3</th>\n",
       "      <td>1</td>\n",
       "      <td>1</td>\n",
       "      <td>0</td>\n",
       "      <td>1</td>\n",
       "      <td>0</td>\n",
       "      <td>Will an AMD Wraith Stealth cooler fit on an AM...</td>\n",
       "      <td>amd wraith stealth cooler fit amd</td>\n",
       "    </tr>\n",
       "    <tr>\n",
       "      <th>4</th>\n",
       "      <td>1</td>\n",
       "      <td>0</td>\n",
       "      <td>0</td>\n",
       "      <td>1</td>\n",
       "      <td>0</td>\n",
       "      <td>What does 1.4v do to a 3600xt? Let's find out.</td>\n",
       "      <td>v xt let find</td>\n",
       "    </tr>\n",
       "  </tbody>\n",
       "</table>\n",
       "</div>"
      ],
      "text/plain": [
       "   subreddit  num_comments  num_crossposts  score  total_awards_received  \\\n",
       "0          1             0               0      1                      0   \n",
       "1          1             0               0      1                      0   \n",
       "2          1             0               0      1                      0   \n",
       "3          1             1               0      1                      0   \n",
       "4          1             0               0      1                      0   \n",
       "\n",
       "                                      title_selftext  \\\n",
       "0                                     3700x vs 5600x   \n",
       "1  How much is the difference between Amd 7 5800 ...   \n",
       "2                              RX 6800 vs RX 6700 XT   \n",
       "3  Will an AMD Wraith Stealth cooler fit on an AM...   \n",
       "4     What does 1.4v do to a 3600xt? Let's find out.   \n",
       "\n",
       "                         cleaned_texts  \n",
       "0                                x v x  \n",
       "1  much difference amd v x worth pay x  \n",
       "2                           rx v rx xt  \n",
       "3    amd wraith stealth cooler fit amd  \n",
       "4                        v xt let find  "
      ]
     },
     "execution_count": 40,
     "metadata": {},
     "output_type": "execute_result"
    }
   ],
   "source": [
    "amd.head()"
   ]
  },
  {
   "cell_type": "code",
   "execution_count": 41,
   "metadata": {
    "scrolled": true
   },
   "outputs": [
    {
     "data": {
      "text/html": [
       "<div>\n",
       "<style scoped>\n",
       "    .dataframe tbody tr th:only-of-type {\n",
       "        vertical-align: middle;\n",
       "    }\n",
       "\n",
       "    .dataframe tbody tr th {\n",
       "        vertical-align: top;\n",
       "    }\n",
       "\n",
       "    .dataframe thead th {\n",
       "        text-align: right;\n",
       "    }\n",
       "</style>\n",
       "<table border=\"1\" class=\"dataframe\">\n",
       "  <thead>\n",
       "    <tr style=\"text-align: right;\">\n",
       "      <th></th>\n",
       "      <th>subreddit</th>\n",
       "      <th>num_comments</th>\n",
       "      <th>num_crossposts</th>\n",
       "      <th>score</th>\n",
       "      <th>total_awards_received</th>\n",
       "      <th>title_selftext</th>\n",
       "      <th>cleaned_texts</th>\n",
       "    </tr>\n",
       "  </thead>\n",
       "  <tbody>\n",
       "    <tr>\n",
       "      <th>0</th>\n",
       "      <td>0</td>\n",
       "      <td>0</td>\n",
       "      <td>0</td>\n",
       "      <td>1</td>\n",
       "      <td>0</td>\n",
       "      <td>GFN Thursday: 14 New Games Join GeForce NOW</td>\n",
       "      <td>gfn thursday game join geforce</td>\n",
       "    </tr>\n",
       "    <tr>\n",
       "      <th>1</th>\n",
       "      <td>0</td>\n",
       "      <td>0</td>\n",
       "      <td>0</td>\n",
       "      <td>1</td>\n",
       "      <td>0</td>\n",
       "      <td>Where to buy GPU in ItalyHello everyone i'm fr...</td>\n",
       "      <td>buy gpu italyhello everyone brazil planning tr...</td>\n",
       "    </tr>\n",
       "    <tr>\n",
       "      <th>2</th>\n",
       "      <td>0</td>\n",
       "      <td>0</td>\n",
       "      <td>0</td>\n",
       "      <td>1</td>\n",
       "      <td>0</td>\n",
       "      <td>Really bad performance in gta 5 onlyI hadn’t p...</td>\n",
       "      <td>really bad performance gta onlyi played gta ye...</td>\n",
       "    </tr>\n",
       "    <tr>\n",
       "      <th>3</th>\n",
       "      <td>0</td>\n",
       "      <td>0</td>\n",
       "      <td>0</td>\n",
       "      <td>1</td>\n",
       "      <td>0</td>\n",
       "      <td>Unlocking gtx 1660ti I need  help me with unlo...</td>\n",
       "      <td>unlocking gtx ti need help unlocking power tem...</td>\n",
       "    </tr>\n",
       "    <tr>\n",
       "      <th>4</th>\n",
       "      <td>0</td>\n",
       "      <td>0</td>\n",
       "      <td>0</td>\n",
       "      <td>1</td>\n",
       "      <td>0</td>\n",
       "      <td>Why is my Geforce Experience doing this?</td>\n",
       "      <td>geforce experience</td>\n",
       "    </tr>\n",
       "  </tbody>\n",
       "</table>\n",
       "</div>"
      ],
      "text/plain": [
       "   subreddit  num_comments  num_crossposts  score  total_awards_received  \\\n",
       "0          0             0               0      1                      0   \n",
       "1          0             0               0      1                      0   \n",
       "2          0             0               0      1                      0   \n",
       "3          0             0               0      1                      0   \n",
       "4          0             0               0      1                      0   \n",
       "\n",
       "                                      title_selftext  \\\n",
       "0        GFN Thursday: 14 New Games Join GeForce NOW   \n",
       "1  Where to buy GPU in ItalyHello everyone i'm fr...   \n",
       "2  Really bad performance in gta 5 onlyI hadn’t p...   \n",
       "3  Unlocking gtx 1660ti I need  help me with unlo...   \n",
       "4           Why is my Geforce Experience doing this?   \n",
       "\n",
       "                                       cleaned_texts  \n",
       "0                     gfn thursday game join geforce  \n",
       "1  buy gpu italyhello everyone brazil planning tr...  \n",
       "2  really bad performance gta onlyi played gta ye...  \n",
       "3  unlocking gtx ti need help unlocking power tem...  \n",
       "4                                 geforce experience  "
      ]
     },
     "execution_count": 41,
     "metadata": {},
     "output_type": "execute_result"
    }
   ],
   "source": [
    "nvidia.head()"
   ]
  },
  {
   "cell_type": "markdown",
   "metadata": {},
   "source": [
    "We will drop some rows to keep the number of rows for both subreddits to 10 000 each as we want to have a balanced dataframe to work with when modelling."
   ]
  },
  {
   "cell_type": "code",
   "execution_count": 42,
   "metadata": {},
   "outputs": [],
   "source": [
    "amd = amd.head(10_000)"
   ]
  },
  {
   "cell_type": "code",
   "execution_count": 43,
   "metadata": {},
   "outputs": [],
   "source": [
    "nvidia = nvidia.head(10_000)"
   ]
  },
  {
   "cell_type": "code",
   "execution_count": 44,
   "metadata": {},
   "outputs": [
    {
     "data": {
      "text/plain": [
       "(10000, 7)"
      ]
     },
     "execution_count": 44,
     "metadata": {},
     "output_type": "execute_result"
    }
   ],
   "source": [
    "amd.shape"
   ]
  },
  {
   "cell_type": "code",
   "execution_count": 45,
   "metadata": {},
   "outputs": [
    {
     "data": {
      "text/plain": [
       "(10000, 7)"
      ]
     },
     "execution_count": 45,
     "metadata": {},
     "output_type": "execute_result"
    }
   ],
   "source": [
    "nvidia.shape"
   ]
  },
  {
   "cell_type": "markdown",
   "metadata": {},
   "source": [
    "## Save Cleaned Data into CSV"
   ]
  },
  {
   "cell_type": "markdown",
   "metadata": {},
   "source": [
    "The cleaned data will be used in a separate Jupyter Notebook, part 3C, for EDA, Data Visualisation, Vectorisation and Modelling."
   ]
  },
  {
   "cell_type": "code",
   "execution_count": 46,
   "metadata": {},
   "outputs": [],
   "source": [
    "amd.to_csv('../data/amd_cleaned.csv', index=False)"
   ]
  },
  {
   "cell_type": "code",
   "execution_count": 47,
   "metadata": {},
   "outputs": [],
   "source": [
    "nvidia.to_csv('../data/nvidia_cleaned.csv', index=False)"
   ]
  }
 ],
 "metadata": {
  "kernelspec": {
   "display_name": "Python 3",
   "language": "python",
   "name": "python3"
  },
  "language_info": {
   "codemirror_mode": {
    "name": "ipython",
    "version": 3
   },
   "file_extension": ".py",
   "mimetype": "text/x-python",
   "name": "python",
   "nbconvert_exporter": "python",
   "pygments_lexer": "ipython3",
   "version": "3.8.8"
  }
 },
 "nbformat": 4,
 "nbformat_minor": 4
}
